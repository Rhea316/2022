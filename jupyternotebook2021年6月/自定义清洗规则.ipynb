{
 "cells": [
  {
   "cell_type": "code",
   "execution_count": 6,
   "metadata": {
    "scrolled": true
   },
   "outputs": [
    {
     "name": "stdout",
     "output_type": "stream",
     "text": [
      "2\n",
      "0      2008-03-05\n",
      "1      2008-07-30\n",
      "2      2008-07-30\n",
      "3      2008-07-31\n",
      "4      2008-07-31\n",
      "5      2008-08-04\n",
      "6      2008-08-04\n",
      "7      2008-08-04\n",
      "8      2008-08-04\n",
      "9      2008-08-04\n",
      "10     2008-08-04\n",
      "11     2008-08-04\n",
      "12     2008-08-04\n",
      "13     2008-08-04\n",
      "14     2008-08-04\n",
      "15     2008-08-04\n",
      "16     2008-08-04\n",
      "17     2008-08-04\n",
      "18     2008-08-04\n",
      "19     2008-08-04\n",
      "20     2008-08-04\n",
      "21     2008-08-04\n",
      "22     2008-08-04\n",
      "23     2008-08-04\n",
      "24     2008-08-04\n",
      "25     2008-08-04\n",
      "26     2008-08-04\n",
      "27     2008-08-04\n",
      "28     2008-08-04\n",
      "29     2008-08-04\n",
      "          ...    \n",
      "170    2008-08-04\n",
      "171    2008-08-04\n",
      "172    2008-08-04\n",
      "173    2008-08-04\n",
      "174    2008-08-04\n",
      "175    2008-08-04\n",
      "176    2008-08-04\n",
      "177    2008-08-04\n",
      "178    2008-08-05\n",
      "179    2008-08-05\n",
      "180    2008-08-05\n",
      "181    2008-08-05\n",
      "182    2008-08-05\n",
      "183    2008-08-05\n",
      "184    2008-08-05\n",
      "185    2008-08-05\n",
      "186    2008-08-05\n",
      "187    2008-08-05\n",
      "188    2008-08-05\n",
      "189    2008-08-05\n",
      "190    2008-08-05\n",
      "191    2008-08-05\n",
      "192    2008-08-05\n",
      "193    2008-08-05\n",
      "194    2008-08-05\n",
      "195    2008-08-05\n",
      "196    2008-08-05\n",
      "197    2008-08-05\n",
      "198    2008-08-05\n",
      "199    2008-08-05\n",
      "Name: 交易日期, Length: 200, dtype: object\n"
     ]
    }
   ],
   "source": [
    "import sys\n",
    "import os\n",
    "import pandas as pd\n",
    "import numpy as np\n",
    "\n",
    "def script_type():\n",
    "    return \"column\"\n",
    "\n",
    "\n",
    "def custom_exec(org_data,currentTitleIndex, data_interface):\n",
    "    print(currentTitleIndex)\n",
    "    #这里填写您的代码 org_data 是dataframe 待处理数据\n",
    "\n",
    "    #处理完之后返回一个dataframe\n",
    "    return org_data.iloc[:,currentTitleIndex]\n",
    "\n",
    "df = pd.read_csv('C:\\\\Users\\\\ThinkPad\\\\Desktop\\\\20200320_163026\\\\data.csv')\n",
    "titleindex = 2\n",
    "df = custom_exec(df, titleindex, \"\")\n",
    "print(df)"
   ]
  },
  {
   "cell_type": "code",
   "execution_count": 1,
   "metadata": {},
   "outputs": [
    {
     "name": "stdout",
     "output_type": "stream",
     "text": [
      "<class 'pandas.io.excel._base.ExcelFile'>\n"
     ]
    }
   ],
   "source": [
    "import pandas as pd\n",
    "Efile =  pd.ExcelFile('G:\\\\NT数据\\\\1\\\\爱农\\\\上海郝魏（开）\\\\上海郝魏商贸有限公司.xlsx')\n",
    "print(type(Efile))"
   ]
  },
  {
   "cell_type": "code",
   "execution_count": 6,
   "metadata": {},
   "outputs": [
    {
     "name": "stdout",
     "output_type": "stream",
     "text": [
      "0 1 2 3 4 5 6 7 8 9 10 11 12 13 14 15 16 17 18 19 20 21 22 23 24 25 26 27 28 29 30 31 32 33 34 35 36 37 38 39 40 41 42 43 44 45 46 47 48 49 50 51 52 53 54 55 56 57 58 59 60 61 62 63 64 65 66 67 68 69 70 71 72 73 74 75 76 77 78 79 80 81 82 83 84 85 86 87 88 89 90 91 92 93 94 95 96 97 98 99 100 101 102 103 104 105 106 107 108 109 110 111 112 113 114 115 116 117 118 119 120 121 122 123 124 125 126 127 128 129 130 131 132 133 134 135 136 137 138 139 140 141 142 143 144 145 146 147 148 149 150 151 152 153 154 155 156 157 158 159 160 161 162 163 164 165 166 167 168 169 170 171 172 173 174 175 176 177 178 179 180 181 182 183 184 185 186 187 188 189 190 191 192 193 194 195 196 197 198 199 200 201 202 203 204 205 206 207 208 209 210 211 212 213 214 215 216 217 218 219 220 221 222 223 224 225 226 227 228 229 230 231 232 233 234 235 236 237 238 239 240 241 242 243 244 245 246 247 248 249 250 251 252 253 254 255 256 257 258 259 260 261 262 263 264 265 266 267 268 269 270 271 272 273 274 275 276 277 278 279 280 281 282 283 284 285 286 287 288 289 290 291 292 293 294 295 296 297 298 299 300 301 302 303 304 305 306 307 308 309 310 311 312 313 314 315 316 317 318 319 320 321 322 323 324 325 326 327 328 329 330 331 332 333 334 335 336 337 338 339 340 341 342 343 344 345 346 347 348 349 350 351 352 353 354 355 356 357 358 359 360 361 362 363 364 365 366 367 368 369 370 371 372 373 374 375 376 377 378 379 380 381 382 383 384 385 386 387 388 389 390 391 392 393 394 395 396 397 398 399 400 401 402 403 404 405 406 407 408 409 410 411 412 413 414 415 416 417 418 419 420 421 422 423 424 425 426 427 428 429 430 431 432 433 434 435 436 437 438 439 440 441 442 443 444 445 446 447 448 449 450 451 452 453 454 455 456 457 458 459 460 461 462 463 464 465 466 467 468 469 470 471 472 473 474 475 476 477 478 479 480 481 482 483 484 485 486 487 488 489 490 491 492 493 494 495 496 497 498 499 500 501 502 503 504 505 506 (1211886, 32, '交易卡号', '交易账号', '查询反馈结果原因', '交易户名', '交易证件号码', '交易时间', '交易金额', '交易余额', '收付标志', '交易对手账卡号', '现金标志', '对手户名', '对手身份证号', '对手开户银行', '摘要说明', '交易币种', '交易网点名称', '交易场所', '交易发生地', '交易是否成功', '传票号', 'IP地址', 'MAC地址', '对手交易余额', '交易流水号', '渠道', '日志号', '凭证种类', '凭证号', '交易柜员号', '备注', '交易类型')\n",
      "(1094, 44, '账户开户名称', '开户人证件号码', '交易卡号', '交易账号', '账号开户时间', '账户余额', '可用余额', '币种', '开户网点代码', '开户网点', '账户状态', '炒汇标志名称', '销户日期', '账户类型', '开户联系方式', '通信地址', '联系电话', '代理人', '代理人电话', '备注', '开户省份', '开户城市', '账号开户银行', '客户代码', '法人代表', '客户工商执照号码', '法人代表证件号码', '住宅地址', '邮政编码', '代办人证件号码', '邮箱地址', '关联资金账户', '地税纳税号', '单位电话', '代办人证件类型', '住宅电话', '法人代表证件类型', '国税纳税号', '单位地址', '工作单位', '销户网点', '最后交易时间', '账户销户银行', 'path')\n",
      "(1539, 23, '客户名称', '证照类型', '证照号码', '现住址_行政区划', '单位地址', '联系电话', '联系手机', '单位电话', '住宅电话', '工作单位', '邮箱地址', '代办人姓名', '代办人证件类型', '代办人证件号码', '国税纳税号', '地税纳税号', '法人代表', '法人代表证件类型', '法人代表证件号码', '出生日期', '户籍地址', '客户工商执照号码', 'path')\n",
      "(860070, 17, '订单日期', '订单号', '创建时间', '商户号', '商户名', '商户订单号', '交易流水', '交易类型', '交易状态', '银行名称', '交易金额', '账户号', '户名', '证件号', '手机号', '终端号', 'IP', 'path')\n"
     ]
    }
   ],
   "source": [
    "import pandas as pd\n",
    "import numpy as np\n",
    "import re\n",
    "import datetime\n",
    "import os\n",
    "output_path = 'I:\\\\南通数据\\\\'\n",
    "if not os.path.exists(output_path + './资金流水'):\n",
    "    os.mkdir(output_path + './资金流水')\n",
    "\n",
    "\n",
    "all_流水 = pd.read_csv('G:\\流水完整.csv',encoding = 'utf-8',dtype = object)\n",
    "all_流水 = all_流水.applymap(lambda x: re.sub('nan','',str(x)))\n",
    "all_流水['交易金额'] = all_流水['交易金额'].map(lambda x: float(x))  #交易金额指定浮点型\n",
    "all_流水['交易余额'] = all_流水['交易余额'].map(lambda x: np.NaN if str(x)=='' else x)\n",
    "all_流水['交易余额'] = all_流水['交易余额'].map(lambda x: float(x))\n",
    "all_流水['交易时间'] = all_流水['交易时间'].map(lambda x:str(datetime.datetime.strptime(x, '%Y-%m-%d%H:%M:%S')) if len(x)== 18 else x)\n",
    "\n",
    "\n",
    "all_账户 = pd.read_excel('G:\\账户合并.xlsx',encoding = 'gbk',dtype = object)\n",
    "df_账户 = all_账户[all_账户['账户开户名称'] != '']\n",
    "df_账户['交易卡号'] = df_账户['交易卡号'].str.split('_', 1,expand = True).iloc[:,0]   # 账户开户信息中卡号去掉_后缀\n",
    "df_账户['交易卡号'] = df_账户['交易卡号'].str.split('-', 1,expand = True).iloc[:,0]  # 账户开户信息中卡号去掉-后缀\n",
    "df_账户['开户网点'][df_账户['开户网点']==''] = df_账户['账号开户银行'][df_账户['开户网点']=='']  # 网点为空用账户开户银行填充\n",
    "\n",
    "\n",
    "all_证件 = pd.read_excel('G:\\证件合并.xlsx',encoding = 'gbk',dtype = object)\n",
    "\n",
    "all_商户 = pd.read_csv('G:\\商户合并.csv',encoding = 'utf-8',dtype = 'object')\n",
    "all_商户['创建时间']=all_商户['创建时间'].map(lambda x:str(datetime.datetime.strptime(x,'%Y%m%d%H%M%S')) if len(x)== 14 else x)\n",
    "\n",
    "\n",
    "\n",
    "\n",
    "\n",
    "\n",
    "#--------------------------------------------------保留7月以后---------------------------------------------------------#\n",
    "# df = df[(df['交易时间'].str[0:4].isin(['2019']) ) & (df['交易时间'].str[5:7].isin(['07','08','09','10','11']) )]\n",
    "\n",
    "df = all_流水[(all_流水['交易时间'].str[0:4].isin(['2019','2020']) ) ]\n",
    "\n",
    "\n",
    "#--------------------------------------------------保留7月以后---------------------------------------------------------#\n",
    "\n",
    "\n",
    "df_S1 = df.groupby('交易卡号').size().reset_index()\n",
    "df_S2 = pd.DataFrame(columns = ['交易卡号','Size','False','True'])\n",
    "df_S3 = pd.DataFrame(columns = ['交易卡号','交易户名','证件号码','夜间交易次数','最早时间','最晚时间','余额','总和','净和','入向','出向','入向对手数','出向对手数','收付检验起始值','Path'])\n",
    "for i in df_S1.index:\n",
    "    df_every = df.groupby('交易卡号').get_group(df_S1['交易卡号'][i])\n",
    "    bool_S = df_every.duplicated(subset = ['交易卡号','交易时间','交易金额','交易余额','收付标志','交易对手账卡号','交易币种'],keep = 'last').value_counts()\n",
    "    df_S2.loc[i] = {'交易卡号':df_every['交易卡号'].iloc[0],\n",
    "                        'Size':df_every.shape[0],\n",
    "                        'False':bool_S[0],\n",
    "                        'True':bool_S.map(lambda x:0 if len(bool_S)==1 else bool_S[1]).values[0]\n",
    "                    }\n",
    "    df_every = df_every.drop_duplicates(subset = ['交易卡号','交易时间','交易金额','交易余额','收付标志','交易对手账卡号','交易币种'],keep = 'last')\n",
    "    df_every.to_excel(output_path+\"资金流水\\\\\" + str(df_every['交易户名'].iloc[0])+str(df_every['交易卡号'].iloc[0])+\".xlsx\",index = None)  # 拆表\n",
    "    df_night = df_every[df_every['交易时间'].str[11:13].isin(['00','01','02','03','04','05','06'])]\n",
    "    df_S3.loc[i] = {'交易卡号':df_every['交易卡号'].iloc[0],\n",
    "                    '交易户名':df_every['交易户名'].iloc[0],\n",
    "                    '证件号码':df_every['交易证件号码'].iloc[0],\n",
    "                    '夜间交易次数':len(df_night),\n",
    "                    '最早时间':df_every['交易时间'].min(),\n",
    "                    '最晚时间':df_every['交易时间'].max(),\n",
    "                    '余额':df_every['交易余额'].loc[df_every.index.max()],\n",
    "                    '总和':df_every['交易金额'].sum(),\n",
    "                    '净和':format(df_every['交易金额'][df_every['收付标志']=='进'].sum()-df_every['交易金额'][df_every['收付标志']=='出'].sum(), '.2f'),\n",
    "                    '入向':df_every['交易金额'][df_every['收付标志']=='进'].sum(),\n",
    "                    '出向':df_every['交易金额'][df_every['收付标志']=='出'].sum(),\n",
    "                    '入向对手数':len(df_every['交易对手账卡号'][df_every['收付标志']=='进'].drop_duplicates()),\n",
    "                    '出向对手数':len(df_every['交易对手账卡号'][df_every['收付标志']=='出'].drop_duplicates()),\n",
    "                    '收付检验起始值':df_every['交易余额'].iloc[0]+df_every.apply(lambda x: x['交易金额'] if x['收付标志']=='出' else -x['交易金额'],axis=1).iloc[0],\n",
    "                    'Path':'\\n'.join(df_every['path'].drop_duplicates().tolist())\n",
    "                   }\n",
    "    print(i,end = ' ')\n",
    "df_S = pd.merge(df_S3,df_S2,how = 'left',on = '交易卡号')\n",
    "\n",
    "dfs_账户银行 = pd.merge(df_S,df_账户.drop_duplicates(subset='交易卡号'),how = 'left',on = '交易卡号')\n",
    "df_S['开户网点'] = dfs_账户银行['开户网点']\n",
    "df_S['账户状态'] = dfs_账户银行['账户状态']\n",
    "df_S.to_excel(output_path + \"交易统计.xlsx\",index = None)\n",
    "# 统计完了，按照六大要素+币种 删除重复项（因为手动改了-101与-102的双向交易的卡号后缀，-101出-102进这类记录会造成自实体链接，不影响）\n",
    "all_流水完整 = df.drop_duplicates(subset = ['交易卡号','交易时间','交易金额','交易余额','收付标志','交易对手账卡号','交易币种'],keep = 'last')\n",
    "# all_流水完整.to_csv(output_path + \"流水完整.csv\",index = None)\n",
    "# print(all_流水完整.shape)\n",
    "\n",
    "df_流水截取 = all_流水完整.iloc[:,:32]\n",
    "df_流水截取.to_csv(output_path + \"流水截取.csv\",index = None)\n",
    "print(df_流水截取.shape+tuple(df_流水截取.columns))\n",
    "\n",
    "df_账户截取 = df_账户[df_账户['交易卡号'].isin(all_流水完整['交易卡号'])].iloc[:,:43]\n",
    "df_账户截取.to_excel(output_path + \"账户截取.xlsx\",index = None)\n",
    "print(all_账户.shape+tuple(all_账户.columns))\n",
    "\n",
    "df_证件截取 = all_证件[all_证件['证照号码'].isin(all_流水完整['交易证件号码'])].iloc[:,:22]\n",
    "df_证件截取.to_excel(output_path + \"证件截取.xlsx\",index = None)\n",
    "print(all_证件.shape+tuple(all_证件.columns))\n",
    "\n",
    "df_商户截取 = all_商户[(all_商户['订单日期'].str[0:4].isin(['2019']) ) & (all_商户['账户号'].isin(all_流水完整['交易对手账卡号']) )].iloc[:,:17]\n",
    "df_商户截取.to_csv(output_path + \"商户截取.csv\",index = None)\n",
    "print(df_商户截取.shape+tuple(all_商户.columns))\n",
    "\n",
    "\n",
    "# all_账户.iloc[:,:43].to_excel(output_path + \"账户合并.xlsx\",index = None)\n",
    "# all_证件.iloc[:,:22].to_excel(output_path + \"证件合并.xlsx\",index = None)\n",
    "# all_商户.iloc[:,:17].to_csv(output_path + \"商户合并.csv\",index = None)\n",
    "# all_流水完整.iloc[:,:32].to_csv(output_path + \"流水完整.csv\",index = None)\n"
   ]
  },
  {
   "cell_type": "code",
   "execution_count": 4,
   "metadata": {},
   "outputs": [
    {
     "data": {
      "text/plain": [
       "'2018-12-21 12:16:36'"
      ]
     },
     "execution_count": 4,
     "metadata": {},
     "output_type": "execute_result"
    }
   ],
   "source": [
    "all_商户['创建时间'].min()"
   ]
  },
  {
   "cell_type": "code",
   "execution_count": null,
   "metadata": {},
   "outputs": [],
   "source": []
  }
 ],
 "metadata": {
  "kernelspec": {
   "display_name": "Python 3",
   "language": "python",
   "name": "python3"
  },
  "language_info": {
   "codemirror_mode": {
    "name": "ipython",
    "version": 3
   },
   "file_extension": ".py",
   "mimetype": "text/x-python",
   "name": "python",
   "nbconvert_exporter": "python",
   "pygments_lexer": "ipython3",
   "version": "3.7.6"
  }
 },
 "nbformat": 4,
 "nbformat_minor": 2
}
