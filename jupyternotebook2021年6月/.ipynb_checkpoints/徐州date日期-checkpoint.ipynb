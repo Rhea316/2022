{
 "cells": [
  {
   "cell_type": "code",
   "execution_count": 82,
   "metadata": {},
   "outputs": [],
   "source": [
    "import pandas as pd\n",
    "df = pd.read_csv('E:\\\\7.3徐州网赌\\\\流水汇总.csv', encoding = 'utf-8',engine = \"python\")"
   ]
  },
  {
   "cell_type": "code",
   "execution_count": 83,
   "metadata": {},
   "outputs": [
    {
     "data": {
      "text/plain": [
       "['交易卡号\\t',\n",
       " '交易账号\\t',\n",
       " '查询反馈结果原因\\t',\n",
       " '交易户名\\t',\n",
       " '交易证件号码\\t',\n",
       " '交易时间\\t',\n",
       " '交易金额\\t',\n",
       " '交易余额\\t',\n",
       " '收付标志\\t',\n",
       " '交易对手账卡号\\t',\n",
       " '现金标志\\t',\n",
       " '对手户名\\t',\n",
       " '对手身份证号\\t',\n",
       " '对手开户银行\\t',\n",
       " '摘要说明\\t',\n",
       " '交易币种\\t',\n",
       " '交易网点名称\\t',\n",
       " '交易场所\\t',\n",
       " '交易发生地\\t',\n",
       " '交易是否成功\\t',\n",
       " '传票号\\t',\n",
       " 'IP地址\\t',\n",
       " 'MAC地址\\t',\n",
       " '对手交易余额\\t',\n",
       " '交易流水号\\t',\n",
       " '渠道\\t',\n",
       " '日志号\\t',\n",
       " '凭证种类\\t',\n",
       " '凭证号\\t',\n",
       " '交易柜员号\\t',\n",
       " '备注\\t',\n",
       " '交易类型\\t']"
      ]
     },
     "execution_count": 83,
     "metadata": {},
     "output_type": "execute_result"
    }
   ],
   "source": [
    "df.columns[:32].tolist()"
   ]
  },
  {
   "cell_type": "code",
   "execution_count": 84,
   "metadata": {},
   "outputs": [],
   "source": [
    "df1 = df.drop_duplicates(subset = ['交易卡号\\t',\n",
    " '交易账号\\t',\n",
    " '查询反馈结果原因\\t',\n",
    " '交易户名\\t',\n",
    " '交易证件号码\\t',\n",
    " '交易时间\\t',\n",
    " '交易金额\\t',\n",
    " '交易余额\\t',\n",
    " '收付标志\\t',\n",
    " '交易对手账卡号\\t',\n",
    " '现金标志\\t',\n",
    " '对手户名\\t',\n",
    " '对手身份证号\\t',\n",
    " '对手开户银行\\t',\n",
    " '摘要说明\\t',\n",
    " '交易币种\\t',\n",
    " '交易网点名称\\t',\n",
    " '交易场所\\t',\n",
    " '交易发生地\\t',\n",
    " '交易是否成功\\t',\n",
    " '传票号\\t',\n",
    " 'IP地址\\t',\n",
    " 'MAC地址\\t',\n",
    " '对手交易余额\\t',\n",
    " '交易流水号\\t',\n",
    " '渠道\\t',\n",
    " '日志号\\t',\n",
    " '凭证种类\\t',\n",
    " '凭证号\\t',\n",
    " '交易柜员号\\t',\n",
    " '备注\\t',\n",
    " '交易类型\\t'],keep = 'last')"
   ]
  },
  {
   "cell_type": "code",
   "execution_count": 85,
   "metadata": {},
   "outputs": [],
   "source": [
    "df1.columns = df1.columns.str.strip()"
   ]
  },
  {
   "cell_type": "code",
   "execution_count": null,
   "metadata": {},
   "outputs": [],
   "source": [
    "# df1.iloc[:,0].str.strip()"
   ]
  },
  {
   "cell_type": "code",
   "execution_count": 86,
   "metadata": {},
   "outputs": [
    {
     "name": "stdout",
     "output_type": "stream",
     "text": [
      "0\n"
     ]
    },
    {
     "name": "stderr",
     "output_type": "stream",
     "text": [
      "D:\\Users\\ThinkPad\\anaconda3\\lib\\site-packages\\pandas\\core\\indexing.py:965: SettingWithCopyWarning: \n",
      "A value is trying to be set on a copy of a slice from a DataFrame.\n",
      "Try using .loc[row_indexer,col_indexer] = value instead\n",
      "\n",
      "See the caveats in the documentation: https://pandas.pydata.org/pandas-docs/stable/user_guide/indexing.html#returning-a-view-versus-a-copy\n",
      "  self.obj[item] = s\n"
     ]
    },
    {
     "name": "stdout",
     "output_type": "stream",
     "text": [
      "1\n",
      "2\n",
      "3\n",
      "4\n",
      "5\n",
      "6\n",
      "7\n",
      "8\n",
      "9\n",
      "10\n",
      "11\n",
      "12\n",
      "13\n",
      "14\n",
      "15\n",
      "16\n",
      "17\n",
      "18\n",
      "19\n",
      "20\n",
      "21\n",
      "22\n",
      "23\n",
      "24\n",
      "25\n",
      "26\n",
      "27\n",
      "28\n",
      "29\n",
      "30\n",
      "31\n",
      "32\n",
      "33\n",
      "                     交易卡号                 交易账号 查询反馈结果原因 交易户名 交易证件号码  \\\n",
      "1901473  6221575199992281  0002998009638853748       成功               \n",
      "1901474  6221575199992281  0002998009638853748       成功               \n",
      "1901475  6221575199992281  0002998009638853748       成功               \n",
      "1901476  6221575199992281  0002998009638853748       成功               \n",
      "1901477  6221575199992281  0002998009638853748       成功               \n",
      "\n",
      "                        交易时间     交易金额      交易余额 收付标志 交易对手账卡号  ...     交易流水号  \\\n",
      "1901473  2020-02-25 08:21:27  3900.00  -2903.20    出          ...  00337204   \n",
      "1901474  2020-02-21 14:00:50  3000.00  14412.80    进          ...  00749806   \n",
      "1901475  2020-02-20 09:44:05   800.00   -142.70    进          ...  00340699   \n",
      "1901476  2020-01-24 19:32:38   100.00   1295.36    进          ...  00906611   \n",
      "1901477  2020-01-24 23:32:17   400.00   1695.36    进          ...  00938913   \n",
      "\n",
      "        渠道 日志号 凭证种类 凭证号 交易柜员号 备注  交易类型  \\\n",
      "1901473                           消费请求   \n",
      "1901474                           还款请求   \n",
      "1901475                           还款请求   \n",
      "1901476                           还款请求   \n",
      "1901477                           还款请求   \n",
      "\n",
      "                                                      path     编号  \n",
      "1901473  E:\\7.3徐州网赌\\20200626经侦来的数据原件总\\（566号）平安银行交易明细信息 ...  12436  \n",
      "1901474  E:\\7.3徐州网赌\\20200626经侦来的数据原件总\\（566号）平安银行交易明细信息 ...  12437  \n",
      "1901475  E:\\7.3徐州网赌\\20200626经侦来的数据原件总\\（566号）平安银行交易明细信息 ...  12438  \n",
      "1901476  E:\\7.3徐州网赌\\20200626经侦来的数据原件总\\（566号）平安银行交易明细信息 ...  12439  \n",
      "1901477  E:\\7.3徐州网赌\\20200626经侦来的数据原件总\\（566号）平安银行交易明细信息 ...  12440  \n",
      "\n",
      "[5 rows x 34 columns]\n"
     ]
    }
   ],
   "source": [
    "for i in range(0,df1.shape[1]):\n",
    "    print(i)\n",
    "    df1.iloc[:,i]=df1.iloc[:,i].astype(str).str.strip()\n",
    "print(df1.tail())"
   ]
  },
  {
   "cell_type": "code",
   "execution_count": 87,
   "metadata": {},
   "outputs": [],
   "source": [
    "df2 = pd.read_excel('E:\\\\7.3徐州网赌\\\\银行卡人员信息整理(提供给公司).xls',sheet_name = '去重',encoding = 'gbk')"
   ]
  },
  {
   "cell_type": "code",
   "execution_count": 88,
   "metadata": {},
   "outputs": [
    {
     "data": {
      "text/plain": [
       "['序号', '姓名', '银行卡号']"
      ]
     },
     "execution_count": 88,
     "metadata": {},
     "output_type": "execute_result"
    }
   ],
   "source": [
    "df2.columns.tolist()"
   ]
  },
  {
   "cell_type": "code",
   "execution_count": 89,
   "metadata": {},
   "outputs": [],
   "source": [
    "dfs = pd.merge(df1,df2, how ='left',left_on='交易卡号',right_on='银行卡号')"
   ]
  },
  {
   "cell_type": "code",
   "execution_count": 90,
   "metadata": {},
   "outputs": [
    {
     "name": "stdout",
     "output_type": "stream",
     "text": [
      "Index(['交易卡号', '交易账号', '查询反馈结果原因', '交易户名', '交易证件号码', '交易时间', '交易金额', '交易余额',\n",
      "       '收付标志', '交易对手账卡号', '现金标志', '对手户名', '对手身份证号', '对手开户银行', '摘要说明', '交易币种',\n",
      "       '交易网点名称', '交易场所', '交易发生地', '交易是否成功', '传票号', 'IP地址', 'MAC地址', '对手交易余额',\n",
      "       '交易流水号', '渠道', '日志号', '凭证种类', '凭证号', '交易柜员号', '备注', '交易类型', 'path',\n",
      "       '编号', '序号', '姓名', '银行卡号'],\n",
      "      dtype='object')\n",
      "(1721998, 37)\n"
     ]
    }
   ],
   "source": [
    "print(dfs.columns)\n",
    "print(dfs.shape)"
   ]
  },
  {
   "cell_type": "code",
   "execution_count": null,
   "metadata": {},
   "outputs": [],
   "source": [
    "# df3=dfs['交易户名'].replace('',0)\n",
    "# print(df3.head())"
   ]
  },
  {
   "cell_type": "code",
   "execution_count": 91,
   "metadata": {},
   "outputs": [],
   "source": [
    "dfs['交易户名'] = dfs['姓名'].str.strip()\n",
    "dfs = dfs.iloc[:,:34]"
   ]
  },
  {
   "cell_type": "code",
   "execution_count": 92,
   "metadata": {},
   "outputs": [
    {
     "name": "stdout",
     "output_type": "stream",
     "text": [
      "                     交易卡号                 交易账号 查询反馈结果原因 交易户名 交易证件号码  \\\n",
      "1721993  6221575199992281  0002998009638853748       成功  NaN          \n",
      "1721994  6221575199992281  0002998009638853748       成功  NaN          \n",
      "1721995  6221575199992281  0002998009638853748       成功  NaN          \n",
      "1721996  6221575199992281  0002998009638853748       成功  NaN          \n",
      "1721997  6221575199992281  0002998009638853748       成功  NaN          \n",
      "\n",
      "                        交易时间     交易金额      交易余额 收付标志 交易对手账卡号  ...     交易流水号  \\\n",
      "1721993  2020-02-25 08:21:27  3900.00  -2903.20    出          ...  00337204   \n",
      "1721994  2020-02-21 14:00:50  3000.00  14412.80    进          ...  00749806   \n",
      "1721995  2020-02-20 09:44:05   800.00   -142.70    进          ...  00340699   \n",
      "1721996  2020-01-24 19:32:38   100.00   1295.36    进          ...  00906611   \n",
      "1721997  2020-01-24 23:32:17   400.00   1695.36    进          ...  00938913   \n",
      "\n",
      "        渠道 日志号 凭证种类 凭证号 交易柜员号 备注  交易类型  \\\n",
      "1721993                           消费请求   \n",
      "1721994                           还款请求   \n",
      "1721995                           还款请求   \n",
      "1721996                           还款请求   \n",
      "1721997                           还款请求   \n",
      "\n",
      "                                                      path     编号  \n",
      "1721993  E:\\7.3徐州网赌\\20200626经侦来的数据原件总\\（566号）平安银行交易明细信息 ...  12436  \n",
      "1721994  E:\\7.3徐州网赌\\20200626经侦来的数据原件总\\（566号）平安银行交易明细信息 ...  12437  \n",
      "1721995  E:\\7.3徐州网赌\\20200626经侦来的数据原件总\\（566号）平安银行交易明细信息 ...  12438  \n",
      "1721996  E:\\7.3徐州网赌\\20200626经侦来的数据原件总\\（566号）平安银行交易明细信息 ...  12439  \n",
      "1721997  E:\\7.3徐州网赌\\20200626经侦来的数据原件总\\（566号）平安银行交易明细信息 ...  12440  \n",
      "\n",
      "[5 rows x 34 columns]\n",
      "Done\n"
     ]
    }
   ],
   "source": [
    "dfs.to_csv('E:\\\\7.3徐州网赌\\\\流水户名.csv')\n",
    "print(dfs.tail())\n",
    "print('Done')"
   ]
  },
  {
   "cell_type": "code",
   "execution_count": 93,
   "metadata": {},
   "outputs": [
    {
     "name": "stdout",
     "output_type": "stream",
     "text": [
      "交易卡号                 交易户名           \n",
      "1005890001500022988  河南纳盟商贸有限公司         1628\n",
      "110914594810101      北京蓝海在线科技有限公司        808\n",
      "110915392310306      泓德基金管理有限公司         1295\n",
      "110921704110601      社宝通人力资源（北京）有限公司    1405\n",
      "110930115610501      万同贸易（深圳）有限公司         45\n",
      "                                        ... \n",
      "6666667313316885     涂连花                 144\n",
      "6666668781823493     张妮                  223\n",
      "8110201012201179135  上海智睿聪实业有限公司        1015\n",
      "9558801001151426019  盛丹芸                 512\n",
      "9559982021721381410  李美霞                1318\n",
      "Length: 1089, dtype: int64\n",
      "<class 'pandas.core.series.Series'>\n"
     ]
    }
   ],
   "source": [
    "grouped = dfs.groupby(['交易卡号','交易户名']).size()\n",
    "print(grouped)\n",
    "print(type(grouped))"
   ]
  },
  {
   "cell_type": "code",
   "execution_count": 96,
   "metadata": {},
   "outputs": [
    {
     "name": "stdout",
     "output_type": "stream",
     "text": [
      "                        交易卡号                  交易账号 查询反馈结果原因 交易户名 交易证件号码  \\\n",
      "7110        6217933375045539  18010066601500138092       成功  王俊臣          \n",
      "7257        6217933375045539  18010066601500138092       成功  王俊臣          \n",
      "13708       6217933351035322  18020066601700008059       成功  吴先瑞          \n",
      "13721       6217933351035322  18020066601700008059       成功  吴先瑞          \n",
      "13748       6217933351035322  18020066601700008059       成功  吴先瑞          \n",
      "...                      ...                   ...      ...  ...    ...   \n",
      "1720733  6230584000002333251        16005335068086       成功  陈诗凡          \n",
      "1720854  6230584000002333251        16005335068086       成功  陈诗凡          \n",
      "1720869  6230584000002333251        16005335068086       成功  陈诗凡          \n",
      "1721075  6230584000002333251        16005335068086       成功  陈诗凡          \n",
      "1721108  6230584000002333251        16005335068086       成功  陈诗凡          \n",
      "\n",
      "                        交易时间        交易金额        交易余额 收付标志             交易对手账卡号  \\\n",
      "7110     2019-07-23 20:43:36     -2315.0     2451.44    出                       \n",
      "7257     2019-08-01 11:17:13     -2850.0     3563.55    出                       \n",
      "13708    2020-02-13 01:21:12   -270476.0   277552.09    出                       \n",
      "13721    2020-02-13 01:24:06    -70476.0   277552.09    出                       \n",
      "13748    2020-02-13 01:35:53    -20476.0    27552.09    出                       \n",
      "...                      ...         ...         ...  ...                 ...   \n",
      "1720733  2020-02-07 01:30:18  -450000.00  4450763.00    出    6226182900181018   \n",
      "1720854  2020-04-05 23:04:13  -500000.00  1672640.48    出      62148689069966   \n",
      "1720869  2020-06-13 16:15:54    -3000.00  2076740.07    出                       \n",
      "1721075  2020-06-06 10:07:18     -231.00  2709588.42    出  622098123050010168   \n",
      "1721108  2020-01-21 17:32:38  -124920.00  9122783.00    出  622908126778611415   \n",
      "\n",
      "         ...                   交易流水号 渠道 日志号 凭证种类 凭证号     交易柜员号  \\\n",
      "7110     ...            AAAAA6000061                  AAAAA600   \n",
      "7257     ...            AAAAA7400013                  AAAAA740   \n",
      "13708    ...            AAAAA6080002                  AAAAA608   \n",
      "13721    ...            AAAAA6110002                  AAAAA611   \n",
      "13748    ...            AAAAA6190002                  AAAAA619   \n",
      "...      ...                     ... ..  ..  ...  ..       ...   \n",
      "1720733  ...  3126242002070020770500                     VIRTU   \n",
      "1720854  ...  2185402004050011986356                     VIRTU   \n",
      "1720869  ...  2810352006131670461514                     VIRTU   \n",
      "1721075  ...  2185402006060031590203                     VIRTU   \n",
      "1721108  ...  3126242001210020182042                     VIRTU   \n",
      "\n",
      "                                  备注   交易类型  \\\n",
      "7110                                     抹帐   \n",
      "7257                                     抹帐   \n",
      "13708                                    抹帐   \n",
      "13721                                    抹帐   \n",
      "13748                                    抹帐   \n",
      "...                              ...    ...   \n",
      "1720733                                网银转账   \n",
      "1720854                                网银转账   \n",
      "1720869  厦门市集美区杏北中宛路289号9中园宾馆旁383745  ATM取款   \n",
      "1721075                                网银转账   \n",
      "1721108                                网银转账   \n",
      "\n",
      "                                                      path     编号  \n",
      "7110     E:\\7.3徐州网赌\\20200626经侦来的数据原件总\\上海浦东发展银行股份有限公司7账户...   3800  \n",
      "7257     E:\\7.3徐州网赌\\20200626经侦来的数据原件总\\上海浦东发展银行股份有限公司7账户...   4160  \n",
      "13708    E:\\7.3徐州网赌\\20200626经侦来的数据原件总\\上海浦东发展银行股份有限公司7账户...  15284  \n",
      "13721    E:\\7.3徐州网赌\\20200626经侦来的数据原件总\\上海浦东发展银行股份有限公司7账户...  15297  \n",
      "13748    E:\\7.3徐州网赌\\20200626经侦来的数据原件总\\上海浦东发展银行股份有限公司7账户...  15324  \n",
      "...                                                    ...    ...  \n",
      "1720733  E:\\7.3徐州网赌\\20200626经侦来的数据原件总\\（566号）平安银行交易明细信息 ...  11176  \n",
      "1720854  E:\\7.3徐州网赌\\20200626经侦来的数据原件总\\（566号）平安银行交易明细信息 ...  11297  \n",
      "1720869  E:\\7.3徐州网赌\\20200626经侦来的数据原件总\\（566号）平安银行交易明细信息 ...  11312  \n",
      "1721075  E:\\7.3徐州网赌\\20200626经侦来的数据原件总\\（566号）平安银行交易明细信息 ...  11518  \n",
      "1721108  E:\\7.3徐州网赌\\20200626经侦来的数据原件总\\（566号）平安银行交易明细信息 ...  11551  \n",
      "\n",
      "[2463 rows x 34 columns]\n"
     ]
    }
   ],
   "source": [
    "dfs_负 = dfs[dfs['交易金额'].str.contains('-')]\n",
    "print(dfs_负)"
   ]
  },
  {
   "cell_type": "code",
   "execution_count": 106,
   "metadata": {},
   "outputs": [],
   "source": [
    "import datetime"
   ]
  },
  {
   "cell_type": "code",
   "execution_count": 100,
   "metadata": {},
   "outputs": [],
   "source": [
    "\n",
    "df_模糊匹配 = pd.DataFrame(columns = dfs.columns)\n"
   ]
  },
  {
   "cell_type": "code",
   "execution_count": 79,
   "metadata": {},
   "outputs": [
    {
     "data": {
      "text/plain": [
       "0.11"
      ]
     },
     "execution_count": 79,
     "metadata": {},
     "output_type": "execute_result"
    }
   ],
   "source": [
    "abs(float(dfs['交易金额'].iloc[0]))"
   ]
  },
  {
   "cell_type": "code",
   "execution_count": 122,
   "metadata": {},
   "outputs": [
    {
     "name": "stdout",
     "output_type": "stream",
     "text": [
      "2020-03-21 00:45:48\n",
      "<class 'datetime.datetime'>\n",
      "2020-03-22 00:45:48\n"
     ]
    }
   ],
   "source": [
    "# date_T = datetime.datetime.strptime(dfs['交易时间'][0], '%Y-%m-%d %H:%M:%S')\n",
    "\n",
    "# print(date_T)\n",
    "# print(type(date_T))\n",
    "# print(date_T+datetime.timedelta(days=1))"
   ]
  },
  {
   "cell_type": "code",
   "execution_count": 1,
   "metadata": {},
   "outputs": [
    {
     "data": {
      "text/plain": [
       "str"
      ]
     },
     "execution_count": 1,
     "metadata": {},
     "output_type": "execute_result"
    }
   ],
   "source": [
    "strtime = '2020-03-22 00:45:48'\n",
    "type(strtime)"
   ]
  },
  {
   "cell_type": "code",
   "execution_count": 1,
   "metadata": {},
   "outputs": [
    {
     "ename": "NameError",
     "evalue": "name 'strtime' is not defined",
     "output_type": "error",
     "traceback": [
      "\u001b[1;31m---------------------------------------------------------------------------\u001b[0m",
      "\u001b[1;31mNameError\u001b[0m                                 Traceback (most recent call last)",
      "\u001b[1;32m<ipython-input-1-3d510d196c32>\u001b[0m in \u001b[0;36m<module>\u001b[1;34m\u001b[0m\n\u001b[0;32m      1\u001b[0m \u001b[1;32mimport\u001b[0m \u001b[0mdatetime\u001b[0m\u001b[1;33m\u001b[0m\u001b[1;33m\u001b[0m\u001b[0m\n\u001b[1;32m----> 2\u001b[1;33m \u001b[0mt1\u001b[0m \u001b[1;33m=\u001b[0m \u001b[0mdatetime\u001b[0m\u001b[1;33m.\u001b[0m\u001b[0mdatetime\u001b[0m\u001b[1;33m.\u001b[0m\u001b[0mstrptime\u001b[0m\u001b[1;33m(\u001b[0m\u001b[0mstrtime\u001b[0m\u001b[1;33m,\u001b[0m \u001b[1;34m'%Y-%m-%d %H:%M:%S'\u001b[0m\u001b[1;33m)\u001b[0m\u001b[1;33m\u001b[0m\u001b[1;33m\u001b[0m\u001b[0m\n\u001b[0m\u001b[0;32m      3\u001b[0m \u001b[0mstr\u001b[0m\u001b[1;33m(\u001b[0m\u001b[0mt1\u001b[0m\u001b[1;33m)\u001b[0m\u001b[1;33m\u001b[0m\u001b[1;33m\u001b[0m\u001b[0m\n",
      "\u001b[1;31mNameError\u001b[0m: name 'strtime' is not defined"
     ]
    }
   ],
   "source": [
    "import datetime\n",
    "t1 = datetime.datetime.strptime('2020-03-22 00:45:48', '%Y-%m-%d %H:%M:%S')\n",
    "str(t1)"
   ]
  },
  {
   "cell_type": "code",
   "execution_count": 11,
   "metadata": {},
   "outputs": [
    {
     "data": {
      "text/plain": [
       "datetime.datetime"
      ]
     },
     "execution_count": 11,
     "metadata": {},
     "output_type": "execute_result"
    }
   ],
   "source": [
    "import datetime\n",
    "type(datetime.datetime.strptime('20200825091723',\"%Y%m%d%H%M%S\"))\n"
   ]
  },
  {
   "cell_type": "code",
   "execution_count": 130,
   "metadata": {},
   "outputs": [
    {
     "data": {
      "text/plain": [
       "datetime.datetime(2020, 3, 21, 0, 45, 48)"
      ]
     },
     "execution_count": 130,
     "metadata": {},
     "output_type": "execute_result"
    }
   ],
   "source": [
    "def todatetime(date_T, format_string=\"%Y-%m-%d %H:%M:%S\"):\n",
    "    type_dd = datetime.datetime.strptime(date_T,format_string)\n",
    "    return type_dd\n",
    "\n",
    "def todatetimeadd30(date_T, format_string=\"%Y-%m-%d %H:%M:%S\"):\n",
    "    type_dd = datetime.datetime.strptime(date_T,format_string)\n",
    "    type_ddadd=type_dd+datetime.timedelta(days=30)\n",
    "    return type_ddadd\n",
    "\n",
    "todatetime(dfs['交易时间'].iloc[0])"
   ]
  },
  {
   "cell_type": "code",
   "execution_count": 134,
   "metadata": {},
   "outputs": [
    {
     "name": "stdout",
     "output_type": "stream",
     "text": [
      "352\n",
      "731\n",
      "813\n",
      "1542\n",
      "1570\n",
      "2098\n",
      "2367\n",
      "2445\n"
     ]
    },
    {
     "ename": "IndexError",
     "evalue": "single positional indexer is out-of-bounds",
     "output_type": "error",
     "traceback": [
      "\u001b[1;31m---------------------------------------------------------------------------\u001b[0m",
      "\u001b[1;31mIndexError\u001b[0m                                Traceback (most recent call last)",
      "\u001b[1;32m<ipython-input-134-963200fa3e6e>\u001b[0m in \u001b[0;36m<module>\u001b[1;34m\u001b[0m\n\u001b[0;32m      1\u001b[0m \u001b[1;32mfor\u001b[0m \u001b[0mi\u001b[0m \u001b[1;32min\u001b[0m \u001b[0mdfs\u001b[0m\u001b[1;33m.\u001b[0m\u001b[0mindex\u001b[0m\u001b[1;33m:\u001b[0m\u001b[1;33m\u001b[0m\u001b[1;33m\u001b[0m\u001b[0m\n\u001b[1;32m----> 2\u001b[1;33m     \u001b[1;32mif\u001b[0m \u001b[0mfloat\u001b[0m\u001b[1;33m(\u001b[0m\u001b[0mdfs\u001b[0m\u001b[1;33m[\u001b[0m\u001b[1;34m'交易金额'\u001b[0m\u001b[1;33m]\u001b[0m\u001b[1;33m.\u001b[0m\u001b[0miloc\u001b[0m\u001b[1;33m[\u001b[0m\u001b[0mi\u001b[0m\u001b[1;33m]\u001b[0m\u001b[1;33m)\u001b[0m\u001b[1;33m==\u001b[0m \u001b[0mabs\u001b[0m\u001b[1;33m(\u001b[0m\u001b[0mfloat\u001b[0m\u001b[1;33m(\u001b[0m\u001b[0mdfs_负\u001b[0m\u001b[1;33m[\u001b[0m\u001b[1;34m'交易金额'\u001b[0m\u001b[1;33m]\u001b[0m\u001b[1;33m.\u001b[0m\u001b[0miloc\u001b[0m\u001b[1;33m[\u001b[0m\u001b[0mi\u001b[0m\u001b[1;33m]\u001b[0m\u001b[1;33m)\u001b[0m\u001b[1;33m)\u001b[0m\u001b[1;33m:\u001b[0m\u001b[1;33m\u001b[0m\u001b[1;33m\u001b[0m\u001b[0m\n\u001b[0m\u001b[0;32m      3\u001b[0m \u001b[1;31m#         if todatetime(dfs['交易时间'].iloc[0])>=todatetime(dfs_负['交易时间'].iloc[0]):\u001b[0m\u001b[1;33m\u001b[0m\u001b[1;33m\u001b[0m\u001b[1;33m\u001b[0m\u001b[0m\n\u001b[0;32m      4\u001b[0m \u001b[1;31m#             if todatetime(dfs['交易时间'].iloc[0])<=todatetimeadd30(dfs_负['交易时间'].iloc[0]):\u001b[0m\u001b[1;33m\u001b[0m\u001b[1;33m\u001b[0m\u001b[1;33m\u001b[0m\u001b[0m\n\u001b[0;32m      5\u001b[0m         \u001b[0mprint\u001b[0m\u001b[1;33m(\u001b[0m\u001b[0mi\u001b[0m\u001b[1;33m)\u001b[0m\u001b[1;33m\u001b[0m\u001b[1;33m\u001b[0m\u001b[0m\n",
      "\u001b[1;32mD:\\Users\\ThinkPad\\anaconda3\\lib\\site-packages\\pandas\\core\\indexing.py\u001b[0m in \u001b[0;36m__getitem__\u001b[1;34m(self, key)\u001b[0m\n\u001b[0;32m   1765\u001b[0m \u001b[1;33m\u001b[0m\u001b[0m\n\u001b[0;32m   1766\u001b[0m             \u001b[0mmaybe_callable\u001b[0m \u001b[1;33m=\u001b[0m \u001b[0mcom\u001b[0m\u001b[1;33m.\u001b[0m\u001b[0mapply_if_callable\u001b[0m\u001b[1;33m(\u001b[0m\u001b[0mkey\u001b[0m\u001b[1;33m,\u001b[0m \u001b[0mself\u001b[0m\u001b[1;33m.\u001b[0m\u001b[0mobj\u001b[0m\u001b[1;33m)\u001b[0m\u001b[1;33m\u001b[0m\u001b[1;33m\u001b[0m\u001b[0m\n\u001b[1;32m-> 1767\u001b[1;33m             \u001b[1;32mreturn\u001b[0m \u001b[0mself\u001b[0m\u001b[1;33m.\u001b[0m\u001b[0m_getitem_axis\u001b[0m\u001b[1;33m(\u001b[0m\u001b[0mmaybe_callable\u001b[0m\u001b[1;33m,\u001b[0m \u001b[0maxis\u001b[0m\u001b[1;33m=\u001b[0m\u001b[0maxis\u001b[0m\u001b[1;33m)\u001b[0m\u001b[1;33m\u001b[0m\u001b[1;33m\u001b[0m\u001b[0m\n\u001b[0m\u001b[0;32m   1768\u001b[0m \u001b[1;33m\u001b[0m\u001b[0m\n\u001b[0;32m   1769\u001b[0m     \u001b[1;32mdef\u001b[0m \u001b[0m_is_scalar_access\u001b[0m\u001b[1;33m(\u001b[0m\u001b[0mself\u001b[0m\u001b[1;33m,\u001b[0m \u001b[0mkey\u001b[0m\u001b[1;33m:\u001b[0m \u001b[0mTuple\u001b[0m\u001b[1;33m)\u001b[0m\u001b[1;33m:\u001b[0m\u001b[1;33m\u001b[0m\u001b[1;33m\u001b[0m\u001b[0m\n",
      "\u001b[1;32mD:\\Users\\ThinkPad\\anaconda3\\lib\\site-packages\\pandas\\core\\indexing.py\u001b[0m in \u001b[0;36m_getitem_axis\u001b[1;34m(self, key, axis)\u001b[0m\n\u001b[0;32m   2135\u001b[0m \u001b[1;33m\u001b[0m\u001b[0m\n\u001b[0;32m   2136\u001b[0m             \u001b[1;31m# validate the location\u001b[0m\u001b[1;33m\u001b[0m\u001b[1;33m\u001b[0m\u001b[1;33m\u001b[0m\u001b[0m\n\u001b[1;32m-> 2137\u001b[1;33m             \u001b[0mself\u001b[0m\u001b[1;33m.\u001b[0m\u001b[0m_validate_integer\u001b[0m\u001b[1;33m(\u001b[0m\u001b[0mkey\u001b[0m\u001b[1;33m,\u001b[0m \u001b[0maxis\u001b[0m\u001b[1;33m)\u001b[0m\u001b[1;33m\u001b[0m\u001b[1;33m\u001b[0m\u001b[0m\n\u001b[0m\u001b[0;32m   2138\u001b[0m \u001b[1;33m\u001b[0m\u001b[0m\n\u001b[0;32m   2139\u001b[0m             \u001b[1;32mreturn\u001b[0m \u001b[0mself\u001b[0m\u001b[1;33m.\u001b[0m\u001b[0m_get_loc\u001b[0m\u001b[1;33m(\u001b[0m\u001b[0mkey\u001b[0m\u001b[1;33m,\u001b[0m \u001b[0maxis\u001b[0m\u001b[1;33m=\u001b[0m\u001b[0maxis\u001b[0m\u001b[1;33m)\u001b[0m\u001b[1;33m\u001b[0m\u001b[1;33m\u001b[0m\u001b[0m\n",
      "\u001b[1;32mD:\\Users\\ThinkPad\\anaconda3\\lib\\site-packages\\pandas\\core\\indexing.py\u001b[0m in \u001b[0;36m_validate_integer\u001b[1;34m(self, key, axis)\u001b[0m\n\u001b[0;32m   2060\u001b[0m         \u001b[0mlen_axis\u001b[0m \u001b[1;33m=\u001b[0m \u001b[0mlen\u001b[0m\u001b[1;33m(\u001b[0m\u001b[0mself\u001b[0m\u001b[1;33m.\u001b[0m\u001b[0mobj\u001b[0m\u001b[1;33m.\u001b[0m\u001b[0m_get_axis\u001b[0m\u001b[1;33m(\u001b[0m\u001b[0maxis\u001b[0m\u001b[1;33m)\u001b[0m\u001b[1;33m)\u001b[0m\u001b[1;33m\u001b[0m\u001b[1;33m\u001b[0m\u001b[0m\n\u001b[0;32m   2061\u001b[0m         \u001b[1;32mif\u001b[0m \u001b[0mkey\u001b[0m \u001b[1;33m>=\u001b[0m \u001b[0mlen_axis\u001b[0m \u001b[1;32mor\u001b[0m \u001b[0mkey\u001b[0m \u001b[1;33m<\u001b[0m \u001b[1;33m-\u001b[0m\u001b[0mlen_axis\u001b[0m\u001b[1;33m:\u001b[0m\u001b[1;33m\u001b[0m\u001b[1;33m\u001b[0m\u001b[0m\n\u001b[1;32m-> 2062\u001b[1;33m             \u001b[1;32mraise\u001b[0m \u001b[0mIndexError\u001b[0m\u001b[1;33m(\u001b[0m\u001b[1;34m\"single positional indexer is out-of-bounds\"\u001b[0m\u001b[1;33m)\u001b[0m\u001b[1;33m\u001b[0m\u001b[1;33m\u001b[0m\u001b[0m\n\u001b[0m\u001b[0;32m   2063\u001b[0m \u001b[1;33m\u001b[0m\u001b[0m\n\u001b[0;32m   2064\u001b[0m     \u001b[1;32mdef\u001b[0m \u001b[0m_getitem_tuple\u001b[0m\u001b[1;33m(\u001b[0m\u001b[0mself\u001b[0m\u001b[1;33m,\u001b[0m \u001b[0mtup\u001b[0m\u001b[1;33m:\u001b[0m \u001b[0mTuple\u001b[0m\u001b[1;33m)\u001b[0m\u001b[1;33m:\u001b[0m\u001b[1;33m\u001b[0m\u001b[1;33m\u001b[0m\u001b[0m\n",
      "\u001b[1;31mIndexError\u001b[0m: single positional indexer is out-of-bounds"
     ]
    }
   ],
   "source": [
    "\n",
    "for i in dfs.index:\n",
    "    if float(dfs['交易金额'].iloc[i])== abs(float(dfs_负['交易金额'].iloc[i])):\n",
    "#         if todatetime(dfs['交易时间'].iloc[0])>=todatetime(dfs_负['交易时间'].iloc[0]):\n",
    "#             if todatetime(dfs['交易时间'].iloc[0])<=todatetimeadd30(dfs_负['交易时间'].iloc[0]):\n",
    "        print(i)"
   ]
  },
  {
   "cell_type": "code",
   "execution_count": 116,
   "metadata": {},
   "outputs": [
    {
     "data": {
      "text/plain": [
       "datetime.datetime(2020, 7, 6, 15, 27, 45, 95249)"
      ]
     },
     "execution_count": 116,
     "metadata": {},
     "output_type": "execute_result"
    }
   ],
   "source": [
    "datetime.datetime.now()"
   ]
  },
  {
   "cell_type": "code",
   "execution_count": 114,
   "metadata": {},
   "outputs": [
    {
     "data": {
      "text/plain": [
       "datetime.datetime"
      ]
     },
     "execution_count": 114,
     "metadata": {},
     "output_type": "execute_result"
    }
   ],
   "source": [
    "type(datetime.datetime.now())"
   ]
  },
  {
   "cell_type": "code",
   "execution_count": 120,
   "metadata": {},
   "outputs": [
    {
     "data": {
      "text/plain": [
       "datetime.datetime(2020, 4, 20, 0, 45, 48)"
      ]
     },
     "execution_count": 120,
     "metadata": {},
     "output_type": "execute_result"
    }
   ],
   "source": []
  },
  {
   "cell_type": "code",
   "execution_count": 7,
   "metadata": {},
   "outputs": [
    {
     "name": "stdout",
     "output_type": "stream",
     "text": [
      "2001-09-09 09:46:40\n"
     ]
    }
   ],
   "source": [
    "import datetime \n",
    "\n",
    "timeStamp = 1000000000\n",
    "\n",
    "dateArray = datetime.datetime.fromtimestamp(timeStamp)\n",
    "\n",
    "otherStyleTime = dateArray.strftime(\"%Y-%m-%d %H:%M:%S\")\n",
    "\n",
    "print(otherStyleTime) # 2013--10--10 23:40:00"
   ]
  },
  {
   "cell_type": "code",
   "execution_count": null,
   "metadata": {},
   "outputs": [],
   "source": []
  }
 ],
 "metadata": {
  "kernelspec": {
   "display_name": "Python 3",
   "language": "python",
   "name": "python3"
  },
  "language_info": {
   "codemirror_mode": {
    "name": "ipython",
    "version": 3
   },
   "file_extension": ".py",
   "mimetype": "text/x-python",
   "name": "python",
   "nbconvert_exporter": "python",
   "pygments_lexer": "ipython3",
   "version": "3.6.5"
  }
 },
 "nbformat": 4,
 "nbformat_minor": 4
}
