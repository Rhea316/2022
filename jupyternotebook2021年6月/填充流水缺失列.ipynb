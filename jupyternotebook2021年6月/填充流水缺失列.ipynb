{
 "cells": [
  {
   "cell_type": "code",
   "execution_count": null,
   "metadata": {},
   "outputs": [],
   "source": [
    "匹配账户开户信息表，补充户名"
   ]
  },
  {
   "cell_type": "code",
   "execution_count": 3,
   "metadata": {},
   "outputs": [
    {
     "name": "stdout",
     "output_type": "stream",
     "text": [
      "Index(['index', '交易卡号', '交易账号', '查询反馈结果原因', '交易户名', '交易证件号码', '交易时间', '交易金额',\n",
      "       '交易余额', '收付标志', '交易对手账卡号', '现金标志', '对手户名', '对手身份证号', '对手开户银行', '摘要说明',\n",
      "       '交易币种', '交易网点名称', '交易场所', '交易发生地', '交易是否成功', '传票号', 'IP地址', 'MAC地址',\n",
      "       '对手交易余额', '交易流水号', '渠道', '日志号', '凭证种类', '凭证号', '交易柜员号', '备注', '交易类型',\n",
      "       'path', '序号', '姓名', '银行卡号'],\n",
      "      dtype='object')\n"
     ]
    }
   ],
   "source": [
    "import pandas as pd\n",
    "all_data = pd.read_csv(\"E:\\\\7.3徐州网赌\\\\流水合并剔除冲正.csv\",low_memory = False)\n",
    "col_name = all_data.columns[1:33]\n",
    "df1 = all_data\n",
    "df2 = pd.read_excel('E:\\\\7.3徐州网赌\\\\银行卡人员信息整理(提供给公司).xls',sheet_name = '去重',encoding = 'gbk')\n",
    "dfs = pd.merge(df1,df2, how ='left',left_on='交易卡号',right_on='银行卡号')\n",
    "print(dfs.columns)"
   ]
  },
  {
   "cell_type": "code",
   "execution_count": 4,
   "metadata": {
    "scrolled": true
   },
   "outputs": [
    {
     "name": "stderr",
     "output_type": "stream",
     "text": [
      "D:\\Users\\ThinkPad\\anaconda3\\lib\\site-packages\\ipykernel_launcher.py:3: SettingWithCopyWarning: \n",
      "A value is trying to be set on a copy of a slice from a DataFrame\n",
      "\n",
      "See the caveats in the documentation: https://pandas.pydata.org/pandas-docs/stable/user_guide/indexing.html#returning-a-view-versus-a-copy\n",
      "  This is separate from the ipykernel package so we can avoid doing imports until\n"
     ]
    },
    {
     "name": "stdout",
     "output_type": "stream",
     "text": [
      "交易卡号\n",
      "1001810033940469_C100CNY      13\n",
      "1001810044484698_C100CNY     211\n",
      "1001810069314478_C100CNY    1000\n",
      "1001810073566360_C100CNY    2000\n",
      "1001810074033042_C100CNY    1000\n",
      "                            ... \n",
      "9070611100100100279932         1\n",
      "95040078801200000557           1\n",
      "95040078801900000558           1\n",
      "9558801001151426019          512\n",
      "9559982021721381410         1318\n",
      "Length: 1627, dtype: int64\n",
      "                      交易卡号                  交易账号 查询反馈结果原因 交易户名  交易证件号码  \\\n",
      "0         6216911507196744  50000000001025453271       成功   许芳     NaN   \n",
      "1         6216911507196744  50000000001025453271       成功   许芳     NaN   \n",
      "2         6216911507196744  50000000001025453271       成功   许芳     NaN   \n",
      "3         6216911507196744  50000000001025453271       成功   许芳     NaN   \n",
      "4         6216911507196744  50000000001025453271       成功   许芳     NaN   \n",
      "...                    ...                   ...      ...  ...     ...   \n",
      "2019421  12081101040051326                   NaN      NaN  NaN     NaN   \n",
      "2019422  12081101040051326                   NaN      NaN  NaN     NaN   \n",
      "2019423  12081101040051326                   NaN      NaN  NaN     NaN   \n",
      "2019424  12081101040051326                   NaN      NaN  NaN     NaN   \n",
      "2019425  12081101040051326                   NaN      NaN  NaN     NaN   \n",
      "\n",
      "                        交易时间    交易金额    交易余额 收付标志              交易对手账卡号  ...  \\\n",
      "0        2020-01-06 14:03:55  100.00  100.00    进                  NaN  ...   \n",
      "1        2020-01-06 14:07:29   30.50   69.50    出                  NaN  ...   \n",
      "2        2020-01-10 14:15:34    2.00   67.50    出  6222034000026104228  ...   \n",
      "3        2020-01-11 11:12:49    2.00   65.50    出  6230361107116074074  ...   \n",
      "4        2020-01-11 12:38:09    2.00   63.50    出  6230361107116074074  ...   \n",
      "...                      ...     ...     ...  ...                  ...  ...   \n",
      "2019421  2020-01-19 14:48:42   10.00  537.37    出                  NaN  ...   \n",
      "2019422  2020-02-08 19:09:06    2.00  535.37    出    12081101940050310  ...   \n",
      "2019423  2020-03-08 19:09:28    2.00  533.37    出    12081101940050310  ...   \n",
      "2019424  2020-03-21 01:59:30    0.59  533.96    进                  NaN  ...   \n",
      "2019425  2020-06-21 02:00:34    0.41  534.37    进                  NaN  ...   \n",
      "\n",
      "        对手交易余额                    交易流水号  渠道                      日志号  凭证种类  \\\n",
      "0          0.0  30147202001061525403974 NaN  30147202001061525403974  3000   \n",
      "1          0.0  30147202001061525403996 NaN  30147202001061525403996  3000   \n",
      "2          0.0  31303202001106947996833 NaN  31303202001106947996833  3000   \n",
      "3          0.0  31301202001116964181105 NaN  31301202001116964181105  3000   \n",
      "4          0.0  31303202001116965383706 NaN  31303202001116965383706  3000   \n",
      "...        ...                      ...  ..                      ...   ...   \n",
      "2019421    NaN                      NaN NaN                409900777   NaN   \n",
      "2019422    NaN                      NaN NaN                334585265   NaN   \n",
      "2019423    NaN                      NaN NaN                415414033   NaN   \n",
      "2019424    NaN                      NaN NaN                116781172   NaN   \n",
      "2019425    NaN                      NaN NaN                120470626   NaN   \n",
      "\n",
      "                      凭证号 交易柜员号                        备注  \\\n",
      "0        6216911507196744   NaN  该账户可能办理我行理财产品，余额请以账户余额为主   \n",
      "1        6216911507196744   NaN  该账户可能办理我行理财产品，余额请以账户余额为主   \n",
      "2        6216911507196744   NaN  该账户可能办理我行理财产品，余额请以账户余额为主   \n",
      "3        6216911507196744   NaN  该账户可能办理我行理财产品，余额请以账户余额为主   \n",
      "4        6216911507196744   NaN  该账户可能办理我行理财产品，余额请以账户余额为主   \n",
      "...                   ...   ...                       ...   \n",
      "2019421               NaN   NaN                      费用外收   \n",
      "2019422               NaN   NaN                        转取   \n",
      "2019423               NaN   NaN                        转取   \n",
      "2019424               NaN   NaN                      批量结息   \n",
      "2019425               NaN   NaN                      批量结息   \n",
      "\n",
      "                               交易类型  \\\n",
      "0                                存款   \n",
      "1                                取款   \n",
      "2                                取款   \n",
      "3                                取款   \n",
      "4                                取款   \n",
      "...                             ...   \n",
      "2019421                        网上银行   \n",
      "2019422  平台发起冲正（TULIP）/联机批交易（TULIP）   \n",
      "2019423  平台发起冲正（TULIP）/联机批交易（TULIP）   \n",
      "2019424  平台发起冲正（TULIP）/联机批交易（TULIP）   \n",
      "2019425  平台发起冲正（TULIP）/联机批交易（TULIP）   \n",
      "\n",
      "                                                      path  \n",
      "0        E:\\7.3徐州网赌\\20200626经侦来的数据原件总\\(394号)中国民生银行股份有限公...  \n",
      "1        E:\\7.3徐州网赌\\20200626经侦来的数据原件总\\(394号)中国民生银行股份有限公...  \n",
      "2        E:\\7.3徐州网赌\\20200626经侦来的数据原件总\\(394号)中国民生银行股份有限公...  \n",
      "3        E:\\7.3徐州网赌\\20200626经侦来的数据原件总\\(394号)中国民生银行股份有限公...  \n",
      "4        E:\\7.3徐州网赌\\20200626经侦来的数据原件总\\(394号)中国民生银行股份有限公...  \n",
      "...                                                    ...  \n",
      "2019421  E:\\7.3徐州网赌\\20200713公司最新\\（590号）中国农业银行交易明细信息 (1)...  \n",
      "2019422  E:\\7.3徐州网赌\\20200713公司最新\\（590号）中国农业银行交易明细信息 (1)...  \n",
      "2019423  E:\\7.3徐州网赌\\20200713公司最新\\（590号）中国农业银行交易明细信息 (1)...  \n",
      "2019424  E:\\7.3徐州网赌\\20200713公司最新\\（590号）中国农业银行交易明细信息 (1)...  \n",
      "2019425  E:\\7.3徐州网赌\\20200713公司最新\\（590号）中国农业银行交易明细信息 (1)...  \n",
      "\n",
      "[2019426 rows x 33 columns]\n"
     ]
    }
   ],
   "source": [
    "import numpy as np\n",
    "df_fill = dfs.applymap(lambda x: np.NaN if str(x)=='' else x)\n",
    "df_fill['交易卡号'][df_fill['交易卡号'].isnull()]=df_fill['交易账号'][df_fill['交易卡号'].isnull()]\n",
    "print(df_fill.groupby('交易卡号').size())\n",
    "df_fill['交易户名'] = df_fill['姓名'].str.strip()\n",
    "df_fill = df_fill.iloc[:,1:34]\n",
    "print(df_fill)"
   ]
  },
  {
   "cell_type": "code",
   "execution_count": 16,
   "metadata": {},
   "outputs": [
    {
     "data": {
      "text/html": [
       "<div>\n",
       "<style scoped>\n",
       "    .dataframe tbody tr th:only-of-type {\n",
       "        vertical-align: middle;\n",
       "    }\n",
       "\n",
       "    .dataframe tbody tr th {\n",
       "        vertical-align: top;\n",
       "    }\n",
       "\n",
       "    .dataframe thead th {\n",
       "        text-align: right;\n",
       "    }\n",
       "</style>\n",
       "<table border=\"1\" class=\"dataframe\">\n",
       "  <thead>\n",
       "    <tr style=\"text-align: right;\">\n",
       "      <th></th>\n",
       "      <th>交易卡号</th>\n",
       "      <th>交易户名</th>\n",
       "      <th>交易时间</th>\n",
       "      <th>交易余额</th>\n",
       "    </tr>\n",
       "  </thead>\n",
       "  <tbody>\n",
       "    <tr>\n",
       "      <th>0</th>\n",
       "      <td>6216911507196744</td>\n",
       "      <td>许芳</td>\n",
       "      <td>2020-03-27 14:37:24</td>\n",
       "      <td>144030.76</td>\n",
       "    </tr>\n",
       "  </tbody>\n",
       "</table>\n",
       "</div>"
      ],
      "text/plain": [
       "               交易卡号 交易户名                 交易时间       交易余额\n",
       "0  6216911507196744   许芳  2020-03-27 14:37:24  144030.76"
      ]
     },
     "execution_count": 16,
     "metadata": {},
     "output_type": "execute_result"
    }
   ],
   "source": [
    "# df = df_fill[df_fill['交易卡号']=='6216911507196744']\n",
    "# df_余额 = pd.DataFrame(columns = ['交易卡号','交易户名','交易时间','交易余额'])\n",
    "# df_余额.loc[0] = df[['交易卡号','交易户名','交易时间','交易余额']].loc[df.index.max()]\n",
    "# df_余额"
   ]
  },
  {
   "cell_type": "code",
   "execution_count": 18,
   "metadata": {},
   "outputs": [
    {
     "name": "stdout",
     "output_type": "stream",
     "text": [
      "False    1628251\n",
      "True      391175\n",
      "dtype: int64\n",
      "                          交易卡号     0\n",
      "0     1001810033940469_C100CNY    13\n",
      "1     1001810044484698_C100CNY   211\n",
      "2     1001810069314478_C100CNY  1000\n",
      "3     1001810073566360_C100CNY  2000\n",
      "4     1001810074033042_C100CNY  1000\n",
      "...                        ...   ...\n",
      "1622    9070611100100100279932     1\n",
      "1623      95040078801200000557     1\n",
      "1624      95040078801900000558     1\n",
      "1625       9558801001151426019   512\n",
      "1626       9559982021721381410  1318\n",
      "\n",
      "[1627 rows x 2 columns]\n",
      "                          交易卡号  Size False True\n",
      "0     1001810033940469_C100CNY    13     7    6\n",
      "1     1001810044484698_C100CNY   211   211    0\n",
      "2     1001810069314478_C100CNY  1000  1000    0\n",
      "3     1001810073566360_C100CNY  2000  1001  999\n",
      "4     1001810074033042_C100CNY  1000  1000    0\n",
      "...                        ...   ...   ...  ...\n",
      "1622    9070611100100100279932     1     1    0\n",
      "1623      95040078801200000557     1     1    0\n",
      "1624      95040078801900000558     1     1    0\n",
      "1625       9558801001151426019   512   512    0\n",
      "1626       9559982021721381410  1318  1318    0\n",
      "\n",
      "[1627 rows x 4 columns]\n"
     ]
    }
   ],
   "source": [
    "df = df_fill\n",
    "df_余额 = pd.DataFrame(columns = ['交易卡号','交易户名','交易时间','交易余额'])\n",
    "df_S1 = df.groupby('交易卡号').size().reset_index()\n",
    "df_S2 = pd.DataFrame(columns = ['交易卡号','Size','False','True'])\n",
    "for i in df_S1.index:\n",
    "    df_every = df.groupby('交易卡号').get_group(df_S1['交易卡号'][i])\n",
    "    bool_S = df_every.duplicated(subset = col_name,keep = 'last').value_counts()\n",
    "    if len(bool_S)==1:\n",
    "        df_S2.loc[i] = {'交易卡号':df_every['交易卡号'].iloc[0],'Size':df_every.shape[0],'False':bool_S[0],'True':0}\n",
    "    elif len(bool_S)==2:\n",
    "        df_S2.loc[i] = {'交易卡号':df_every['交易卡号'].iloc[0],'Size':df_every.shape[0],'False':bool_S[0],'True':bool_S[1]}\n",
    "    df_余额.loc[i] = df_every[['交易卡号','交易户名','交易时间','交易余额']].loc[df_every.index.max()]\n",
    "\n",
    "df_S2.to_excel(\"E:\\\\7.3徐州网赌\\\\单卡去重统计.xlsx\",index = None)\n",
    "print(df.duplicated(subset = col_name).value_counts())\n",
    "df_余额.to_excel(\"E:\\\\7.3徐州网赌\\\\单卡最后一笔交易余额.xlsx\",index = None)\n",
    "print(df_S1)\n",
    "print(df_S2)"
   ]
  },
  {
   "cell_type": "code",
   "execution_count": 19,
   "metadata": {},
   "outputs": [
    {
     "name": "stdout",
     "output_type": "stream",
     "text": [
      "False    1628251\n",
      "True      391175\n",
      "dtype: int64\n"
     ]
    }
   ],
   "source": [
    "dup_data = df.drop_duplicates(subset = col_name,keep = 'last')\n",
    "dup_data.to_csv(\"E:\\\\7.3徐州网赌\\\\流水户名.csv\",index = None)\n",
    "print(df.duplicated(subset = col_name).value_counts())\n"
   ]
  },
  {
   "cell_type": "code",
   "execution_count": null,
   "metadata": {},
   "outputs": [],
   "source": []
  }
 ],
 "metadata": {
  "kernelspec": {
   "display_name": "Python 3",
   "language": "python",
   "name": "python3"
  },
  "language_info": {
   "codemirror_mode": {
    "name": "ipython",
    "version": 3
   },
   "file_extension": ".py",
   "mimetype": "text/x-python",
   "name": "python",
   "nbconvert_exporter": "python",
   "pygments_lexer": "ipython3",
   "version": "3.7.6"
  }
 },
 "nbformat": 4,
 "nbformat_minor": 2
}
