{
 "cells": [
  {
   "cell_type": "code",
   "execution_count": 5,
   "metadata": {},
   "outputs": [
    {
     "name": "stdout",
     "output_type": "stream",
     "text": [
      "对公基本Done！\n"
     ]
    }
   ],
   "source": [
    "import pandas as pd\n",
    "\n",
    "\n",
    "with open(r'C:\\Users\\zqy\\Desktop\\新建文件夹\\厦门POC数据\\反洗钱模板dat\\FXQ_CORP_BASE_IMG.dat', encoding = 'utf-8') as f:\n",
    "    lines = f.readlines()\n",
    "df = pd.DataFrame(lines)\n",
    "df_对公基本 = df[0].str.split('\\|\\@\\|',expand = True).iloc[:,:-1]\n",
    "df_对公基本.columns = ['客户编号','类罪','反洗钱报告编号','场景类型','客户名称','所属机构','四部委规模','客户所属行业','组织机构代码','营业执照号码','注册资本币种','注册资本','组织实收资本金额','信贷客户标识','联系电话','注册地址','经营地址','办公地址','对公客户类型','员工人数','经营状态代码','组织成立日期','主营业务描述','机构经营范围说明','企业网银签约标识','企业手机银行签约标志','企业网银高级版签约标志','企业手机银行高级版签约标志','企业网银简版签约标志','企业手机银行简版签约标志','法定代表人证件类型','法定代表人证件号码','法定代表人','授权代表人证件类型','授权代表人证件号码','授权代表人','业务联系人证件类型','业务联系人证件号码','业务联系人','实际控制人证件类型','实际控制人证件号码','实际控制人','受益所有人证件类型','受益所有人证件号码','受益所有人','风险等级','商户标志']\n",
    "#df_对公基本.to_csv(output_path + file.split('.')[0]+'.csv', encoding = 'utf-8',index = None)\n",
    "print('对公基本Done！')"
   ]
  },
  {
   "cell_type": "code",
   "execution_count": 1,
   "metadata": {},
   "outputs": [
    {
     "ename": "AttributeError",
     "evalue": "module 'sklearn.tree' has no attribute 'plot_tree'",
     "output_type": "error",
     "traceback": [
      "\u001b[1;31m---------------------------------------------------------------------------\u001b[0m",
      "\u001b[1;31mAttributeError\u001b[0m                            Traceback (most recent call last)",
      "\u001b[1;32m<ipython-input-1-48bfdb80f763>\u001b[0m in \u001b[0;36m<module>\u001b[1;34m()\u001b[0m\n\u001b[0;32m      5\u001b[0m \u001b[0mclf\u001b[0m \u001b[1;33m=\u001b[0m \u001b[0mtree\u001b[0m\u001b[1;33m.\u001b[0m\u001b[0mDecisionTreeClassifier\u001b[0m\u001b[1;33m(\u001b[0m\u001b[1;33m)\u001b[0m\u001b[1;33m\u001b[0m\u001b[0m\n\u001b[0;32m      6\u001b[0m \u001b[0mclf\u001b[0m \u001b[1;33m=\u001b[0m \u001b[0mclf\u001b[0m\u001b[1;33m.\u001b[0m\u001b[0mfit\u001b[0m\u001b[1;33m(\u001b[0m\u001b[0mx\u001b[0m\u001b[1;33m,\u001b[0m\u001b[0my\u001b[0m\u001b[1;33m)\u001b[0m\u001b[1;33m\u001b[0m\u001b[0m\n\u001b[1;32m----> 7\u001b[1;33m \u001b[0mtree\u001b[0m\u001b[1;33m.\u001b[0m\u001b[0mplot_tree\u001b[0m\u001b[1;33m(\u001b[0m\u001b[0mclf\u001b[0m\u001b[1;33m)\u001b[0m\u001b[1;33m\u001b[0m\u001b[0m\n\u001b[0m",
      "\u001b[1;31mAttributeError\u001b[0m: module 'sklearn.tree' has no attribute 'plot_tree'"
     ]
    }
   ],
   "source": [
    "from sklearn.datasets import load_iris\n",
    "from sklearn import tree\n",
    "\n",
    "x,y = load_iris(return_X_y=True)\n",
    "clf = tree.DecisionTreeClassifier()\n",
    "clf = clf.fit(x,y)\n",
    "tree.plot_tree(clf)"
   ]
  },
  {
   "cell_type": "code",
   "execution_count": null,
   "metadata": {},
   "outputs": [],
   "source": []
  }
 ],
 "metadata": {
  "kernelspec": {
   "display_name": "Python 3",
   "language": "python",
   "name": "python3"
  },
  "language_info": {
   "codemirror_mode": {
    "name": "ipython",
    "version": 3
   },
   "file_extension": ".py",
   "mimetype": "text/x-python",
   "name": "python",
   "nbconvert_exporter": "python",
   "pygments_lexer": "ipython3",
   "version": "3.6.5"
  }
 },
 "nbformat": 4,
 "nbformat_minor": 2
}
