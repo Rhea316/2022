{
 "cells": [
  {
   "cell_type": "code",
   "execution_count": 19,
   "id": "9804008b",
   "metadata": {},
   "outputs": [],
   "source": [
    "def build_karate_club_graph():\n",
    "    '''\n",
    "    所有78条边都存储在两个numpy数组中, 一个用于源端点而另一个用于目标端点\n",
    "    '''\n",
    "    src = np.array([1, 2, 2, 3, 3, 3, 4, 5, 6, 6, 6, 7, 7, 7, 7, 8, 8, 9, 10, 10,\n",
    "        10, 11, 12, 12, 13, 13, 13, 13, 16, 16, 17, 17, 19, 19, 21, 21,\n",
    "        25, 25, 27, 27, 27, 28, 29, 29, 30, 30, 31, 31, 31, 31, 32, 32,\n",
    "        32, 32, 32, 32, 32, 32, 32, 32, 32, 33, 33, 33, 33, 33, 33, 33,\n",
    "        33, 33, 33, 33, 33, 33, 33, 33, 33, 33])\n",
    "    dst = np.array([0, 0, 1, 0, 1, 2, 0, 0, 0, 4, 5, 0, 1, 2, 3, 0, 2, 2, 0, 4,\n",
    "        5, 0, 0, 3, 0, 1, 2, 3, 5, 6, 0, 1, 0, 1, 0, 1, 23, 24, 2, 23,\n",
    "        24, 2, 23, 26, 1, 8, 0, 24, 25, 28, 2, 8, 14, 15, 18, 20, 22, 23,\n",
    "        29, 30, 31, 8, 9, 13, 14, 15, 18, 19, 20, 22, 23, 26, 27, 28, 29, 30,\n",
    "        31, 32])\n",
    "    #边缘在DGL中是有方向的； 使它们双向\n",
    "    u = np.concatenate([src, dst])\n",
    "    v = np.concatenate([dst, src])\n",
    "    #构建图\n",
    "    return dgl.DGLGraph((u, v))"
   ]
  },
  {
   "cell_type": "code",
   "execution_count": 18,
   "id": "8def370c",
   "metadata": {
    "scrolled": true
   },
   "outputs": [
    {
     "name": "stderr",
     "output_type": "stream",
     "text": [
      "Using backend: pytorch\n"
     ]
    },
    {
     "name": "stdout",
     "output_type": "stream",
     "text": [
      "We have 34 nodes.\n",
      "We have 156 edges.\n"
     ]
    },
    {
     "name": "stderr",
     "output_type": "stream",
     "text": [
      "C:\\Users\\zqy\\anaconda3\\lib\\site-packages\\dgl\\base.py:45: DGLWarning: Recommend creating graphs by `dgl.graph(data)` instead of `dgl.DGLGraph(data)`.\n",
      "  return warnings.warn(message, category=category, stacklevel=1)\n"
     ]
    }
   ],
   "source": [
    "import dgl\n",
    "G = build_karate_club_graph()\n",
    "print('We have %d nodes.' % G.number_of_nodes())\n",
    "print('We have %d edges.' % G.number_of_edges())"
   ]
  },
  {
   "cell_type": "code",
   "execution_count": 11,
   "id": "0fa32dad",
   "metadata": {
    "scrolled": true
   },
   "outputs": [
    {
     "name": "stdout",
     "output_type": "stream",
     "text": [
      "Collecting dgl\n",
      "  Downloading dgl-0.6.1-cp38-cp38-win_amd64.whl (3.1 MB)\n",
      "Requirement already satisfied: requests>=2.19.0 in c:\\users\\zqy\\anaconda3\\lib\\site-packages (from dgl) (2.25.1)\n",
      "Requirement already satisfied: numpy>=1.14.0 in c:\\users\\zqy\\anaconda3\\lib\\site-packages (from dgl) (1.20.1)\n",
      "Requirement already satisfied: networkx>=2.1 in c:\\users\\zqy\\anaconda3\\lib\\site-packages (from dgl) (2.5)\n",
      "Requirement already satisfied: scipy>=1.1.0 in c:\\users\\zqy\\anaconda3\\lib\\site-packages (from dgl) (1.6.2)\n",
      "Requirement already satisfied: decorator>=4.3.0 in c:\\users\\zqy\\anaconda3\\lib\\site-packages (from networkx>=2.1->dgl) (5.0.6)\n",
      "Requirement already satisfied: idna<3,>=2.5 in c:\\users\\zqy\\anaconda3\\lib\\site-packages (from requests>=2.19.0->dgl) (2.10)\n",
      "Requirement already satisfied: urllib3<1.27,>=1.21.1 in c:\\users\\zqy\\anaconda3\\lib\\site-packages (from requests>=2.19.0->dgl) (1.26.4)\n",
      "Requirement already satisfied: certifi>=2017.4.17 in c:\\users\\zqy\\anaconda3\\lib\\site-packages (from requests>=2.19.0->dgl) (2020.12.5)\n",
      "Requirement already satisfied: chardet<5,>=3.0.2 in c:\\users\\zqy\\anaconda3\\lib\\site-packages (from requests>=2.19.0->dgl) (4.0.0)\n",
      "Installing collected packages: dgl\n",
      "Successfully installed dgl-0.6.1\n",
      "Note: you may need to restart the kernel to use updated packages.\n"
     ]
    }
   ],
   "source": [
    "pip install dgl"
   ]
  },
  {
   "cell_type": "code",
   "execution_count": 17,
   "id": "7dc05c5e",
   "metadata": {},
   "outputs": [
    {
     "name": "stdout",
     "output_type": "stream",
     "text": [
      "^C\n",
      "Note: you may need to restart the kernel to use updated packages.\n"
     ]
    }
   ],
   "source": [
    "pip install torch\n",
    "\n",
    "'''\n",
    "在Anaconda Prompt中输入命令行\n",
    "(base) C:\\Users\\zqy>conda install pytorch torchvision -c pytorch\n",
    "'''"
   ]
  },
  {
   "cell_type": "code",
   "execution_count": null,
   "id": "cdec6a96",
   "metadata": {},
   "outputs": [],
   "source": []
  },
  {
   "cell_type": "code",
   "execution_count": null,
   "id": "f2769370",
   "metadata": {},
   "outputs": [],
   "source": []
  },
  {
   "cell_type": "code",
   "execution_count": 21,
   "id": "324ce8ba",
   "metadata": {
    "scrolled": true
   },
   "outputs": [
    {
     "ename": "AttributeError",
     "evalue": "'DGLHeteroGraph' object has no attribute 'is_directed'",
     "output_type": "error",
     "traceback": [
      "\u001b[1;31m---------------------------------------------------------------------------\u001b[0m",
      "\u001b[1;31mAttributeError\u001b[0m                            Traceback (most recent call last)",
      "\u001b[1;32m<ipython-input-21-5608d09dcc65>\u001b[0m in \u001b[0;36m<module>\u001b[1;34m\u001b[0m\n\u001b[0;32m      3\u001b[0m \u001b[0mzkc\u001b[0m \u001b[1;33m=\u001b[0m \u001b[0mG\u001b[0m\u001b[1;33m\u001b[0m\u001b[1;33m\u001b[0m\u001b[0m\n\u001b[0;32m      4\u001b[0m \u001b[0morder\u001b[0m \u001b[1;33m=\u001b[0m \u001b[0msorted\u001b[0m\u001b[1;33m(\u001b[0m\u001b[0mlist\u001b[0m\u001b[1;33m(\u001b[0m\u001b[0mzkc\u001b[0m\u001b[1;33m.\u001b[0m\u001b[0mnodes\u001b[0m\u001b[1;33m(\u001b[0m\u001b[1;33m)\u001b[0m\u001b[1;33m)\u001b[0m\u001b[1;33m)\u001b[0m\u001b[1;33m\u001b[0m\u001b[1;33m\u001b[0m\u001b[0m\n\u001b[1;32m----> 5\u001b[1;33m \u001b[0mA\u001b[0m \u001b[1;33m=\u001b[0m \u001b[0mto_numpy_matrix\u001b[0m\u001b[1;33m(\u001b[0m\u001b[0mzkc\u001b[0m\u001b[1;33m,\u001b[0m \u001b[0mnodelist\u001b[0m\u001b[1;33m=\u001b[0m\u001b[0morder\u001b[0m\u001b[1;33m)\u001b[0m\u001b[1;33m\u001b[0m\u001b[1;33m\u001b[0m\u001b[0m\n\u001b[0m\u001b[0;32m      6\u001b[0m \u001b[0mI\u001b[0m \u001b[1;33m=\u001b[0m \u001b[0mnp\u001b[0m\u001b[1;33m.\u001b[0m\u001b[0meye\u001b[0m\u001b[1;33m(\u001b[0m\u001b[0mzkc\u001b[0m\u001b[1;33m.\u001b[0m\u001b[0mnumber_of_nodes\u001b[0m\u001b[1;33m(\u001b[0m\u001b[1;33m)\u001b[0m\u001b[1;33m)\u001b[0m\u001b[1;33m\u001b[0m\u001b[1;33m\u001b[0m\u001b[0m\n\u001b[0;32m      7\u001b[0m \u001b[0mA_hat\u001b[0m \u001b[1;33m=\u001b[0m \u001b[0mA\u001b[0m \u001b[1;33m+\u001b[0m \u001b[0mI\u001b[0m\u001b[1;33m\u001b[0m\u001b[1;33m\u001b[0m\u001b[0m\n",
      "\u001b[1;32m~\\anaconda3\\lib\\site-packages\\networkx\\convert_matrix.py\u001b[0m in \u001b[0;36mto_numpy_matrix\u001b[1;34m(G, nodelist, dtype, order, multigraph_weight, weight, nonedge)\u001b[0m\n\u001b[0;32m    542\u001b[0m     \u001b[1;32mimport\u001b[0m \u001b[0mnumpy\u001b[0m \u001b[1;32mas\u001b[0m \u001b[0mnp\u001b[0m\u001b[1;33m\u001b[0m\u001b[1;33m\u001b[0m\u001b[0m\n\u001b[0;32m    543\u001b[0m \u001b[1;33m\u001b[0m\u001b[0m\n\u001b[1;32m--> 544\u001b[1;33m     A = to_numpy_array(\n\u001b[0m\u001b[0;32m    545\u001b[0m         \u001b[0mG\u001b[0m\u001b[1;33m,\u001b[0m\u001b[1;33m\u001b[0m\u001b[1;33m\u001b[0m\u001b[0m\n\u001b[0;32m    546\u001b[0m         \u001b[0mnodelist\u001b[0m\u001b[1;33m=\u001b[0m\u001b[0mnodelist\u001b[0m\u001b[1;33m,\u001b[0m\u001b[1;33m\u001b[0m\u001b[1;33m\u001b[0m\u001b[0m\n",
      "\u001b[1;32m~\\anaconda3\\lib\\site-packages\\networkx\\convert_matrix.py\u001b[0m in \u001b[0;36mto_numpy_array\u001b[1;34m(G, nodelist, dtype, order, multigraph_weight, weight, nonedge)\u001b[0m\n\u001b[0;32m   1201\u001b[0m \u001b[1;33m\u001b[0m\u001b[0m\n\u001b[0;32m   1202\u001b[0m     \u001b[0mnlen\u001b[0m \u001b[1;33m=\u001b[0m \u001b[0mlen\u001b[0m\u001b[1;33m(\u001b[0m\u001b[0mnodelist\u001b[0m\u001b[1;33m)\u001b[0m\u001b[1;33m\u001b[0m\u001b[1;33m\u001b[0m\u001b[0m\n\u001b[1;32m-> 1203\u001b[1;33m     \u001b[0mundirected\u001b[0m \u001b[1;33m=\u001b[0m \u001b[1;32mnot\u001b[0m \u001b[0mG\u001b[0m\u001b[1;33m.\u001b[0m\u001b[0mis_directed\u001b[0m\u001b[1;33m(\u001b[0m\u001b[1;33m)\u001b[0m\u001b[1;33m\u001b[0m\u001b[1;33m\u001b[0m\u001b[0m\n\u001b[0m\u001b[0;32m   1204\u001b[0m     \u001b[0mindex\u001b[0m \u001b[1;33m=\u001b[0m \u001b[0mdict\u001b[0m\u001b[1;33m(\u001b[0m\u001b[0mzip\u001b[0m\u001b[1;33m(\u001b[0m\u001b[0mnodelist\u001b[0m\u001b[1;33m,\u001b[0m \u001b[0mrange\u001b[0m\u001b[1;33m(\u001b[0m\u001b[0mnlen\u001b[0m\u001b[1;33m)\u001b[0m\u001b[1;33m)\u001b[0m\u001b[1;33m)\u001b[0m\u001b[1;33m\u001b[0m\u001b[1;33m\u001b[0m\u001b[0m\n\u001b[0;32m   1205\u001b[0m \u001b[1;33m\u001b[0m\u001b[0m\n",
      "\u001b[1;31mAttributeError\u001b[0m: 'DGLHeteroGraph' object has no attribute 'is_directed'"
     ]
    }
   ],
   "source": [
    "from networkx import to_numpy_matrix\n",
    "#zkc = karate_club_graph()\n",
    "zkc = G\n",
    "order = sorted(list(zkc.nodes()))\n",
    "A = to_numpy_matrix(zkc, nodelist=order)\n",
    "I = np.eye(zkc.number_of_nodes())\n",
    "A_hat = A + I\n",
    "D_hat = np.array(np.sum(A_hat, axis=0))[0]\n",
    "D_hat = np.matrix(np.diag(D_hat))"
   ]
  },
  {
   "cell_type": "code",
   "execution_count": 2,
   "id": "29413f2a",
   "metadata": {
    "scrolled": true
   },
   "outputs": [
    {
     "ename": "ModuleNotFoundError",
     "evalue": "No module named 'camelot'",
     "output_type": "error",
     "traceback": [
      "\u001b[1;31m---------------------------------------------------------------------------\u001b[0m",
      "\u001b[1;31mModuleNotFoundError\u001b[0m                       Traceback (most recent call last)",
      "\u001b[1;32m<ipython-input-2-679d8f55abf0>\u001b[0m in \u001b[0;36m<module>\u001b[1;34m\u001b[0m\n\u001b[1;32m----> 1\u001b[1;33m \u001b[1;32mimport\u001b[0m \u001b[0mcamelot\u001b[0m\u001b[1;33m\u001b[0m\u001b[1;33m\u001b[0m\u001b[0m\n\u001b[0m",
      "\u001b[1;31mModuleNotFoundError\u001b[0m: No module named 'camelot'"
     ]
    }
   ],
   "source": [
    "import camelot"
   ]
  },
  {
   "cell_type": "code",
   "execution_count": 3,
   "id": "c9d71ad5",
   "metadata": {},
   "outputs": [
    {
     "name": "stdout",
     "output_type": "stream",
     "text": [
      "0 (74, 6) 1 (148, 6) 2 (222, 6) 3 (296, 6) 4 (370, 6) 5 (444, 6) 6 (518, 6) 7 (592, 6) 8 (666, 6) 9 (740, 6) 10 (814, 6) 11 (888, 6) 12 (962, 6) 13 (1036, 6) 14 (1110, 6) 15 (1184, 6) 16 (1258, 6) 17 (1332, 6) 18 (1406, 6) 19 (1480, 6) 20 (1554, 6) 21 (1628, 6) 22 (1702, 6) 23 (1776, 6) 24 (1850, 6) 25 (1924, 6) 26 (1998, 6) 27 (2072, 6) 28 (2146, 6) 29 (2220, 6) 30 (2294, 6) 31 (2368, 6) 32 (2442, 6) 33 (2516, 6) 34 (2590, 6) 35 (2664, 6) 36 (2738, 6) 37 (2812, 6) 38 (2886, 6) 39 (2960, 6) 40 (3034, 6) 41 (3108, 6) 42 (3182, 6) 43 (3256, 6) 44 (3330, 6) 45 (3404, 6) 46 (3478, 6) 47 (3552, 6) 48 (3626, 6) 49 (3700, 6) 50 (3774, 6) 51 (3848, 6) 52 (3922, 6) 53 (3996, 6) 54 (4070, 6) 55 (4144, 6) 56 (4218, 6) 57 (4292, 6) 58 (4366, 6) 59 (4440, 6) 60 (4514, 6) 61 (4588, 6) 62 (4662, 6) 63 (4736, 6) 64 (4810, 6) 65 (4884, 6) 66 (4958, 6) 67 (5032, 6) 68 (5106, 6) 69 (5180, 6) 70 (5254, 6) 71 (5328, 6) 72 (5402, 6) 73 (5476, 6) 74 (5550, 6) 75 (5624, 6) 76 (5698, 6) 77 (5772, 6) 78 (5846, 6) 79 (5920, 6) 80 (5994, 6) 81 (6068, 6) 82 (6142, 6) 83 (6216, 6) 84 (6290, 6) 85 (6364, 6) 86 (6438, 6) 87 (6512, 6) 88 (6586, 6) 89 (6660, 6) 90 (6734, 6) 91 (6808, 6) 92 (6882, 6) 93 (6956, 6) 94 (7030, 6) 95 (7104, 6) 96 (7178, 6) 97 (7252, 6) 98 (7326, 6) 99 (7400, 6) 100 (7474, 6) 101 (7548, 6) 102 (7622, 6) 103 (7696, 6) 104 (7770, 6) 105 (7844, 6) 106 (7918, 6) 107 (7992, 6) 108 (8066, 6) 109 (8140, 6) 110 (8167, 6) "
     ]
    }
   ],
   "source": [
    "import re\n",
    "import camelot\n",
    "import pandas as pd\n",
    "table1 = camelot.read_pdf(r'C:\\Users\\zqy\\Documents\\火模\\示例模型\\示例数据\\李四交易记录.pdf',pages = '1-end',flavor='stream')    # 得到一个camelot.core.Table对象\n",
    "df = pd.DataFrame()\n",
    "for k in range(len(table1)):\n",
    "    print(k,end = ' ')\n",
    "    df = df.append(table1[k].df)    # table对象的df属性，得到一个pandas.core.frame.DataFrame对象\n",
    "    print(df.shape ,end = ' ')\n",
    "    \n",
    "cols = df.iloc[0].tolist()\n",
    "df.columns = cols\n",
    "df = df.iloc[1:]"
   ]
  },
  {
   "cell_type": "code",
   "execution_count": 4,
   "id": "a42749d4",
   "metadata": {
    "scrolled": false
   },
   "outputs": [
    {
     "data": {
      "text/html": [
       "<div>\n",
       "<style scoped>\n",
       "    .dataframe tbody tr th:only-of-type {\n",
       "        vertical-align: middle;\n",
       "    }\n",
       "\n",
       "    .dataframe tbody tr th {\n",
       "        vertical-align: top;\n",
       "    }\n",
       "\n",
       "    .dataframe thead th {\n",
       "        text-align: right;\n",
       "    }\n",
       "</style>\n",
       "<table border=\"1\" class=\"dataframe\">\n",
       "  <thead>\n",
       "    <tr style=\"text-align: right;\">\n",
       "      <th></th>\n",
       "      <th>户名\\n账号</th>\n",
       "      <th>交易时间</th>\n",
       "      <th>借贷标志（借F：1，贷F：2）</th>\n",
       "      <th>金额（元）</th>\n",
       "      <th>对方账号</th>\n",
       "      <th>对方户名</th>\n",
       "    </tr>\n",
       "  </thead>\n",
       "  <tbody>\n",
       "    <tr>\n",
       "      <th>1</th>\n",
       "      <td>李四 ******1601106058292</td>\n",
       "      <td>2008-03-05 15:21:55</td>\n",
       "      <td>2</td>\n",
       "      <td>0.00</td>\n",
       "      <td>*</td>\n",
       "      <td>*</td>\n",
       "    </tr>\n",
       "    <tr>\n",
       "      <th>2</th>\n",
       "      <td>李四 ******1601106058292</td>\n",
       "      <td>2008-07-30 13:06:28</td>\n",
       "      <td>2</td>\n",
       "      <td>100.00</td>\n",
       "      <td>******65*11*93*85</td>\n",
       "      <td>张三</td>\n",
       "    </tr>\n",
       "    <tr>\n",
       "      <th>3</th>\n",
       "      <td>李四 ******1601106058292</td>\n",
       "      <td>2008-07-30 13:07:08</td>\n",
       "      <td>1</td>\n",
       "      <td>1.00</td>\n",
       "      <td>******75*11*42277</td>\n",
       "      <td>W瑶璇</td>\n",
       "    </tr>\n",
       "    <tr>\n",
       "      <th>4</th>\n",
       "      <td>李四 ******1601106058292</td>\n",
       "      <td>2008-07-31 01:23:42</td>\n",
       "      <td>1</td>\n",
       "      <td>3.00</td>\n",
       "      <td>*</td>\n",
       "      <td>*</td>\n",
       "    </tr>\n",
       "    <tr>\n",
       "      <th>5</th>\n",
       "      <td>李四 ******1601106058292</td>\n",
       "      <td>2008-07-31 13:53:30</td>\n",
       "      <td>2</td>\n",
       "      <td>10.00</td>\n",
       "      <td>******37*92***99778</td>\n",
       "      <td>海城市东升区XY电子贸易商行</td>\n",
       "    </tr>\n",
       "    <tr>\n",
       "      <th>...</th>\n",
       "      <td>...</td>\n",
       "      <td>...</td>\n",
       "      <td>...</td>\n",
       "      <td>...</td>\n",
       "      <td>...</td>\n",
       "      <td>...</td>\n",
       "    </tr>\n",
       "    <tr>\n",
       "      <th>22</th>\n",
       "      <td>李四 ******1601106058292</td>\n",
       "      <td>2008-09-19 19:23:19</td>\n",
       "      <td>1</td>\n",
       "      <td>100000.00</td>\n",
       "      <td>******16*11*41*39</td>\n",
       "      <td>W贞波</td>\n",
       "    </tr>\n",
       "    <tr>\n",
       "      <th>23</th>\n",
       "      <td>李四 ******1601106058292</td>\n",
       "      <td>2008-09-19 19:58:09</td>\n",
       "      <td>1</td>\n",
       "      <td>500000.00</td>\n",
       "      <td>******33*1111*346</td>\n",
       "      <td>Z志亨</td>\n",
       "    </tr>\n",
       "    <tr>\n",
       "      <th>24</th>\n",
       "      <td>李四 ******1601106058292</td>\n",
       "      <td>2008-09-19 20:00:41</td>\n",
       "      <td>1</td>\n",
       "      <td>8985.00</td>\n",
       "      <td>******12*11*34982</td>\n",
       "      <td>C少吟</td>\n",
       "    </tr>\n",
       "    <tr>\n",
       "      <th>25</th>\n",
       "      <td>李四 ******1601106058292</td>\n",
       "      <td>2008-09-19 20:04:04</td>\n",
       "      <td>1</td>\n",
       "      <td>165394.00</td>\n",
       "      <td>******21*11*76533</td>\n",
       "      <td>T数理</td>\n",
       "    </tr>\n",
       "    <tr>\n",
       "      <th>26</th>\n",
       "      <td>李四 ******1601106058292</td>\n",
       "      <td>2008-09-19 20:05:15</td>\n",
       "      <td>1</td>\n",
       "      <td>577800.00</td>\n",
       "      <td>******75*11*42277</td>\n",
       "      <td>W瑶璇</td>\n",
       "    </tr>\n",
       "  </tbody>\n",
       "</table>\n",
       "<p>8166 rows × 6 columns</p>\n",
       "</div>"
      ],
      "text/plain": [
       "                    户名\\n账号                 交易时间 借贷标志（借F：1，贷F：2）      金额（元）  \\\n",
       "1   李四 ******1601106058292  2008-03-05 15:21:55               2       0.00   \n",
       "2   李四 ******1601106058292  2008-07-30 13:06:28               2     100.00   \n",
       "3   李四 ******1601106058292  2008-07-30 13:07:08               1       1.00   \n",
       "4   李四 ******1601106058292  2008-07-31 01:23:42               1       3.00   \n",
       "5   李四 ******1601106058292  2008-07-31 13:53:30               2      10.00   \n",
       "..                     ...                  ...             ...        ...   \n",
       "22  李四 ******1601106058292  2008-09-19 19:23:19               1  100000.00   \n",
       "23  李四 ******1601106058292  2008-09-19 19:58:09               1  500000.00   \n",
       "24  李四 ******1601106058292  2008-09-19 20:00:41               1    8985.00   \n",
       "25  李四 ******1601106058292  2008-09-19 20:04:04               1  165394.00   \n",
       "26  李四 ******1601106058292  2008-09-19 20:05:15               1  577800.00   \n",
       "\n",
       "                   对方账号            对方户名  \n",
       "1                     *               *  \n",
       "2     ******65*11*93*85              张三  \n",
       "3     ******75*11*42277             W瑶璇  \n",
       "4                     *               *  \n",
       "5   ******37*92***99778  海城市东升区XY电子贸易商行  \n",
       "..                  ...             ...  \n",
       "22    ******16*11*41*39             W贞波  \n",
       "23    ******33*1111*346             Z志亨  \n",
       "24    ******12*11*34982             C少吟  \n",
       "25    ******21*11*76533             T数理  \n",
       "26    ******75*11*42277             W瑶璇  \n",
       "\n",
       "[8166 rows x 6 columns]"
      ]
     },
     "execution_count": 4,
     "metadata": {},
     "output_type": "execute_result"
    }
   ],
   "source": [
    "df"
   ]
  },
  {
   "cell_type": "code",
   "execution_count": null,
   "id": "585e67dd",
   "metadata": {},
   "outputs": [],
   "source": []
  },
  {
   "cell_type": "code",
   "execution_count": null,
   "id": "5ec0356d",
   "metadata": {},
   "outputs": [],
   "source": []
  },
  {
   "cell_type": "code",
   "execution_count": null,
   "id": "f864d69c",
   "metadata": {},
   "outputs": [],
   "source": []
  },
  {
   "cell_type": "code",
   "execution_count": null,
   "id": "227c4c26",
   "metadata": {},
   "outputs": [],
   "source": []
  },
  {
   "cell_type": "code",
   "execution_count": null,
   "id": "9224b613",
   "metadata": {},
   "outputs": [],
   "source": []
  },
  {
   "cell_type": "code",
   "execution_count": null,
   "id": "cd79c21f",
   "metadata": {},
   "outputs": [],
   "source": []
  },
  {
   "cell_type": "code",
   "execution_count": null,
   "id": "8493f28b",
   "metadata": {},
   "outputs": [],
   "source": []
  },
  {
   "cell_type": "code",
   "execution_count": null,
   "id": "2f96c086",
   "metadata": {},
   "outputs": [],
   "source": []
  },
  {
   "cell_type": "code",
   "execution_count": null,
   "id": "c9a3037c",
   "metadata": {},
   "outputs": [],
   "source": []
  },
  {
   "cell_type": "code",
   "execution_count": null,
   "id": "c448c1e4",
   "metadata": {},
   "outputs": [],
   "source": []
  },
  {
   "cell_type": "code",
   "execution_count": null,
   "id": "9f17a101",
   "metadata": {},
   "outputs": [],
   "source": []
  },
  {
   "cell_type": "code",
   "execution_count": null,
   "id": "9e8351d7",
   "metadata": {},
   "outputs": [],
   "source": []
  },
  {
   "cell_type": "code",
   "execution_count": null,
   "id": "13743943",
   "metadata": {},
   "outputs": [],
   "source": []
  },
  {
   "cell_type": "code",
   "execution_count": 13,
   "id": "19c0a8a3",
   "metadata": {},
   "outputs": [
    {
     "name": "stdout",
     "output_type": "stream",
     "text": [
      "1\n",
      "C:\\Users\\zqy\\Documents\\火模\\示例模型\\示例数据\\李四交易记录.pdf\n",
      "0 (71, 6) 1 (141, 6) 2 (211, 6) 3 (281, 6) 4 (351, 6) 5 (421, 6) 6 (491, 6) 7 (561, 6) 8 (631, 6) 9 (701, 6) 10 (771, 6) 11 (841, 6) 12 (911, 6) 13 (981, 6) 14 (1051, 6) 15 (1121, 6) 16 (1191, 6) 17 (1261, 6) 18 (1331, 6) 19 (1401, 6) 20 (1471, 6) 21 (1541, 6) 22 (1611, 6) 23 (1681, 6) 24 (1751, 6) 25 (1821, 6) 26 (1891, 6) 27 (1961, 6) 28 (2031, 6) 29 (2101, 6) 30 (2171, 6) 31 (2241, 6) 32 (2311, 6) 33 (2381, 6) 34 (2451, 6) 35 (2521, 6) 36 (2591, 6) 37 (2661, 6) 38 (2731, 6) 39 (2801, 6) 40 (2871, 6) 41 (2941, 6) 42 (3011, 6) 43 (3081, 6) 44 (3151, 6) 45 (3221, 6) 46 (3291, 6) 47 (3361, 6) 48 (3431, 6) 49 (3501, 6) 50 (3571, 6) 51 (3641, 6) 52 (3711, 6) 53 (3781, 6) 54 (3851, 6) 55 (3921, 6) 56 (3991, 6) 57 (4061, 6) 58 (4131, 6) 59 (4201, 6) 60 (4271, 6) 61 (4341, 6) 62 (4411, 6) 63 (4481, 6) 64 (4551, 6) 65 (4621, 6) 66 (4691, 6) 67 (4761, 6) 68 (4831, 6) 69 (4901, 6) 70 (4971, 6) 71 (5041, 6) 72 (5111, 6) 73 (5181, 6) 74 (5251, 6) 75 (5321, 6) 76 (5391, 6) 77 (5461, 6) 78 (5531, 6) 79 (5601, 6) 80 (5671, 6) 81 (5741, 6) 82 (5811, 6) 83 (5881, 6) 84 (5951, 6) 85 (6021, 6) 86 (6091, 6) 87 (6161, 6) 88 (6231, 6) 89 (6301, 6) 90 (6371, 6) 91 (6441, 6) 92 (6511, 6) 93 (6581, 6) 94 (6651, 6) 95 (6721, 6) 96 (6791, 6) 97 (6861, 6) 98 (6931, 6) 99 (7001, 6) 100 (7071, 6) 101 (7141, 6) 102 (7211, 6) 103 (7281, 6) 104 (7351, 6) 105 (7421, 6) 106 (7491, 6) 107 (7561, 6) 108 (7631, 6) 109 (7701, 6) 110 (7771, 6) 111 (7841, 6) 112 (7911, 6) 113 (7981, 6) 114 (8051, 6) 115 (8087, 6) "
     ]
    }
   ],
   "source": [
    "import os\n",
    "file_list = []\n",
    "output_path = 'C:\\\\Users\\\\zqy\\\\Desktop\\\\'\n",
    "os.chdir(r\"C:\\Users\\zqy\\Documents\\火模\\示例模型\\示例数据\")\n",
    "for path_name, dir, files_name in os.walk(os.getcwd()):\n",
    "    for file in files_name:\n",
    "        if '.pdf' in file:\n",
    "            file_list.append(os.path.join(path_name, file))\n",
    "print(len(file_list))\n",
    "print('\\n'.join(file_list))\n",
    "\n",
    "import pandas as pd\n",
    "def pdf_append_excel(table):\n",
    "    df = pd.DataFrame()\n",
    "    for k in range(len(table)):\n",
    "        print(k,end = ' ')\n",
    "        df = df.append(table[k].df)    # table对象的df属性，得到一个pandas.core.frame.DataFrame对象\n",
    "        print(df.shape ,end = ' ')\n",
    "    return df\n",
    "\n",
    "import re\n",
    "import camelot\n",
    "for i in range(len(file_list)):\n",
    "    table1 = camelot.read_pdf(file_list[i],pages = '1-end',flavor='stream')    # 得到一个camelot.core.Table对象\n",
    "    df = pdf_append_excel(table1)\n",
    "    df['ColumnA'] = df[df.columns[0:]].apply(lambda x: ' '.join(x.dropna()),axis=1)    #删掉空 把每行所有元素连接成常字符串，用空格做列分割符\n",
    "    df = df.applymap(lambda x: re.sub('\\n', ' ',str(x)))\n",
    "\n",
    "    \n",
    "    df['ColumnA'].iloc[0] = re.sub('\\s+',' ',df['ColumnA'].iloc[0])\n",
    "    df = df['ColumnA'].str.split(' ',expand = True)\n",
    "\n",
    "    cols = df.iloc[0].to_list()\n",
    "    df.columns = cols\n",
    "    df = df.iloc[1:]"
   ]
  },
  {
   "cell_type": "code",
   "execution_count": 14,
   "id": "73875b12",
   "metadata": {},
   "outputs": [
    {
     "data": {
      "text/html": [
       "<div>\n",
       "<style scoped>\n",
       "    .dataframe tbody tr th:only-of-type {\n",
       "        vertical-align: middle;\n",
       "    }\n",
       "\n",
       "    .dataframe tbody tr th {\n",
       "        vertical-align: top;\n",
       "    }\n",
       "\n",
       "    .dataframe thead th {\n",
       "        text-align: right;\n",
       "    }\n",
       "</style>\n",
       "<table border=\"1\" class=\"dataframe\">\n",
       "  <thead>\n",
       "    <tr style=\"text-align: right;\">\n",
       "      <th></th>\n",
       "      <th></th>\n",
       "      <th>借贷标志</th>\n",
       "      <th></th>\n",
       "      <th>NaN</th>\n",
       "      <th>NaN</th>\n",
       "      <th>NaN</th>\n",
       "      <th>NaN</th>\n",
       "      <th>NaN</th>\n",
       "      <th>NaN</th>\n",
       "      <th>NaN</th>\n",
       "    </tr>\n",
       "  </thead>\n",
       "  <tbody>\n",
       "    <tr>\n",
       "      <th>1</th>\n",
       "      <td>户名</td>\n",
       "      <td>账号</td>\n",
       "      <td>交易时间</td>\n",
       "      <td></td>\n",
       "      <td>金额（元）</td>\n",
       "      <td>对方账号</td>\n",
       "      <td>对方户名</td>\n",
       "      <td>None</td>\n",
       "      <td>None</td>\n",
       "      <td>None</td>\n",
       "    </tr>\n",
       "    <tr>\n",
       "      <th>2</th>\n",
       "      <td></td>\n",
       "      <td></td>\n",
       "      <td>（借F：1，贷F：2）</td>\n",
       "      <td></td>\n",
       "      <td></td>\n",
       "      <td></td>\n",
       "      <td>None</td>\n",
       "      <td>None</td>\n",
       "      <td>None</td>\n",
       "      <td>None</td>\n",
       "    </tr>\n",
       "    <tr>\n",
       "      <th>3</th>\n",
       "      <td>李四</td>\n",
       "      <td>******1601106058292</td>\n",
       "      <td>2008-03-05</td>\n",
       "      <td>15:21:55</td>\n",
       "      <td>2</td>\n",
       "      <td>0.00</td>\n",
       "      <td>*</td>\n",
       "      <td>*</td>\n",
       "      <td>None</td>\n",
       "      <td>None</td>\n",
       "    </tr>\n",
       "    <tr>\n",
       "      <th>4</th>\n",
       "      <td>李四</td>\n",
       "      <td>******1601106058292</td>\n",
       "      <td>2008-07-30</td>\n",
       "      <td>13:06:28</td>\n",
       "      <td>2</td>\n",
       "      <td>100.00</td>\n",
       "      <td>******65*11*93*85</td>\n",
       "      <td>张三</td>\n",
       "      <td>None</td>\n",
       "      <td>None</td>\n",
       "    </tr>\n",
       "    <tr>\n",
       "      <th>5</th>\n",
       "      <td>李四</td>\n",
       "      <td>******1601106058292</td>\n",
       "      <td>2008-07-30</td>\n",
       "      <td>13:07:08</td>\n",
       "      <td>1</td>\n",
       "      <td>1.00</td>\n",
       "      <td>******75*11*42277</td>\n",
       "      <td>W瑶璇</td>\n",
       "      <td>None</td>\n",
       "      <td>None</td>\n",
       "    </tr>\n",
       "    <tr>\n",
       "      <th>...</th>\n",
       "      <td>...</td>\n",
       "      <td>...</td>\n",
       "      <td>...</td>\n",
       "      <td>...</td>\n",
       "      <td>...</td>\n",
       "      <td>...</td>\n",
       "      <td>...</td>\n",
       "      <td>...</td>\n",
       "      <td>...</td>\n",
       "      <td>...</td>\n",
       "    </tr>\n",
       "    <tr>\n",
       "      <th>31</th>\n",
       "      <td>李四</td>\n",
       "      <td>******1601106058292</td>\n",
       "      <td>2008-09-19</td>\n",
       "      <td>19:23:19</td>\n",
       "      <td>1</td>\n",
       "      <td>100000.00</td>\n",
       "      <td>******16*11*41*39</td>\n",
       "      <td>W贞波</td>\n",
       "      <td>None</td>\n",
       "      <td>None</td>\n",
       "    </tr>\n",
       "    <tr>\n",
       "      <th>32</th>\n",
       "      <td>李四</td>\n",
       "      <td>******1601106058292</td>\n",
       "      <td>2008-09-19</td>\n",
       "      <td>19:58:09</td>\n",
       "      <td>1</td>\n",
       "      <td>500000.00</td>\n",
       "      <td>******33*1111*346</td>\n",
       "      <td>Z志亨</td>\n",
       "      <td>None</td>\n",
       "      <td>None</td>\n",
       "    </tr>\n",
       "    <tr>\n",
       "      <th>33</th>\n",
       "      <td>李四</td>\n",
       "      <td>******1601106058292</td>\n",
       "      <td>2008-09-19</td>\n",
       "      <td>20:00:41</td>\n",
       "      <td>1</td>\n",
       "      <td>8985.00</td>\n",
       "      <td>******12*11*34982</td>\n",
       "      <td>C少吟</td>\n",
       "      <td>None</td>\n",
       "      <td>None</td>\n",
       "    </tr>\n",
       "    <tr>\n",
       "      <th>34</th>\n",
       "      <td>李四</td>\n",
       "      <td>******1601106058292</td>\n",
       "      <td>2008-09-19</td>\n",
       "      <td>20:04:04</td>\n",
       "      <td>1</td>\n",
       "      <td>165394.00</td>\n",
       "      <td>******21*11*76533</td>\n",
       "      <td>T数理</td>\n",
       "      <td>None</td>\n",
       "      <td>None</td>\n",
       "    </tr>\n",
       "    <tr>\n",
       "      <th>35</th>\n",
       "      <td>李四</td>\n",
       "      <td>******1601106058292</td>\n",
       "      <td>2008-09-19</td>\n",
       "      <td>20:05:15</td>\n",
       "      <td>1</td>\n",
       "      <td>577800.00</td>\n",
       "      <td>******75*11*42277</td>\n",
       "      <td>W瑶璇</td>\n",
       "      <td>None</td>\n",
       "      <td>None</td>\n",
       "    </tr>\n",
       "  </tbody>\n",
       "</table>\n",
       "<p>8086 rows × 10 columns</p>\n",
       "</div>"
      ],
      "text/plain": [
       "                       借贷标志                    NaN    NaN        NaN  \\\n",
       "1   户名                   账号         交易时间            金额（元）       对方账号   \n",
       "2                            （借F：1，贷F：2）                               \n",
       "3   李四  ******1601106058292   2008-03-05  15:21:55      2       0.00   \n",
       "4   李四  ******1601106058292   2008-07-30  13:06:28      2     100.00   \n",
       "5   李四  ******1601106058292   2008-07-30  13:07:08      1       1.00   \n",
       "..  ..                  ...          ...       ...    ...        ...   \n",
       "31  李四  ******1601106058292   2008-09-19  19:23:19      1  100000.00   \n",
       "32  李四  ******1601106058292   2008-09-19  19:58:09      1  500000.00   \n",
       "33  李四  ******1601106058292   2008-09-19  20:00:41      1    8985.00   \n",
       "34  李四  ******1601106058292   2008-09-19  20:04:04      1  165394.00   \n",
       "35  李四  ******1601106058292   2008-09-19  20:05:15      1  577800.00   \n",
       "\n",
       "                  NaN   NaN   NaN   NaN  \n",
       "1                对方户名  None  None  None  \n",
       "2                None  None  None  None  \n",
       "3                   *     *  None  None  \n",
       "4   ******65*11*93*85    张三  None  None  \n",
       "5   ******75*11*42277   W瑶璇  None  None  \n",
       "..                ...   ...   ...   ...  \n",
       "31  ******16*11*41*39   W贞波  None  None  \n",
       "32  ******33*1111*346   Z志亨  None  None  \n",
       "33  ******12*11*34982   C少吟  None  None  \n",
       "34  ******21*11*76533   T数理  None  None  \n",
       "35  ******75*11*42277   W瑶璇  None  None  \n",
       "\n",
       "[8086 rows x 10 columns]"
      ]
     },
     "execution_count": 14,
     "metadata": {},
     "output_type": "execute_result"
    }
   ],
   "source": [
    "df"
   ]
  },
  {
   "cell_type": "code",
   "execution_count": null,
   "id": "38c3ca65",
   "metadata": {},
   "outputs": [],
   "source": [
    "if not os.path.isfile(output_path + str(df['客户名称'].iloc[0])+\".xlsx\"):\n",
    "    df.to_excel(output_path +  str(df['客户名称'].iloc[0])+\".xlsx\", sheet_name= str(df['账号'].iloc[0]),index = False)    \n",
    "else:\n",
    "    with pd.ExcelWriter(output_path +  str(df['客户名称'].iloc[0])+\".xlsx\" ,mode='a', engine='openpyxl') as writer:\n",
    "            df.to_excel(writer, sheet_name= str(df['账号'].iloc[0]),index = False)\n",
    "    print(str(df['客户名称'].iloc[0])+'Done!')"
   ]
  },
  {
   "cell_type": "code",
   "execution_count": null,
   "id": "cad4fb11",
   "metadata": {},
   "outputs": [],
   "source": []
  }
 ],
 "metadata": {
  "kernelspec": {
   "display_name": "Python 3",
   "language": "python",
   "name": "python3"
  },
  "language_info": {
   "codemirror_mode": {
    "name": "ipython",
    "version": 3
   },
   "file_extension": ".py",
   "mimetype": "text/x-python",
   "name": "python",
   "nbconvert_exporter": "python",
   "pygments_lexer": "ipython3",
   "version": "3.8.8"
  }
 },
 "nbformat": 4,
 "nbformat_minor": 5
}
