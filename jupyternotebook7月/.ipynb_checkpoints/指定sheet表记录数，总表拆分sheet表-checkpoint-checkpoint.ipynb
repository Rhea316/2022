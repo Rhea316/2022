{
 "cells": [
  {
   "cell_type": "code",
   "execution_count": 2,
   "metadata": {},
   "outputs": [
    {
     "name": "stdout",
     "output_type": "stream",
     "text": [
      "0\n",
      "1\n",
      "2\n",
      "3\n",
      "4\n",
      "5\n",
      "Done!\n"
     ]
    }
   ],
   "source": [
    "import codecs\n",
    "import pandas as pd\n",
    "\n",
    "#read data from csv\n",
    "df = pd.read_csv('F:\\新建文件夹\\滁州传销.csv',encoding='utf-8',low_memory=False)\n",
    "df = df.loc[:,[\"ID\",\"wxname\",\"sfz\"]]\n",
    "size = df.index.size\n",
    "limit = 500000\n",
    "sheets = int(size / limit)+1\n",
    "\n",
    "with pd.ExcelWriter('F:\\新建文件夹\\滁州传销.xlsx') as writer:\n",
    "    for i in range(sheets):\n",
    "        start = limit * i\n",
    "        stop = limit * (i+1)\n",
    "        print(i)\n",
    "        data = df.iloc[start:stop].astype(str).replace('nan','')\n",
    "        data.to_excel(writer, sheet_name='sheet'+str(i),index = False)\n",
    "print(\"Done!\")"
   ]
  },
  {
   "cell_type": "code",
   "execution_count": null,
   "metadata": {},
   "outputs": [],
   "source": []
  },
  {
   "cell_type": "code",
   "execution_count": null,
   "metadata": {},
   "outputs": [],
   "source": []
  }
 ],
 "metadata": {
  "kernelspec": {
   "display_name": "Python 3",
   "language": "python",
   "name": "python3"
  },
  "language_info": {
   "codemirror_mode": {
    "name": "ipython",
    "version": 3
   },
   "file_extension": ".py",
   "mimetype": "text/x-python",
   "name": "python",
   "nbconvert_exporter": "python",
   "pygments_lexer": "ipython3",
   "version": "3.8.8"
  }
 },
 "nbformat": 4,
 "nbformat_minor": 4
}
