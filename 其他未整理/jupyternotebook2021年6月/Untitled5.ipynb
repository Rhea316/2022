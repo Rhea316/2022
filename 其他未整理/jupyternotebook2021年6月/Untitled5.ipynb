{
 "cells": [
  {
   "cell_type": "code",
   "execution_count": null,
   "metadata": {},
   "outputs": [],
   "source": [
    "n = int(input(\"Enter the number of students: \"))                                                                                          \n",
    "data = {}                                          # \\u521b\\u5efa\\u7a7a\\u5b57\\u5178data\n",
    "Subjects = ('Physics', 'Maths', 'History')         # \\u5143\\u7ec4Subjects\n",
    "for i in range(0,n)                           \n",
    "name = input('Enter the name of the strdent {}: '.fromat(i + 1))  # \\u5b9a\\u4e49name \\u8d4b\\u503c input\\u503c\n",
    "marks = []                                    # \\u521b\\u5efa\\u7a7a\\u5217\\u8868marks\n",
    "for x in Subjects:                            # x = Subject[0] = Subject[2] \n",
    "marks.append(int(input('Enter marks of {}: '.format(x)))) # marks\\u5217\\u8868\\u672b\\u5c3e\\u63d2\\u5165input\\u503c\n",
    "data[name] = marks # \\u7ed9data\\u5b57\\u5178\\u7684name\\u952e \\u8d4b\\u503cmarks\\u7684\\u503c\n",
    "for x, y in data.items()  # data\\u5b57\\u5178\\u7684\\u952e\\u503c\\u5bf9\\u904d\\u5386 x,y = name,marks\n",
    "total = sum(y)  #  \\u5b57\\u5178\\u4e2d\\u6240\\u6709value\\u503cy\\u6c42\\u548c \n",
    "print(\"{}'s total marks {}\".format(x, total)\n",
    "if tatal < 120:                   \n",
    "print(x, \"failed :(\")             \n",
    "else:                             \n",
    "print(x, \"passed :)\")                                                       "
   ]
  },
  {
   "cell_type": "code",
   "execution_count": 4,
   "metadata": {},
   "outputs": [
    {
     "name": "stdout",
     "output_type": "stream",
     "text": [
      "90\n"
     ]
    }
   ],
   "source": [
    "num = 90 #全局变量\n",
    "def de():\n",
    "    global num  #修改全局变量为30\n",
    "    num=30\n",
    "def df():\n",
    "    print(num)\n",
    "df()"
   ]
  },
  {
   "cell_type": "code",
   "execution_count": 5,
   "metadata": {},
   "outputs": [
    {
     "data": {
      "text/plain": [
       "'all'"
      ]
     },
     "execution_count": 5,
     "metadata": {},
     "output_type": "execute_result"
    }
   ],
   "source": [
    "s = \"We all love Python\"\n",
    "s.split()[1]\n",
    "\n"
   ]
  },
  {
   "cell_type": "code",
   "execution_count": null,
   "metadata": {},
   "outputs": [],
   "source": []
  }
 ],
 "metadata": {
  "kernelspec": {
   "display_name": "Python 3",
   "language": "python",
   "name": "python3"
  },
  "language_info": {
   "codemirror_mode": {
    "name": "ipython",
    "version": 3
   },
   "file_extension": ".py",
   "mimetype": "text/x-python",
   "name": "python",
   "nbconvert_exporter": "python",
   "pygments_lexer": "ipython3",
   "version": "3.7.3"
  }
 },
 "nbformat": 4,
 "nbformat_minor": 2
}
