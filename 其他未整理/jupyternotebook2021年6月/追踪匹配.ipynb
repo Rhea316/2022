{
 "cells": [
  {
   "cell_type": "code",
   "execution_count": 144,
   "metadata": {},
   "outputs": [],
   "source": [
    "import pandas as pd\n",
    "import numpy as np\n",
    "import re\n",
    "output_path = r'C:\\Users\\ThinkPad\\Desktop\\河南\\合并'\n",
    "output_path = eval(repr(output_path))+str('\\\\')\n",
    "# df = pd.read_csv(output_path + \"合并.csv\",encoding = 'utf-8',dtype = object)\n",
    "df = pd.read_excel(output_path + \"银行交易流水.xlsx\",encoding = \"gbk\",dtype = object)\n",
    "df = df.applymap(lambda x: re.sub('nan','',str(x)))\n",
    "df['交易金额'] = df['交易金额'].map(lambda x: float(x))  #交易金额指定浮点型\n",
    "df['交易余额'] = df['交易余额'].map(lambda x: np.NaN if str(x)=='' else x)\n",
    "df['交易余额'] = df['交易余额'].map(lambda x: float(x))\n",
    "\n",
    "df['序号'] = df.index\n",
    "all_流水完整 = df\n",
    "\n",
    "# 客户公司五千万以上进款单笔追踪\n",
    "# df['交易日期'] = df['交易时间'].str[0:10]\n"
   ]
  },
  {
   "cell_type": "code",
   "execution_count": 152,
   "metadata": {},
   "outputs": [],
   "source": [
    "def 一方匹配另一方(df_一方, all_另一方):\n",
    "    df_一方.index = df_一方['序号'].to_list()\n",
    "    df_匹配 = pd.DataFrame()\n",
    "    df_未匹配 = pd.DataFrame()\n",
    "    df_另一方 = pd.DataFrame(all_另一方[ (all_另一方['借贷标志']=='出')  ])\n",
    "# df_另一方 = pd.DataFrame(all_流水完整[ (all_流水完整['借贷标志']=='出') & ( all_流水完整['对手户名'].map(lambda  x:len(x)>3 or len(x)==0) )  ])\n",
    "    print(str(len(df_一方))+\"条，最大索引为\"+ str(df_一方.index.max()))\n",
    "# 差异 days = 1，minutes=10 ,seconds = 10\n",
    "\n",
    "    for j in df_一方.index:\n",
    "        for N in range(100):\n",
    "            x = index向后N位的index(df_另一方, j, N)\n",
    "    \n",
    "            df_一进一出 = df_另一方[( df_另一方['序号'] <= x ) & ( df_另一方['序号'] > j ) \\\n",
    "                & (df_另一方['查询卡号']== df_一方['查询卡号'].loc[j] ) \\\n",
    "                ]\n",
    "            if df_一方['交易金额'].loc[j]*(1-0.10) < df_一进一出['交易金额'].sum():\n",
    "                break\n",
    "            else:\n",
    "                continue\n",
    "        if len(df_一进一出)>0:\n",
    "            merge_一进一出 = pd.merge(df_一方.loc[[j],:],df_一进一出,how = 'outer')\n",
    "            df_匹配 = df_匹配.append(merge_一进一出)\n",
    "            print(str(j)+\"-\"+str(x), end = ' ')\n",
    "        elif len(df_一进一出)==0:\n",
    "            df_未匹配 = df_未匹配.append(df_一方.loc[[j],:])\n",
    "            print(str(j)+'失败', end = ' ')\n",
    "    return df_匹配"
   ]
  },
  {
   "cell_type": "code",
   "execution_count": 147,
   "metadata": {},
   "outputs": [],
   "source": [
    "def AB匹配(df_A,df_B):\n",
    "    df_A.index = df_A['序号'].to_list()\n",
    "    df_A出B进 = pd.DataFrame()\n",
    "    df_A出B空 = pd.DataFrame()\n",
    "    df_A出 = df_A[df_A['借贷标志']=='出'].drop_duplicates(subset = ['序号'],keep = 'last')\n",
    "    for k in df_A出.index:\n",
    "        df_B进 = df_B[(df_B['借贷标志']=='进') \\\n",
    "            & ( df_B['交易对方卡号'].isin(df_A出['查询卡号']) ) \\\n",
    "            & (df_B['交易时间']<= str(datetime.datetime.strptime(df_A出['交易时间'].loc[k], '%Y-%m-%d %H:%M:%S') + datetime.timedelta(minutes = 1) )  ) \\\n",
    "            & (df_B['交易时间']>= str(datetime.datetime.strptime(df_A出['交易时间'].loc[k], '%Y-%m-%d %H:%M:%S') + datetime.timedelta(seconds = -10) ) ) \\\n",
    "            & (df_B['交易金额'] == df_A出['交易金额'].loc[k])  \\\n",
    "            ]\n",
    "        if len(df_B进)>0:\n",
    "            merge_A出B进 = pd.merge(df_A出.loc[[k],:], df_B进, how = 'outer')\n",
    "            df_A出B进 = df_A出B进.append(merge_A出B进)\n",
    "            print(k, end = ' ')\n",
    "        elif len(df_B进)==0:\n",
    "            df_A出B空 = df_A出B空.append(df_A出.loc[[k],:])\n",
    "            print(str(k)+'失败', end = ' ')\n",
    "    return df_A出B进"
   ]
  },
  {
   "cell_type": "code",
   "execution_count": 155,
   "metadata": {},
   "outputs": [
    {
     "name": "stdout",
     "output_type": "stream",
     "text": [
      "27条，最大索引为37744\n",
      "36053-36054 36060-36062 36063-36067 36152-36154 36162-36181 36243-36244 36287-36292 36357-36358 36370-36371 36378-36380 36459-36461 36536-36580 36579-36580 36808-36815 36897-36898 36929-36930 37018-37020 37021-37023 37031-37032 37088-37091 37226-37227 37237-37239 37247-37251 37316-37318 37602-37603 37713-37714 37744-37745 Done!\n"
     ]
    }
   ],
   "source": [
    "df_原点线索 = all_流水完整[ (all_流水完整['客户名称'].isin(['河南迈乐加餐厅食品有限公司','河南蔡氏餐饮管理有限公司']) )\n",
    "                 & (all_流水完整['交易金额']>50000000 )\n",
    "                 & (all_流水完整['借贷标志']=='进')]\n",
    "\n",
    "df_一层 = 一方匹配另一方(df_原点线索,all_流水完整)\n",
    "df_一层.to_excel(output_path +  \"多层匹配.xlsx\",index = None)\n",
    "print('Done!')"
   ]
  },
  {
   "cell_type": "code",
   "execution_count": 156,
   "metadata": {},
   "outputs": [
    {
     "name": "stdout",
     "output_type": "stream",
     "text": [
      "36054 36062失败 36064失败 36065失败 36066失败 36067失败 36153失败 36154失败 36163失败 36164 36165失败 36166 36167失败 36169失败 36170 36171失败 36172失败 36173 36174 36175 36178失败 36179失败 36180失败 36181失败 36244失败 36288 36292失败 36358 36371失败 36380失败 36460 36461 36537失败 36558失败 36559失败 36560失败 36561失败 36562失败 36563失败 36564失败 36565失败 36566失败 36567失败 36580失败 36812失败 36813失败 36814失败 36815失败 36898失败 36930失败 37020 37023 37032 37089 37090 37091 37227 37238 37239 37249失败 37250失败 37251 37317失败 37318 37603 37714失败 37745 Done!\n"
     ]
    }
   ],
   "source": [
    "df_一层A出B进 = AB匹配(df_一层,all_流水完整)\n",
    "df_一层A出B进.to_excel(output_path + '一层A出B进.xlsx', sheet_name = '匹配',index = None)\n",
    "print('Done!')"
   ]
  },
  {
   "cell_type": "code",
   "execution_count": 157,
   "metadata": {},
   "outputs": [
    {
     "name": "stdout",
     "output_type": "stream",
     "text": [
      "24条，最大索引为41513\n",
      "3622-3624 3698-3699 3700-3701 24053-24055 3702-3703 37074-37076 37075-37076 3743-3746 37226-37227 37021-37023 37024-37026 36243-36244 36536-36580 36053-36054 36246-36247 3720-3721 36249-36250 41513-41521 36369-36371 36370-36371 36378-36380 26372-26385 36897-36898 36929-36930 Done!\n"
     ]
    }
   ],
   "source": [
    "df_一层线索 = df_一层A出B进[ (df_一层A出B进['借贷标志']=='进')]\n",
    "\n",
    "df_二层 = 一方匹配另一方(df_一层线索,all_流水完整)\n",
    "\n",
    "with pd.ExcelWriter(output_path +  \"多层匹配.xlsx\" ,mode='a', engine='openpyxl') as writer:\n",
    "    df_二层.to_excel(writer, sheet_name= '二层',index = False)\n",
    "print('Done!')"
   ]
  },
  {
   "cell_type": "code",
   "execution_count": 158,
   "metadata": {},
   "outputs": [
    {
     "name": "stdout",
     "output_type": "stream",
     "text": [
      "3623 3624失败 3699失败 3701失败 24054失败 24055失败 3703失败 37076失败 3744失败 3745失败 3746失败 37227 37023 37026 36244失败 36537失败 36558失败 36559失败 36560失败 36561失败 36562失败 36563失败 36564失败 36565失败 36566失败 36567失败 36580失败 36054 36247失败 3721 36250失败 41514失败 41515失败 41516失败 41517失败 41518失败 41520失败 41521失败 36371失败 36380失败 26384失败 26385 36898失败 36930失败 "
     ]
    }
   ],
   "source": [
    "df_二层A出B进 = AB匹配(df_二层,all_流水完整)\n",
    "df_二层A出B进.to_excel(output_path + '二层A出B进.xlsx', sheet_name = '匹配',index = None)\n",
    "print('Done!')"
   ]
  },
  {
   "cell_type": "code",
   "execution_count": 159,
   "metadata": {},
   "outputs": [
    {
     "name": "stdout",
     "output_type": "stream",
     "text": [
      "7条，最大索引为41513\n",
      "68-71 41513-41521 36536-36580 36514-36516 3622-3624 36248-36250 25367-25369 Done!\n"
     ]
    }
   ],
   "source": [
    "df_二层线索 = df_二层A出B进[ (df_二层A出B进['借贷标志']=='进')]\n",
    "\n",
    "df_三层 = 一方匹配另一方(df_二层线索,all_流水完整)\n",
    "\n",
    "with pd.ExcelWriter(output_path +  \"多层匹配.xlsx\" ,mode='a', engine='openpyxl') as writer:\n",
    "    df_三层.to_excel(writer, sheet_name= '三层',index = False)\n",
    "print('Done!')"
   ]
  },
  {
   "cell_type": "code",
   "execution_count": 160,
   "metadata": {},
   "outputs": [
    {
     "name": "stdout",
     "output_type": "stream",
     "text": [
      "71失败 41514失败 41515失败 41516失败 41517失败 41518失败 41520失败 41521失败 36537失败 36558失败 36559失败 36560失败 36561失败 36562失败 36563失败 36564失败 36565失败 36566失败 36567失败 36580失败 36516 3623 3624失败 36250失败 25369失败 Done!\n"
     ]
    }
   ],
   "source": [
    "df_三层A出B进 = AB匹配(df_三层, all_流水完整)\n",
    "df_三层A出B进.to_excel(output_path + '三层A出B进.xlsx', sheet_name = '匹配',index = None)\n",
    "print('Done!')"
   ]
  },
  {
   "cell_type": "code",
   "execution_count": 161,
   "metadata": {},
   "outputs": [
    {
     "name": "stdout",
     "output_type": "stream",
     "text": [
      "2条，最大索引为24204\n",
      "24204-24205 68-71 Done!\n"
     ]
    }
   ],
   "source": [
    "df_三层线索 = df_三层A出B进[ (df_三层A出B进['借贷标志']=='进')]\n",
    "\n",
    "df_四层 = 一方匹配另一方(df_三层线索,all_流水完整)\n",
    "\n",
    "with pd.ExcelWriter(output_path +  \"多层匹配.xlsx\" ,mode='a', engine='openpyxl') as writer:\n",
    "    df_四层.to_excel(writer, sheet_name= '四层',index = False)\n",
    "print('Done!')"
   ]
  },
  {
   "cell_type": "code",
   "execution_count": 162,
   "metadata": {},
   "outputs": [
    {
     "name": "stdout",
     "output_type": "stream",
     "text": [
      "24205失败 71失败 Done!\n"
     ]
    }
   ],
   "source": [
    "df_四层A出B进 = AB匹配(df_四层, all_流水完整)\n",
    "df_四层A出B进.to_excel(output_path + '四层A出B进.xlsx', sheet_name = '匹配',index = None)\n",
    "print('Done!')"
   ]
  },
  {
   "cell_type": "code",
   "execution_count": null,
   "metadata": {},
   "outputs": [],
   "source": []
  },
  {
   "cell_type": "code",
   "execution_count": null,
   "metadata": {},
   "outputs": [],
   "source": []
  },
  {
   "cell_type": "code",
   "execution_count": null,
   "metadata": {},
   "outputs": [],
   "source": []
  },
  {
   "cell_type": "code",
   "execution_count": null,
   "metadata": {},
   "outputs": [],
   "source": []
  },
  {
   "cell_type": "code",
   "execution_count": null,
   "metadata": {},
   "outputs": [],
   "source": []
  },
  {
   "cell_type": "code",
   "execution_count": null,
   "metadata": {},
   "outputs": [],
   "source": []
  },
  {
   "cell_type": "code",
   "execution_count": null,
   "metadata": {},
   "outputs": [],
   "source": []
  },
  {
   "cell_type": "code",
   "execution_count": null,
   "metadata": {},
   "outputs": [],
   "source": []
  },
  {
   "cell_type": "code",
   "execution_count": null,
   "metadata": {},
   "outputs": [],
   "source": []
  },
  {
   "cell_type": "code",
   "execution_count": null,
   "metadata": {},
   "outputs": [],
   "source": []
  },
  {
   "cell_type": "code",
   "execution_count": null,
   "metadata": {},
   "outputs": [],
   "source": []
  },
  {
   "cell_type": "code",
   "execution_count": null,
   "metadata": {},
   "outputs": [],
   "source": []
  },
  {
   "cell_type": "code",
   "execution_count": null,
   "metadata": {},
   "outputs": [],
   "source": []
  },
  {
   "cell_type": "code",
   "execution_count": 66,
   "metadata": {},
   "outputs": [
    {
     "name": "stdout",
     "output_type": "stream",
     "text": [
      "36053-36054 "
     ]
    }
   ],
   "source": [
    "for j in [36053]:\n",
    "    x = index向后N位的index(df_另一方, j, 0)\n",
    "    \n",
    "    df_一进一出 = df_另一方[( df_另一方['序号'] <= x ) & ( df_另一方['序号'] > j ) &\\\n",
    "        (df_另一方['查询卡号']== df_一方['查询卡号'].loc[j] ) \\\n",
    "#         & (df_另一方['交易时间']<= str(datetime.datetime.strptime(df_一方['交易时间'].loc[j], '%Y-%m-%d %H:%M:%S') + datetime.timedelta(days = 1) )[0:10]+' 23:59:59'  )& \\\n",
    "#         (df_另一方['交易金额']>= df_一方['交易金额'].loc[j]*(1-0.005)) & \\\n",
    "#         (df_另一方['交易金额']<= df_一方['交易金额'].loc[j]*(1+0.005)) \n",
    "        ]\n",
    "            \n",
    "    if len(df_一进一出)>0:\n",
    "        merge_一进一出 = pd.merge(df_一进一出,df_一方.loc[[j],:],how = 'outer')\n",
    "        df_匹配 = df_匹配.append(merge_一进一出)\n",
    "        print(str(j)+\"-\"+str(x), end = ' ')\n",
    "    elif len(df_一进一出)==0:\n",
    "        df_未匹配 = df_未匹配.append(df_一方.loc[[j],:])\n",
    "        print(str(j)+'失败', end = ' ')\n",
    "\n"
   ]
  },
  {
   "cell_type": "code",
   "execution_count": 78,
   "metadata": {},
   "outputs": [
    {
     "name": "stdout",
     "output_type": "stream",
     "text": [
      "36060-36062 "
     ]
    }
   ],
   "source": [
    "for j in [36060]:\n",
    "    for N in range(10):\n",
    "        x = index向后N位的index(df_另一方, j, N)\n",
    "    \n",
    "        df_一进一出 = df_另一方[( df_另一方['序号'] <= x ) & ( df_另一方['序号'] > j ) \\\n",
    "            & (df_另一方['查询卡号']== df_一方['查询卡号'].loc[j] ) \\\n",
    "#         & (df_另一方['交易时间']<= str(datetime.datetime.strptime(df_一方['交易时间'].loc[j], '%Y-%m-%d %H:%M:%S') + datetime.timedelta(days = 1) )[0:10]+' 23:59:59'  ) \\\n",
    "#         & (df_另一方['交易时间']>= str(datetime.datetime.strptime(df_一方['交易时间'].loc[j], '%Y-%m-%d %H:%M:%S') ) ) \\\n",
    "#         & (df_另一方['交易金额']>= df_一方['交易金额'].loc[j]*(1-0.005))  \\\n",
    "#         & (df_另一方['交易金额']<= df_一方['交易金额'].loc[j]*(1+0.005)) \n",
    "            ]\n",
    "        if df_一方['交易金额'].loc[j] > df_一进一出['交易金额'].sum():\n",
    "            print(str(df_一方['交易金额'].loc[j]) +\"小于\"+str(df_一进一出['交易金额'].sum())   )\n",
    "            continue\n",
    "        else:\n",
    "            break\n",
    "    if len(df_一进一出)>0:\n",
    "        merge_一进一出 = pd.merge(df_一方.loc[[j],:],df_一进一出,how = 'outer')\n",
    "        df_匹配 = df_匹配.append(merge_一进一出)\n",
    "        print(str(j)+\"-\"+str(x), end = ' ')\n",
    "    elif len(df_一进一出)==0:\n",
    "        df_未匹配 = df_未匹配.append(df_一方.loc[[j],:])\n",
    "        print(str(j)+'失败', end = ' ')"
   ]
  },
  {
   "cell_type": "code",
   "execution_count": 181,
   "metadata": {},
   "outputs": [
    {
     "name": "stdout",
     "output_type": "stream",
     "text": [
      "36064失败 "
     ]
    }
   ],
   "source": [
    "df_A出 = all_流水完整.loc[[36064]]\n",
    "\n",
    "for k in df_A出.index:\n",
    "    df_B进 = all_流水完整[(all_流水完整['借贷标志']=='进') \\\n",
    "            & ( all_流水完整['交易对方卡号'].isin(df_A出['查询卡号']) ) \\\n",
    "            & (all_流水完整['交易时间']<= str(datetime.datetime.strptime(df_A出['交易时间'].loc[k], '%Y-%m-%d %H:%M:%S') + datetime.timedelta(seconds = 1) )  ) \\\n",
    "            & (all_流水完整['交易时间']>= str(datetime.datetime.strptime(df_A出['交易时间'].loc[k], '%Y-%m-%d %H:%M:%S') + datetime.timedelta(seconds = -1) ) ) \\\n",
    "            & (all_流水完整['交易金额'] == df_A出['交易金额'].loc[k])  \\\n",
    "            ]\n",
    "    if len(df_B进)>0:\n",
    "        merge_A出B进 = pd.merge(df_A出.loc[[k],:], df_B进, how = 'outer')\n",
    "        df_A出B进 = df_A出B进.append(merge_A出B进)\n",
    "        print(k, end = ' ')\n",
    "    elif len(df_B进)==0:\n",
    "        df_A出B空 = df_A出B空.append(df_A出.loc[[k],:])\n",
    "        print(str(k)+'失败', end = ' ')"
   ]
  },
  {
   "cell_type": "code",
   "execution_count": null,
   "metadata": {},
   "outputs": [],
   "source": []
  },
  {
   "cell_type": "code",
   "execution_count": null,
   "metadata": {},
   "outputs": [],
   "source": []
  },
  {
   "cell_type": "code",
   "execution_count": null,
   "metadata": {},
   "outputs": [],
   "source": []
  },
  {
   "cell_type": "code",
   "execution_count": null,
   "metadata": {},
   "outputs": [],
   "source": []
  },
  {
   "cell_type": "code",
   "execution_count": null,
   "metadata": {},
   "outputs": [],
   "source": []
  },
  {
   "cell_type": "code",
   "execution_count": null,
   "metadata": {},
   "outputs": [],
   "source": []
  },
  {
   "cell_type": "code",
   "execution_count": null,
   "metadata": {},
   "outputs": [],
   "source": []
  },
  {
   "cell_type": "code",
   "execution_count": null,
   "metadata": {},
   "outputs": [],
   "source": []
  },
  {
   "cell_type": "code",
   "execution_count": 82,
   "metadata": {},
   "outputs": [
    {
     "name": "stdout",
     "output_type": "stream",
     "text": [
      "27条，最大索引为37744\n",
      "36053-36054 36060-36062 36063-36067 36152-36154 36162-36181 36243-36244 36287-36292 36357-36358 36370-36371 36378-36380 36459-36461 36536-36580 36579-36580 36808-36815 36897-36898 36929-36930 37018-37020 37021-37023 37031-37032 37088-37091 37226-37227 37237-37239 37247-37251 37316-37318 37602-37603 37713-37714 37744-37745 "
     ]
    }
   ],
   "source": [
    "def index向后N位的index(df_序列, j_一方, no_N):\n",
    "    for k in df_序列.index:\n",
    "        if k >j_一方:\n",
    "            no_序列号 = len(df_序列.loc[:k] )\n",
    "            no_目标序列号 = no_序列号 + no_N\n",
    "            if no_目标序列号 >= len(df_序列):\n",
    "                index_目标 = df_序列.index.max()\n",
    "            else:\n",
    "                index_目标 = df_序列.reset_index().iloc[ no_目标序列号-1 ]['index']\n",
    "            break\n",
    "    return index_目标\n",
    "\n",
    "\n",
    "import datetime\n",
    "\n",
    "df_匹配 = pd.DataFrame()\n",
    "df_未匹配 = pd.DataFrame()\n",
    "df_另一方 = pd.DataFrame(all_流水完整[ (all_流水完整['借贷标志']=='出')  ])\n",
    "# df_另一方 = pd.DataFrame(all_流水完整[ (all_流水完整['借贷标志']=='出') & ( all_流水完整['对手户名'].map(lambda  x:len(x)>3 or len(x)==0) )  ])\n",
    "print(str(len(df_一方))+\"条，最大索引为\"+ str(df_一方.index.max()))\n",
    "# 差异 days = 1，minutes=10 ,seconds = 10\n",
    "\n",
    "for j in df_一方.index:\n",
    "    for N in range(100):\n",
    "        x = index向后N位的index(df_另一方, j, N)\n",
    "    \n",
    "        df_一进一出 = df_另一方[( df_另一方['序号'] <= x ) & ( df_另一方['序号'] > j ) \\\n",
    "            & (df_另一方['查询卡号']== df_一方['查询卡号'].loc[j] ) \\\n",
    "\n",
    "            ]\n",
    "        if df_一方['交易金额'].loc[j]*(1-0.10) < df_一进一出['交易金额'].sum():\n",
    "            break\n",
    "        else:\n",
    "            continue\n",
    "    if len(df_一进一出)>0:\n",
    "        merge_一进一出 = pd.merge(df_一方.loc[[j],:],df_一进一出,how = 'outer')\n",
    "        df_匹配 = df_匹配.append(merge_一进一出)\n",
    "        print(str(j)+\"-\"+str(x), end = ' ')\n",
    "    elif len(df_一进一出)==0:\n",
    "        df_未匹配 = df_未匹配.append(df_一方.loc[[j],:])\n",
    "        print(str(j)+'失败', end = ' ')\n",
    "\n",
    "with pd.ExcelWriter(output_path + \"截止第二天最近一笔出.xlsx\") as writer:\n",
    "    df_匹配.to_excel(writer, sheet_name = '匹配',index = None)\n",
    "    df_未匹配.to_excel(writer, sheet_name = '未匹配',index = None)"
   ]
  },
  {
   "cell_type": "code",
   "execution_count": null,
   "metadata": {},
   "outputs": [],
   "source": []
  },
  {
   "cell_type": "code",
   "execution_count": null,
   "metadata": {},
   "outputs": [],
   "source": []
  },
  {
   "cell_type": "code",
   "execution_count": null,
   "metadata": {},
   "outputs": [],
   "source": []
  },
  {
   "cell_type": "code",
   "execution_count": 1,
   "metadata": {},
   "outputs": [
    {
     "name": "stdout",
     "output_type": "stream",
     "text": [
      "25\n",
      "F:\\临时测试\\中国融资租赁有限公司.xlsx\n",
      "F:\\临时测试\\中山市宏美迪贸易有限公司.xlsx\n",
      "F:\\临时测试\\北京佳禾永利投资管理有限公司.xlsx\n",
      "F:\\临时测试\\北京四合雅苑酒店管理有限公司.xlsx\n",
      "F:\\临时测试\\北京国益证通投资基金管理有限公司.xlsx\n",
      "F:\\临时测试\\北京开元融资租赁有限公司.xlsx\n",
      "F:\\临时测试\\北京泰德优胜投资管理有限公司.xlsx\n",
      "F:\\临时测试\\北京白金至尊酒业有限公司.xlsx\n",
      "F:\\临时测试\\北京长城商务汽车租赁有限公司.xlsx\n",
      "F:\\临时测试\\大连百禾资产管理有限公司.xlsx\n",
      "F:\\临时测试\\晨新资产管理有限公司.xlsx\n",
      "F:\\临时测试\\河南蔡氏餐饮管理有限公司.xlsx\n",
      "F:\\临时测试\\河南迈乐加餐厅食品有限公司.xlsx\n",
      "F:\\临时测试\\海南国际旅游产业融资租赁股份有限公司.xlsx\n",
      "F:\\临时测试\\深圳先锋旅游投资有限公司.xlsx\n",
      "F:\\临时测试\\深圳国租海锋保理有限公司.xlsx\n",
      "F:\\临时测试\\深圳市天天生鲜农产品有限公司.xlsx\n",
      "F:\\临时测试\\深圳市德瑞斯商业保理有限公司.xlsx\n",
      "F:\\临时测试\\深圳市西美通信科技有限公司.xlsx\n",
      "F:\\临时测试\\深圳盈华商务汽车租赁有限公司.xlsx\n",
      "F:\\临时测试\\深圳美福珠宝饰品投资有限公司.xlsx\n",
      "F:\\临时测试\\盈华融资租赁有限公司.xlsx\n",
      "F:\\临时测试\\益融通商业保理有限公司.xlsx\n",
      "F:\\临时测试\\蔡芳新.xlsx\n",
      "F:\\临时测试\\黑龙江汇良餐饮投资有限公司.xlsx\n",
      "0 1 2 3 4 5 6 7 8 9 10 11 12 13 14 15 16 17 18 19 20 21 22 23 24 以下2种格式数据分类，保留流水、账户类别\n",
      "Columns\n",
      "(账号, 客户名称, 交易日期, 交易时间, 交易币种, 交易金额, 借贷标志, 余额, 交易机构名称, 客户性质, 交易摘要, 对方账号, 对方户名, 对方行号)           1\n",
      "(账号, 客户名称, 交易日期, 交易时间, 交易币种, 交易金额, 借贷标志, 余额, 交易机构名称, 客户性质, 交易摘要, 对方账号, 对方户名, 对方行号, 对方行名)    24\n",
      "dtype: int64\n",
      "0-0 1-0 2-0 3-0 4-0 5-0 6-0 7-0 8-0 9-0 10-0 11-0 11-1 11-2 11-3 11-4 11-5 12-0 12-1 13-0 14-0 14-1 14-2 15-0 16-0 17-0 18-0 19-0 20-0 21-0 22-0 22-1 23-0 24-0 Done!\n"
     ]
    }
   ],
   "source": [
    "import os\n",
    "str1 = ''\n",
    "file_list = []\n",
    "\n",
    "os.chdir(r\"F:\\临时测试\")\n",
    "for path_name, dir, files_name in os.walk(os.getcwd()):\n",
    "    for file in files_name:\n",
    "        if str1 in file:\n",
    "            file_list.append(os.path.join(path_name, file))\n",
    "            \n",
    "print(len(file_list))\n",
    "print('\\n'.join(file_list))\n",
    "\n",
    "\n",
    "import pandas as pd\n",
    "df_group = pd.DataFrame(columns = ['Path','Columns','False','True'])\n",
    "type1 = '.xls'\n",
    "type2 = '.csv'\n",
    "type3 = '.et'\n",
    "output_path = 'C:\\\\Users\\\\ThinkPad\\\\Desktop\\\\河南24\\\\'\n",
    "\n",
    "for i in range(len(file_list)):\n",
    "    if type1 in file_list[i]:\n",
    "        df = pd.read_excel(file_list[i], encoding = \"gbk\")\n",
    "        df = df.loc[:,~df.columns.str.contains('^Unnamed')]\n",
    "    elif type2 in file_list[i]:\n",
    "        df = pd.read_csv(file_list[i], encoding = 'GB18030')\n",
    "        df = df.loc[:,~df.columns.str.contains('^Unnamed')]\n",
    "    else:\n",
    "        continue\n",
    "    print(i ,end = ' ')\n",
    "    df.columns = df.columns.str.strip()\n",
    "    col_name = df.columns\n",
    "    bool_S = df.duplicated().value_counts()\n",
    "    if len(bool_S)==1:\n",
    "        df_group.loc[i] = {'Path':file_list[i],'Columns':tuple(col_name),'False':bool_S[0],'True':0}\n",
    "    elif len(bool_S)==2:\n",
    "        df_group.loc[i] = {'Path':file_list[i],'Columns':tuple(col_name),'False':bool_S[0],'True':bool_S[1]}\n",
    "grouped = df_group.groupby('Columns')\n",
    "groupname_list = list(grouped.size().index)\n",
    "print('以下'+str(len(groupname_list))+'种格式数据分类，保留流水、账户类别')\n",
    "print(grouped.size())\n",
    "\n",
    "import pandas as pd\n",
    "import numpy as np\n",
    "import re\n",
    "import datetime\n",
    "\n",
    "all_流水 = pd.DataFrame()\n",
    "output_path = 'C:\\\\Users\\\\ThinkPad\\\\Desktop\\\\河南24\\\\'\n",
    "if not os.path.exists(output_path + './合并'):\n",
    "    os.mkdir(output_path + './合并')\n",
    "for i in range(len(file_list)):\n",
    "    Efile =  pd.ExcelFile(file_list[i])\n",
    "    sheet_list = pd.ExcelFile(file_list[i]).sheet_names\n",
    "    for k in range(0,len(sheet_list)):\n",
    "        if sheet_list[k] != '':\n",
    "            df = Efile.parse(sheet_name = sheet_list[k],dtype = 'object')\n",
    "            df['path'] = file_list[i]\n",
    "            all_流水 = all_流水.append(df)\n",
    "            print(str(i)+'-'+str(k),end = ' ')\n",
    "        else:\n",
    "            continue\n",
    "all_流水.to_excel(output_path + '合并\\\\合并.xlsx',index = None)\n",
    "print('Done!')"
   ]
  },
  {
   "cell_type": "code",
   "execution_count": 55,
   "metadata": {},
   "outputs": [],
   "source": [
    "import pandas as pd\n",
    "import numpy as np\n",
    "import re\n",
    "import datetime\n",
    "import os\n",
    "\n",
    "output_path = r'C:\\Users\\ThinkPad\\Desktop\\河南24\\合并'\n",
    "output_path = eval(repr(output_path))+str('\\\\')\n",
    "\n",
    "df = pd.read_excel(r\"C:\\Users\\ThinkPad\\Desktop\\河南\\合并\\银行交易流水.xlsx\",encoding = \"gbk\",dtype = object)\n",
    "df = df.applymap(lambda x: re.sub('nan','',str(x)))\n",
    "df['交易金额'] = df['交易金额'].map(lambda x: float(x))  #交易金额指定浮点型\n",
    "df['交易余额'] = df['交易余额'].map(lambda x: np.NaN if str(x)=='' else x)\n",
    "df['交易余额'] = df['交易余额'].map(lambda x: float(x))\n",
    "\n",
    "df['序号'] = df.index\n",
    "# 24小时标记\n",
    "df['计时标记'] = ''\n",
    "all_流水完整 = df\n",
    "\n",
    "def 计时12to24标记(df_计时):\n",
    "    for k in range(1,len(df_计时)):\n",
    "        k1 = k-1\n",
    "        if df_计时['交易时间'].iloc[k] is None:\n",
    "            continue\n",
    "        elif (df_计时['借贷标志'].iloc[k] == '出') and (df_计时['查询卡号'].iloc[k] == df_计时['查询卡号'].iloc[(k1)]) and (df_计时['交易时间'].iloc[k][0:10] == df_计时['交易时间'].iloc[(k1)][0:10]) and (df_计时['交易时间'].iloc[k][11:19] < df_计时['交易时间'].iloc[(k1)][11:19]):\n",
    "            df_计时['计时标记'].iloc[k] = '+12'\n",
    "    return df_计时\n",
    "\n",
    "def 计时24之后标记(df_计时):\n",
    "    for k in range(1,len(df_计时)):\n",
    "        k1 = k-1\n",
    "        if df_计时['交易时间'].iloc[k] is None:\n",
    "            continue\n",
    "        elif (df_计时['借贷标志'].iloc[k] == '出') and (df_计时['查询卡号'].iloc[k] == df_计时['查询卡号'].iloc[(k1)]) and (df_计时['交易时间'].iloc[k][0:10] == df_计时['交易时间'].iloc[(k1)][0:10]) and (df_计时['计时标记'].iloc[(k1)]=='+12'):\n",
    "            df_计时['计时标记'].iloc[k] = '+12'\n",
    "    return df_计时\n",
    "\n",
    "\n",
    "def index向后N位的index(df_序列, j_一方, no_N):\n",
    "    for k in df_序列.index:\n",
    "        if k >j_一方:\n",
    "            no_序列号 = len(df_序列.loc[:k] )\n",
    "            no_目标序列号 = no_序列号 + no_N\n",
    "            if no_目标序列号 >= len(df_序列):\n",
    "                index_目标 = df_序列.index.max()\n",
    "            else:\n",
    "                index_目标 = df_序列.reset_index().iloc[ no_目标序列号-1 ]['index']\n",
    "            break\n",
    "    return index_目标\n",
    "\n",
    "def 一方匹配另一方(df_一方, all_另一方,sheetname_层数):\n",
    "    df_一方.index = df_一方['序号'].to_list()\n",
    "    df_一方 = df_一方[df_一方['借贷标志']=='进'].drop_duplicates(subset = ['序号'],keep = 'last')\n",
    "    df_匹配 = pd.DataFrame()\n",
    "    df_未匹配 = pd.DataFrame()\n",
    "    df_另一方 = pd.DataFrame(all_另一方[ (all_另一方['借贷标志']=='出')  ])\n",
    "    print(str(len(df_一方))+\"条，最大索引为\"+ str(df_一方.index.max()))\n",
    "\n",
    "    for j in df_一方.index:\n",
    "        for N in range(100):\n",
    "            x = index向后N位的index(df_另一方, j, N)\n",
    "    \n",
    "            df_一进一出 = df_另一方[( df_另一方['序号'] <= x ) & ( df_另一方['序号'] > j ) \\\n",
    "                & (df_另一方['查询卡号']== df_一方['查询卡号'].loc[j] ) \\\n",
    "                ]\n",
    "            if df_一方['交易金额'].loc[j]*(1-0.10) < df_一进一出['交易金额'].sum(): ############下浮10%###########\n",
    "                break\n",
    "            else:\n",
    "                continue\n",
    "        if len(df_一进一出)>0:\n",
    "\n",
    "            \n",
    "            merge_一进一出 = pd.merge(df_一方.loc[[j],:],df_一进一出,how = 'outer')\n",
    "            df_匹配 = df_匹配.append(merge_一进一出)\n",
    "            # 24小时标记\n",
    "            df_匹配 = 计时12to24标记(df_匹配)\n",
    "            df_匹配 = 计时24之后标记(df_匹配)\n",
    "            # 24小时标记\n",
    "            print(str(j)+\"-\"+str(x), end = ' ')\n",
    "        elif len(df_一进一出)==0:\n",
    "            df_未匹配 = df_未匹配.append(df_一方.loc[[j],:])\n",
    "            print(str(j)+'失败', end = ' ')\n",
    "\n",
    "    if not os.path.isfile(output_path +  \"追踪转移.xlsx\"):\n",
    "        df_匹配.to_excel(output_path +  \"追踪转移.xlsx\", sheet_name= sheetname_层数,index = False)\n",
    "    else:\n",
    "        with pd.ExcelWriter(output_path +  \"追踪转移.xlsx\" ,mode='a', engine='openpyxl') as writer:\n",
    "            df_匹配.to_excel(writer, sheet_name= sheetname_层数,index = False)\n",
    "    return df_匹配\n",
    "\n",
    "def AB匹配(df_A,df_B,sheetname_层数):\n",
    "    df_A.index = df_A['序号'].to_list()\n",
    "    df_A出B进 = pd.DataFrame()\n",
    "    df_A出B空 = pd.DataFrame()\n",
    "    df_A出 = df_A[df_A['借贷标志']=='出'].drop_duplicates(subset = ['序号'],keep = 'last')\n",
    "    for k in df_A出.index:\n",
    "        df_B进 = df_B[(df_B['借贷标志']=='进') \\\n",
    "            & ( df_B['交易对方卡号'].isin(df_A出['查询卡号']) ) \\\n",
    "            & (df_B['交易时间']<= str(datetime.datetime.strptime(df_A出['交易时间'].loc[k], '%Y-%m-%d %H:%M:%S') + datetime.timedelta(minutes = 1) )  ) \\\n",
    "            & (df_B['交易时间']>= str(datetime.datetime.strptime(df_A出['交易时间'].loc[k], '%Y-%m-%d %H:%M:%S') + datetime.timedelta(seconds = -1) ) ) \\\n",
    "            & (df_B['交易金额'] == df_A出['交易金额'].loc[k])  \\\n",
    "            ]\n",
    "        if len(df_B进)>0:\n",
    "            # 24小时标记\n",
    "            df_B进['计时标记'] = df_A出['计时标记'].loc[k]\n",
    "            # 24小时标记\n",
    "            merge_A出B进 = pd.merge(df_A出.loc[[k],:], df_B进, how = 'outer')\n",
    "            df_A出B进 = df_A出B进.append(merge_A出B进)\n",
    "            print(k, end = ' ')\n",
    "        elif len(df_B进)==0:\n",
    "            df_A出B空 = df_A出B空.append(df_A出.loc[[k],:])\n",
    "            print(str(k)+'失败', end = ' ')\n",
    "    if not os.path.isfile(output_path +  \"转移未调.xlsx\"):\n",
    "        df_A出B空.to_excel(output_path +  \"转移未调.xlsx\", sheet_name= sheetname_层数,index = False)\n",
    "    else:\n",
    "        with pd.ExcelWriter(output_path +  \"转移未调.xlsx\" ,mode='a', engine='openpyxl') as writer:\n",
    "            df_A出B空.to_excel(writer, sheet_name= sheetname_层数,index = False)\n",
    "    if not os.path.isfile(output_path +  \"转移已调.xlsx\"):\n",
    "        df_A出B进.to_excel(output_path +  \"转移已调.xlsx\", sheet_name= sheetname_层数,index = False)\n",
    "    else:\n",
    "        with pd.ExcelWriter(output_path +  \"转移已调.xlsx\" ,mode='a', engine='openpyxl') as writer:\n",
    "            df_A出B进.to_excel(writer, sheet_name= sheetname_层数,index = False)\n",
    "    return df_A出B进\n",
    "\n",
    "def digui多层(df_层出层进):\n",
    "    if len(df_层出层进)>0:\n",
    "        df_某层 = 一方匹配另一方(df_层出层进,all_流水完整,'层')\n",
    "        df_某层A出B进 = AB匹配(df_某层,all_流水完整,'层')\n",
    "        digui多层(df_某层A出B进)"
   ]
  },
  {
   "cell_type": "code",
   "execution_count": null,
   "metadata": {},
   "outputs": [],
   "source": [
    "df_原点线索 = all_流水完整[ (all_流水完整['客户名称'].isin(['河南迈乐加餐厅食品有限公司','河南蔡氏餐饮管理有限公司']) )\n",
    "                 & (all_流水完整['交易金额']>=10000000 )\n",
    "                 & (all_流水完整['交易金额']<30000000 )\n",
    "                 & (all_流水完整['借贷标志']=='进')]\n",
    "digui多层(df_原点线索)"
   ]
  },
  {
   "cell_type": "code",
   "execution_count": null,
   "metadata": {},
   "outputs": [],
   "source": []
  },
  {
   "cell_type": "code",
   "execution_count": null,
   "metadata": {},
   "outputs": [],
   "source": []
  },
  {
   "cell_type": "code",
   "execution_count": null,
   "metadata": {},
   "outputs": [],
   "source": []
  },
  {
   "cell_type": "code",
   "execution_count": null,
   "metadata": {},
   "outputs": [],
   "source": []
  },
  {
   "cell_type": "code",
   "execution_count": 56,
   "metadata": {
    "scrolled": true
   },
   "outputs": [
    {
     "name": "stdout",
     "output_type": "stream",
     "text": [
      "90条，最大索引为37944\n",
      "35942-35951 35947-35951 35959-35961 35975-35977 35979-35981 35985-35986 35987-35989 35990-35991 36033-36034 36055-36056 36095-36097 36096-36097 36248-36250 36249-36250 36253-36256 36254-36256 36255-36256 36283-36284 36285-36288 36289-36292 36291-36292 36311-36315 36329-36331 36348-36352 36908-36910 36932-36936 36933-36936 36934-36936 36935-36936 36965-36966 36988-36994 36989-36994 36990-36994 36991-36994 37033-37036 37062-37063 37068-37070 37069-37070 37071-37073 37072-37073 37134-37135 37136-37137 37138-37139 37212-37214 37240-37241 37242-37244 37243-37244 37248-37251 37256-37257 37265-37268 37278-37284 37334-37338 37335-37338 37349-37350 37352-37354 37358-37360 37362-37363 37457-37468 37503-37504 37506-37508 37509-37515 37528-37530 37545-37550 37597-37599 37609-37613 37630-37632 37637-37638 37640-37642 37643-37645 37651-37653 37656-37659 37761-37763 37808-37809 37824-37829 37831-37848 37849-37850 37851-37852 37853-37854 37856-37858 37859-37860 37870-37871 37894-37899 37909-37923 37938-37945 37939-37945 37940-37945 37941-37945 37942-37945 37943-37945 37944-37945 275\n",
      "35944失败 35945失败 35946失败 35948 35949 35951 "
     ]
    },
    {
     "name": "stderr",
     "output_type": "stream",
     "text": [
      "D:\\Users\\ThinkPad\\anaconda3\\lib\\site-packages\\ipykernel_launcher.py:106: SettingWithCopyWarning: \n",
      "A value is trying to be set on a copy of a slice from a DataFrame.\n",
      "Try using .loc[row_indexer,col_indexer] = value instead\n",
      "\n",
      "See the caveats in the documentation: https://pandas.pydata.org/pandas-docs/stable/user_guide/indexing.html#returning-a-view-versus-a-copy\n"
     ]
    },
    {
     "name": "stdout",
     "output_type": "stream",
     "text": [
      "35961 35976失败 35977失败 35981失败 35986失败 35988 35989失败 35991失败 36034失败 36056 36097失败 36250失败 36256失败 36284失败 36286失败 36288 36292失败 36312 36313失败 36315 36331 36350 36351失败 36352 36910失败 36936 36966失败 36992 36993失败 36994失败 37034失败 37035失败 37036 37063失败 37070 37073 37135 37137 37139 37213失败 37214 37241失败 37244失败 37249失败 37250失败 37251 37257 37266 37267失败 37268失败 37280 37281 37282失败 37283失败 37284失败 37336 37337 37338 37350 37353 37354 37359 37360 37363 37458失败 37460 37462失败 37464 37468失败 37504失败 37507 37508失败 37511 37514 37515失败 37529 37530失败 37546失败 37547失败 37548 37550失败 37598失败 37599 37613失败 37631 37632 37638 37641 37642 37644 37645 37653 37657 37658 37659失败 37762 37763 37809 37825 37826 37827 37828 37829 37832 37833 37834 37835 37836 37837 37838 37839 37840 37841 37842 37843 37844 37845 37846 37847 37848 37850 37852 37854 37857 37858 37860 37871 37895 37896 37897 37898 37899 37910 37911 37912 37913 37914 37915 37916 37917 37918 37919 37920 37921 37922 37923 37945失败 104条，最大索引为41380\n",
      "3489-3491 14-15 37010-37013 3501-3502 3552-3557 37033-37036 3743-3746 37168-37169 37172-37173 24130-24132 37206-37207 37212-37214 2722-2724 37948-37949 36057-36058 38389-38392 38396-38397 40393-40394 40395-40396 40397-40403 41380-41396 36378-36380 35786-35787 36382-36387 19079-19082 36390-36395 19251-19253 19252-19253 26470-26491 26971-26977 19358-19360 26976-26977 19392-19395 27053-27056 19397-19403 36790-36796 19900-19904 19946-19947 19963-19968 36856-36858 31949-31950 31962-31964 36895-36896 20590-20592 27274-27280 27277-27280 20621-20622 27278-27280 20623-20624 27279-27280 20775-20787 1380-1383 32035-32038 21613-21615 31192-31196 27367-27369 22292-22298 22293-22298 22294-22298 22295-22298 22296-22298 22299-22316 22300-22316 22301-22316 22302-22316 22303-22316 22304-22316 22305-22316 22306-22316 22307-22316 22308-22316 22309-22316 22310-22316 22311-22316 22312-22316 22313-22316 22314-22316 22315-22316 22317-22318 22320-22321 22322-22324 22325-22328 22326-22328 22334-22335 27392-27393 23261-23266 23262-23266 23263-23266 23264-23266 23265-23266 23387-23402 23388-23402 23389-23402 23390-23402 23391-23402 23392-23402 23393-23402 23394-23402 23395-23402 23396-23402 23397-23402 23398-23402 23399-23402 23400-23402 272\n",
      "3490失败 3491失败 15失败 37013 3502失败 3553 3556失败 3557失败 37034失败 37035失败 37036 3744失败 3745失败 3746失败 37169失败 37173失败 24131失败 24132失败 37207失败 37213失败 37214 2723失败 2724失败 37949失败 36058失败 38390失败 38391失败 38392失败 38397失败 40394 40396 40400失败 40402失败 40403失败 41381失败 41383 41390失败 41391失败 41392失败 41393失败 41394失败 41395失败 41396失败 36380失败 35787 36383 36387失败 19081失败 19082失败 36391 36393失败 36395 19253失败 26471失败 26472失败 26474失败 26475失败 26476失败 26477失败 26478失败 26479失败 26480失败 26481失败 26482失败 26484失败 26485失败 26486失败 26488失败 26489失败 26491失败 26972失败 26973失败 26974 26975失败 19360失败 26977 19393失败 19394失败 19395失败 27054失败 27055 27056 19398 19403 36793失败 36794失败 36796失败 19904失败 19947失败 19968失败 36857失败 36858失败 31950失败 31964失败 36896失败 20591失败 20592失败 27275 27276 20622 20624失败 27280失败 20777失败 20783失败 20784失败 20787失败 1381失败 1383失败 32038失败 21615 31194失败 31195失败 31196失败 27368失败 27369失败 22298失败 22316失败 22318失败 22321失败 22324 22328 22335失败 27393失败 23266失败 23402失败 23条，最大索引为42096\n",
      "36557-36580 36-40 36057-36058 41380-41396 18668-18669 18670-18671 18889-18890 42096-42136 24170-24172 24176-24177 37286-37288 19357-19364 19359-19364 37361-37363 37362-37363 27060-27062 27063-27067 37633-37635 37634-37635 37643-37645 24785-24786 39249-39250 39251-39252 115\n",
      "36558失败 36559失败 36560失败 36561失败 36562失败 36563失败 36564失败 36565失败 36566失败 36567失败 36580失败 37 40失败 36058失败 41381失败 41383 41390失败 41391失败 41392失败 41393失败 41394失败 41395失败 41396失败 18669 18671 18890失败 42097失败 42098失败 42099失败 42100失败 42101失败 42102失败 42103失败 42104失败 42105失败 42106失败 42107失败 42108失败 42109失败 42110失败 42111失败 42112失败 42113失败 42114失败 42115失败 42116失败 42117失败 42118失败 42119失败 42120失败 42121失败 42122失败 42123失败 42124失败 42125失败 42126失败 42127失败 42128失败 42129失败 42130失败 42131失败 42132失败 42133失败 42134失败 42136 24171失败 24172失败 24177失败 37287失败 37288失败 19360失败 19361失败 19362失败 19364 37363 27062失败 27064失败 27065失败 27066失败 27067失败 37635 37644 37645 24786失败 39250失败 39252失败 11条，最大索引为40397\n",
      "3555-3557 18889-18890 37136-37137 37138-37139 40397-40403 37259-37260 27004-27007 19397-19403 20608-20616 20623-20624 27279-27280 28\n",
      "3556失败 3557失败 18890失败 37137 37139 40400失败 40402失败 40403失败 37260失败 27005失败 27006失败 27007失败 19398 19403 20616 20624失败 27280失败 "
     ]
    }
   ],
   "source": [
    "df_原点线索 = all_流水完整[ (all_流水完整['客户名称'].isin(['河南迈乐加餐厅食品有限公司','河南蔡氏餐饮管理有限公司']) )\n",
    "                 & (all_流水完整['交易金额']>=10000000 )\n",
    "                 & (all_流水完整['交易金额']<30000000 )\n",
    "                 & (all_流水完整['借贷标志']=='进')]\n",
    "\n",
    "import os\n",
    "df_一层 = 一方匹配另一方(df_原点线索,all_流水完整,'一层')\n",
    "print(len(df_一层))\n",
    "df_一层A出B进 = AB匹配(df_一层,all_流水完整,'一层')\n",
    "\n",
    "\n",
    "df_二层 = 一方匹配另一方(df_一层A出B进,all_流水完整,'二层')\n",
    "print(len(df_二层))\n",
    "df_二层A出B进 = AB匹配(df_二层,all_流水完整,'二层')\n",
    "\n",
    "df_三层 = 一方匹配另一方(df_二层A出B进,all_流水完整,'三层')\n",
    "print(len(df_三层))\n",
    "df_三层A出B进 = AB匹配(df_三层,all_流水完整,'三层')\n",
    "\n",
    "df_四层 = 一方匹配另一方(df_三层A出B进,all_流水完整,'四层')\n",
    "print(len(df_四层))\n",
    "df_四层A出B进 = AB匹配(df_四层,all_流水完整,'四层')"
   ]
  },
  {
   "cell_type": "code",
   "execution_count": 65,
   "metadata": {},
   "outputs": [],
   "source": []
  },
  {
   "cell_type": "code",
   "execution_count": 59,
   "metadata": {},
   "outputs": [
    {
     "name": "stdout",
     "output_type": "stream",
     "text": [
      "0-0 0-1 0-2 0-3 0-4 0-5 0-6 0-7 "
     ]
    }
   ],
   "source": [
    "all_流水 = pd.DataFrame()\n",
    "\n",
    "file_list = ['C:\\\\Users\\\\ThinkPad\\\\Desktop\\\\河南24\\\\合并\\\\追踪转移.xlsx']\n",
    "for i in range(len(file_list)):\n",
    "    Efile =  pd.ExcelFile(file_list[i])\n",
    "    sheet_list = pd.ExcelFile(file_list[i]).sheet_names\n",
    "    for j in range(0,len(sheet_list)):\n",
    "        if sheet_list[j] != '':\n",
    "            df = Efile.parse(sheet_name = sheet_list[j],dtype = 'object')\n",
    "            df['交易时间'] = df.apply(lambda x: str(datetime.datetime.strptime(x['交易时间'], '%Y-%m-%d %H:%M:%S') + datetime.timedelta(hours = 12) ) if x['计时标记']=='+12' else x['交易时间'],axis=1)\n",
    "            if not os.path.isfile(output_path +  \"追踪转移24小时计时.xlsx\"):\n",
    "                df.to_excel(output_path +  \"追踪转移24小时计时.xlsx\", sheet_name= sheet_list[j],index = False)\n",
    "            else:\n",
    "                with pd.ExcelWriter(output_path +  \"追踪转移24小时计时.xlsx\" ,mode='a', engine='openpyxl') as writer:\n",
    "                    df.to_excel(writer, sheet_name= sheet_list[j],index = False)\n",
    "            print(str(i)+'-'+str(j),end = ' ')\n",
    "        else:\n",
    "            continue\n"
   ]
  },
  {
   "cell_type": "code",
   "execution_count": null,
   "metadata": {},
   "outputs": [],
   "source": []
  },
  {
   "cell_type": "code",
   "execution_count": null,
   "metadata": {},
   "outputs": [],
   "source": []
  },
  {
   "cell_type": "code",
   "execution_count": null,
   "metadata": {},
   "outputs": [],
   "source": []
  },
  {
   "cell_type": "code",
   "execution_count": null,
   "metadata": {},
   "outputs": [],
   "source": []
  },
  {
   "cell_type": "code",
   "execution_count": null,
   "metadata": {},
   "outputs": [],
   "source": []
  },
  {
   "cell_type": "code",
   "execution_count": null,
   "metadata": {},
   "outputs": [],
   "source": []
  },
  {
   "cell_type": "code",
   "execution_count": null,
   "metadata": {},
   "outputs": [],
   "source": []
  },
  {
   "cell_type": "code",
   "execution_count": null,
   "metadata": {},
   "outputs": [],
   "source": []
  },
  {
   "cell_type": "code",
   "execution_count": null,
   "metadata": {},
   "outputs": [],
   "source": []
  },
  {
   "cell_type": "code",
   "execution_count": 31,
   "metadata": {},
   "outputs": [],
   "source": [
    "def 计时12to24(df_计时):\n",
    "    for k in range(1,len(df_计时)):\n",
    "        k1 = k-1\n",
    "        if df_计时['交易时间'].iloc[k] is None:\n",
    "            continue\n",
    "        elif (df_计时['借贷标志'].iloc[k] == '出') and (df_计时['查询卡号'].iloc[k] == df_计时['查询卡号'].iloc[(k1)]) and (df_计时['交易时间'].iloc[k][0:10] == df_计时['交易时间'].iloc[(k1)][0:10]) and (df_计时['交易时间'].iloc[k][11:19] < df_计时['交易时间'].iloc[(k1)][11:19]):\n",
    "            df_计时['交易时间'].iloc[k] = str(datetime.datetime.strptime(df_计时['交易时间'].iloc[k], '%Y-%m-%d %H:%M:%S') + datetime.timedelta(hours = 12) )\n",
    "    return df_计时"
   ]
  },
  {
   "cell_type": "code",
   "execution_count": 61,
   "metadata": {},
   "outputs": [
    {
     "name": "stdout",
     "output_type": "stream",
     "text": [
      "0-0 0-1 0-2 0-3 0-4 0-5 0-6 0-7 Done!\n"
     ]
    }
   ],
   "source": [
    "file_list = ['C:\\\\Users\\\\ThinkPad\\\\Desktop\\\\河南24\\\\合并\\\\大于等于一千万小于三千万24小时计时\\\\追踪转移24小时计时.xlsx']\n",
    "\n",
    "import pandas as pd\n",
    "import numpy as np\n",
    "import re\n",
    "import datetime\n",
    "\n",
    "all_流水 = pd.DataFrame()\n",
    "output_path = 'C:\\\\Users\\\\ThinkPad\\\\Desktop\\\\河南24\\\\'\n",
    "for i in range(len(file_list)):\n",
    "    Efile =  pd.ExcelFile(file_list[i])\n",
    "    sheet_list = pd.ExcelFile(file_list[i]).sheet_names\n",
    "    for k in range(0,len(sheet_list)):\n",
    "        if sheet_list[k] != '':\n",
    "            df = Efile.parse(sheet_name = sheet_list[k],dtype = 'object')\n",
    "            df['path'] = file_list[i]\n",
    "            all_流水 = all_流水.append(df)\n",
    "            print(str(i)+'-'+str(k),end = ' ')\n",
    "        else:\n",
    "            continue\n",
    "all_流水.to_excel(output_path + '合并\\\\追踪转移24小时计时合并.xlsx',index = None)\n",
    "print('Done!')"
   ]
  },
  {
   "cell_type": "code",
   "execution_count": null,
   "metadata": {},
   "outputs": [],
   "source": []
  },
  {
   "cell_type": "code",
   "execution_count": null,
   "metadata": {},
   "outputs": [],
   "source": []
  }
 ],
 "metadata": {
  "kernelspec": {
   "display_name": "Python 3",
   "language": "python",
   "name": "python3"
  },
  "language_info": {
   "codemirror_mode": {
    "name": "ipython",
    "version": 3
   },
   "file_extension": ".py",
   "mimetype": "text/x-python",
   "name": "python",
   "nbconvert_exporter": "python",
   "pygments_lexer": "ipython3",
   "version": "3.7.6"
  }
 },
 "nbformat": 4,
 "nbformat_minor": 4
}
