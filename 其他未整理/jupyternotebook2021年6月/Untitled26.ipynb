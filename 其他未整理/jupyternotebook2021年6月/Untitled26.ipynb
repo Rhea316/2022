{
 "cells": [
  {
   "cell_type": "code",
   "execution_count": 2,
   "metadata": {},
   "outputs": [
    {
     "name": "stdout",
     "output_type": "stream",
     "text": [
      "31\n",
      "C:\\Users\\ThinkPad\\Desktop\\python考试题目\\编程题-第1题\\卢水金.xlsx\n",
      "C:\\Users\\ThinkPad\\Desktop\\python考试题目\\编程题-第1题\\叶子豪.xlsx\n",
      "C:\\Users\\ThinkPad\\Desktop\\python考试题目\\编程题-第1题\\吴小明.xlsx\n",
      "C:\\Users\\ThinkPad\\Desktop\\python考试题目\\编程题-第1题\\吴江水.xlsx\n",
      "C:\\Users\\ThinkPad\\Desktop\\python考试题目\\编程题-第1题\\唐金龙.xlsx\n",
      "C:\\Users\\ThinkPad\\Desktop\\python考试题目\\编程题-第1题\\朱建盛.xlsx\n",
      "C:\\Users\\ThinkPad\\Desktop\\python考试题目\\编程题-第1题\\李建东.xlsx\n",
      "C:\\Users\\ThinkPad\\Desktop\\python考试题目\\编程题-第1题\\杨国明.xlsx\n",
      "C:\\Users\\ThinkPad\\Desktop\\python考试题目\\编程题-第1题\\林广弟.xlsx\n",
      "C:\\Users\\ThinkPad\\Desktop\\python考试题目\\编程题-第1题\\林彬强.xlsx\n",
      "C:\\Users\\ThinkPad\\Desktop\\python考试题目\\编程题-第1题\\林结丰.xlsx\n",
      "C:\\Users\\ThinkPad\\Desktop\\python考试题目\\编程题-第1题\\梁位.xlsx\n",
      "C:\\Users\\ThinkPad\\Desktop\\python考试题目\\编程题-第1题\\田业槐.xlsx\n",
      "C:\\Users\\ThinkPad\\Desktop\\python考试题目\\编程题-第1题\\田业海.xlsx\n",
      "C:\\Users\\ThinkPad\\Desktop\\python考试题目\\编程题-第1题\\田业飞.xlsx\n",
      "C:\\Users\\ThinkPad\\Desktop\\python考试题目\\编程题-第1题\\田传东.xlsx\n",
      "C:\\Users\\ThinkPad\\Desktop\\python考试题目\\编程题-第1题\\田传豪.xlsx\n",
      "C:\\Users\\ThinkPad\\Desktop\\python考试题目\\编程题-第1题\\苏勇军.xlsx\n",
      "C:\\Users\\ThinkPad\\Desktop\\python考试题目\\编程题-第1题\\苏锦文.xlsx\n",
      "C:\\Users\\ThinkPad\\Desktop\\python考试题目\\编程题-第1题\\蔡伟忠.xlsx\n",
      "C:\\Users\\ThinkPad\\Desktop\\python考试题目\\编程题-第1题\\蔡春花.xlsx\n",
      "C:\\Users\\ThinkPad\\Desktop\\python考试题目\\编程题-第1题\\詹快.xlsx\n",
      "C:\\Users\\ThinkPad\\Desktop\\python考试题目\\编程题-第1题\\邓本荣.xlsx\n",
      "C:\\Users\\ThinkPad\\Desktop\\python考试题目\\编程题-第1题\\郑开利.xlsx\n",
      "C:\\Users\\ThinkPad\\Desktop\\python考试题目\\编程题-第1题\\陈业.xlsx\n",
      "C:\\Users\\ThinkPad\\Desktop\\python考试题目\\编程题-第1题\\陈加坤.xlsx\n",
      "C:\\Users\\ThinkPad\\Desktop\\python考试题目\\编程题-第1题\\陈尚剑.xlsx\n",
      "C:\\Users\\ThinkPad\\Desktop\\python考试题目\\编程题-第1题\\陈德环.xlsx\n",
      "C:\\Users\\ThinkPad\\Desktop\\python考试题目\\编程题-第1题\\陈里辉.xlsx\n",
      "C:\\Users\\ThinkPad\\Desktop\\python考试题目\\编程题-第1题\\黄光华.xlsx\n",
      "C:\\Users\\ThinkPad\\Desktop\\python考试题目\\编程题-第1题\\黄翠芬.xlsx\n",
      "0-0 0-1 1-6 1-7 2-4 2-5 3-1 3-2 4-0 4-1 5-9 6-0 6-1 7-5 7-6 8-0 8-1 9-0 9-1 10-0 10-1 11-0 11-1 12-0 12-1 13-0 13-1 14-0 14-1 15-0 15-1 16-0 16-1 17-0 18-0 18-1 19-0 20-0 20-1 21-5 21-6 22-0 22-1 23-5 23-6 24-0 24-1 25-0 25-1 26-0 26-1 27-0 27-1 28-0 28-1 29-0 29-1 30-0 30-1 Done!\n"
     ]
    }
   ],
   "source": [
    "import os\n",
    "str1 = ''\n",
    "file_list = []\n",
    "\n",
    "os.chdir(r\"C:\\Users\\ThinkPad\\Desktop\\python考试题目\\编程题-第1题\")\n",
    "for path_name, dir, files_name in os.walk(os.getcwd()):\n",
    "    for file in files_name:\n",
    "        if str1 in file:\n",
    "            file_list.append(os.path.join(path_name, file))\n",
    "            \n",
    "print(len(file_list))\n",
    "print('\\n'.join(file_list))\n",
    "\n",
    "\n",
    "import pandas as pd\n",
    "import numpy as np\n",
    "import re\n",
    "import datetime\n",
    "\n",
    "all_流水 = pd.DataFrame()\n",
    "output_path = 'C:\\\\Users\\\\ThinkPad\\\\Desktop\\\\'\n",
    "if not os.path.exists(output_path + './python答案HL'):\n",
    "    os.mkdir(output_path + './python答案HL')\n",
    "df_group = pd.DataFrame(columns = ['Path','Sheet','Columns'])\n",
    "\n",
    "for i in range(len(file_list)):\n",
    "    Efile =  pd.ExcelFile(file_list[i])\n",
    "    sheet_list = pd.ExcelFile(file_list[i]).sheet_names\n",
    "    for k in range(0,len(sheet_list)):\n",
    "        if sheet_list[k]=='农信社20130320之前' or sheet_list[k]=='农信社20130320之后':\n",
    "            df = Efile.parse(sheet_name = sheet_list[k],dtype = 'object')\n",
    "            df['path'] = file_list[i]\n",
    "            all_流水 = all_流水.append(df)\n",
    "\n",
    "            df = df.loc[:,~df.columns.str.contains('^Unnamed')]\n",
    "            df.columns = df.columns.str.strip()\n",
    "            col_name = df.columns\n",
    "            df_group.loc[i] = {'Path':file_list[i],'Sheet':file_list[i],'Columns':tuple(col_name)}\n",
    "        \n",
    "            print(str(i)+'-'+str(k),end = ' ')\n",
    "        else:\n",
    "            continue\n",
    "df_group.to_excel(output_path + 'python答案HL\\\\编程题第一题文件.xlsx',index = None)\n",
    "all_流水.to_excel(output_path + 'python答案HL\\\\编程题第一题1合并.xlsx',index = None)\n",
    "print('Done!')"
   ]
  },
  {
   "cell_type": "code",
   "execution_count": null,
   "metadata": {},
   "outputs": [],
   "source": []
  }
 ],
 "metadata": {
  "kernelspec": {
   "display_name": "Python 3",
   "language": "python",
   "name": "python3"
  },
  "language_info": {
   "codemirror_mode": {
    "name": "ipython",
    "version": 3
   },
   "file_extension": ".py",
   "mimetype": "text/x-python",
   "name": "python",
   "nbconvert_exporter": "python",
   "pygments_lexer": "ipython3",
   "version": "3.7.6"
  }
 },
 "nbformat": 4,
 "nbformat_minor": 4
}
