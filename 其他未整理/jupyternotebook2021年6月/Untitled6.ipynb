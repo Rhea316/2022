{
 "cells": [
  {
   "cell_type": "code",
   "execution_count": 1,
   "metadata": {},
   "outputs": [
    {
     "name": "stdout",
     "output_type": "stream",
     "text": [
      "[WinError 2] 系统找不到指定的文件。: 'destkop'\n",
      "C:\\Users\\ThinkPad\n"
     ]
    }
   ],
   "source": [
    "cd destkop"
   ]
  },
  {
   "cell_type": "code",
   "execution_count": 2,
   "metadata": {},
   "outputs": [
    {
     "name": "stdout",
     "output_type": "stream",
     "text": [
      "C:\\Users\\ThinkPad\\desktop\n"
     ]
    }
   ],
   "source": [
    "cd C:\\Users\\ThinkPad\\desktop"
   ]
  },
  {
   "cell_type": "code",
   "execution_count": 4,
   "metadata": {},
   "outputs": [],
   "source": [
    "import wget"
   ]
  },
  {
   "cell_type": "code",
   "execution_count": 5,
   "metadata": {},
   "outputs": [
    {
     "name": "stdout",
     "output_type": "stream",
     "text": [
      "\r",
      "  0% [                                                                                ]    0 / 1279\r",
      "100% [................................................................................] 1279 / 1279"
     ]
    }
   ],
   "source": [
    "url = \"http://labfile.oss.aliyuncs.com/courses/790/student_teacher.py\"\n",
    "filename = wget.download(url)"
   ]
  },
  {
   "cell_type": "code",
   "execution_count": 10,
   "metadata": {},
   "outputs": [
    {
     "name": "stdout",
     "output_type": "stream",
     "text": [
      "\r",
      "  0% [                                                                                ]    0 / 1279\r",
      "100% [................................................................................] 1279 / 1279"
     ]
    }
   ],
   "source": []
  },
  {
   "cell_type": "code",
   "execution_count": 11,
   "metadata": {},
   "outputs": [
    {
     "name": "stdout",
     "output_type": "stream",
     "text": [
      "[WinError 267] 目录名称无效。: 'C:\\\\Users\\\\ThinkPad\\\\desktop\\\\student_teacher.py'\n",
      "C:\\Users\\ThinkPad\\desktop\n"
     ]
    }
   ],
   "source": [
    "cd C:\\Users\\ThinkPad\\desktop\\student_teacher.py"
   ]
  },
  {
   "cell_type": "code",
   "execution_count": 12,
   "metadata": {},
   "outputs": [
    {
     "data": {
      "text/plain": [
       "<_io.TextIOWrapper name='student_teacher.py' mode='r' encoding='cp936'>"
      ]
     },
     "execution_count": 12,
     "metadata": {},
     "output_type": "execute_result"
    }
   ],
   "source": [
    "fobj = open(\"student_teacher.py\")\n",
    "fobj"
   ]
  },
  {
   "cell_type": "code",
   "execution_count": 30,
   "metadata": {
    "scrolled": true
   },
   "outputs": [
    {
     "name": "stdout",
     "output_type": "stream",
     "text": [
      "#!/usr/bin/env python3\n",
      "\n",
      "class Person(object):\n",
      "    \"\"\"\n",
      "    返回具有给定名称的 Person 对象\n",
      "    \"\"\"\n",
      "\n",
      "    def __init__(self, name):\n",
      "        self.name = name\n",
      "\n",
      "    def get_details(self):\n",
      "        \"\"\"\n",
      "        返回包含人名的字符串\n",
      "        \"\"\"\n",
      "        return self.name\n",
      "\n",
      "\n",
      "class Student(Person):\n",
      "    \"\"\"\n",
      "    返回 Student 对象，采用 name, branch, year 3 个参数\n",
      "    \"\"\"\n",
      "\n",
      "    def __init__(self, name, branch, year):\n",
      "        Person.__init__(self, name)\n",
      "        self.branch = branch\n",
      "        self.year = year\n",
      "\n",
      "    def get_details(self):\n",
      "        \"\"\"\n",
      "        返回包含学生具体信息的字符串\n",
      "        \"\"\"\n",
      "        return \"{} studies {} and is in {} year.\".format(self.name, self.branch, self.year)\n",
      "\n",
      "\n",
      "class Teacher(Person):\n",
      "    \"\"\"\n",
      "    返回 Teacher 对象，采用字符串列表作为参数\n",
      "    \"\"\"\n",
      "    def __init__(self, name, papers):\n",
      "        Person.__init__(self, name)\n",
      "        self.papers = papers\n",
      "\n",
      "    def get_details(self):\n",
      "        return \"{} teaches {}\".format(self.name, ','.join(self.papers))\n",
      "\n",
      "\n",
      "person1 = Person('Sachin')\n",
      "student1 = Student('Kushal', 'CSE', 2005)\n",
      "teacher1 = Teacher('Prashad', ['C', 'C++'])\n",
      "\n",
      "print(person1.get_details())\n",
      "print(student1.get_details())\n",
      "print(teacher1.get_details())\n"
     ]
    }
   ],
   "source": [
    "fobj = open(\"student_teacher.py\", encoding='utf-8')\n",
    "print(fobj.read())"
   ]
  },
  {
   "cell_type": "code",
   "execution_count": 31,
   "metadata": {},
   "outputs": [
    {
     "ename": "IndentationError",
     "evalue": "expected an indented block (<ipython-input-31-9087c46889a5>, line 63)",
     "output_type": "error",
     "traceback": [
      "\u001b[1;36m  File \u001b[1;32m\"<ipython-input-31-9087c46889a5>\"\u001b[1;36m, line \u001b[1;32m63\u001b[0m\n\u001b[1;33m    f.write(name + \" \" + v + \" \" + str(w) + \"\\r\\n\")\u001b[0m\n\u001b[1;37m    ^\u001b[0m\n\u001b[1;31mIndentationError\u001b[0m\u001b[1;31m:\u001b[0m expected an indented block\n"
     ]
    }
   ],
   "source": [
    "# last edit date: 2016/10/19\n",
    "# author: Forec\n",
    "# LICENSE\n",
    "# Copyright (c) 2015-2017, Forec <forec@bupt.edu.cn>\n",
    "\n",
    "# Permission to use, copy, modify, and/or distribute this code for any\n",
    "# purpose with or without fee is hereby granted, provided that the above\n",
    "# copyright notice and this permission notice appear in all copies.\n",
    "\n",
    "# THE SOFTWARE IS PROVIDED \"AS IS\" AND THE AUTHOR DISCLAIMS ALL WARRANTIES\n",
    "# WITH REGARD TO THIS SOFTWARE INCLUDING ALL IMPLIED WARRANTIES OF\n",
    "# MERCHANTABILITY AND FITNESS. IN NO EVENT SHALL THE AUTHOR BE LIABLE FOR\n",
    "# ANY SPECIAL, DIRECT, INDIRECT, OR CONSEQUENTIAL DAMAGES OR ANY DAMAGES\n",
    "# WHATSOEVER RESULTING FROM LOSS OF USE, DATA OR PROFITS, WHETHER IN AN\n",
    "# ACTION OF CONTRACT, NEGLIGENCE OR OTHER TORTIOUS ACTION, ARISING OUT OF\n",
    "# OR IN CONNECTION WITH THE USE OR PERFORMANCE OF THIS SOFTWARE.\n",
    "\n",
    "import os, sys\n",
    "import jieba, codecs, math\n",
    "import jieba.posseg as pseg\n",
    "\n",
    "names = {}\n",
    "relationships = {}\n",
    "lineNames = []\n",
    "\n",
    "# count names\n",
    "jieba.load_userdict(\"dict.txt\")\n",
    "with codecs.open(\"to_train.txt\", \"r\", \"utf8\") as f:\n",
    "\tfor line in f.readlines():\n",
    "\t\tposs = pseg.cut(line)\n",
    "\t\tlineNames.append([])\n",
    "\t\tfor w in poss:\n",
    "\t\t\tif w.flag != \"nr\" or len(w.word) < 2:\n",
    "\t\t\t\tcontinue\n",
    "\t\t\tlineNames[-1].append(w.word)\n",
    "\t\t\tif names.get(w.word) is None:\n",
    "\t\t\t\tnames[w.word] = 0\n",
    "\t\t\t\trelationships[w.word] = {}\n",
    "\t\t\tnames[w.word] += 1\n",
    "\n",
    "# explore relationships\n",
    "for line in lineNames:\n",
    "\tfor name1 in line:\n",
    "\t\tfor name2 in line:\n",
    "\t\t\tif name1 == name2:\n",
    "\t\t\t\tcontinue\n",
    "\t\t\tif relationships[name1].get(name2) is None:\n",
    "\t\t\t\trelationships[name1][name2]= 1\n",
    "\t\t\telse:\n",
    "\t\t\t\trelationships[name1][name2] = relationships[name1][name2]+ 1\n",
    "\n",
    "# output\n",
    "with codecs.open(\"node.txt\", \"w\", \"gbk\") as f:\n",
    "\tf.write(\"Id Label Weight\\r\\n\")\n",
    "\tfor name, times in names.items():\n",
    "\t\tf.write(name + \" \" + name + \" \" + str(times) + \"\\r\\n\")\n",
    "\n",
    "with codecs.open(\"edge.txt\", \"w\", \"gbk\") as f:\n",
    "\tf.write(\"Source Target Weight\\r\\n\")\n",
    "\tfor name, edges in relationships.items():\n",
    "\t\tfor v, w in edges.items():\n",
    "\t\t\tif w > 10:\n",
    "\t\t\tf.write(name + \" \" + v + \" \" + str(w) + \"\\r\\n\")\n"
   ]
  },
  {
   "cell_type": "code",
   "execution_count": 32,
   "metadata": {},
   "outputs": [
    {
     "name": "stdout",
     "output_type": "stream",
     "text": [
      "\r",
      "  0% [                                                                                  ]   0 / 282\r",
      "100% [..................................................................................] 282 / 282"
     ]
    }
   ],
   "source": [
    "url = \"http://labfile.oss.aliyuncs.com/courses/677/dict.txt\"\n",
    "filename = wget.download(url)"
   ]
  },
  {
   "cell_type": "code",
   "execution_count": 33,
   "metadata": {},
   "outputs": [
    {
     "name": "stdout",
     "output_type": "stream",
     "text": [
      "更新后的列表 :  ['Google', 'Runoob', 'Taobao', 'Baidu']\n"
     ]
    }
   ],
   "source": [
    "list1 = ['Google', 'Runoob', 'Taobao']\n",
    "list1.append('Baidu')\n",
    "print (\"更新后的列表 : \", list1)"
   ]
  },
  {
   "cell_type": "code",
   "execution_count": 38,
   "metadata": {},
   "outputs": [
    {
     "ename": "ModuleNotFoundError",
     "evalue": "No module named 'jieba'",
     "output_type": "error",
     "traceback": [
      "\u001b[1;31m---------------------------------------------------------------------------\u001b[0m",
      "\u001b[1;31mModuleNotFoundError\u001b[0m                       Traceback (most recent call last)",
      "\u001b[1;32m<ipython-input-38-364b201ea7b0>\u001b[0m in \u001b[0;36m<module>\u001b[1;34m\u001b[0m\n\u001b[0;32m      1\u001b[0m \u001b[1;31m# -*-  coding: utf-8 -*-\u001b[0m\u001b[1;33m\u001b[0m\u001b[1;33m\u001b[0m\u001b[1;33m\u001b[0m\u001b[0m\n\u001b[0;32m      2\u001b[0m \u001b[1;32mimport\u001b[0m \u001b[0mos\u001b[0m\u001b[1;33m,\u001b[0m \u001b[0msys\u001b[0m\u001b[1;33m\u001b[0m\u001b[1;33m\u001b[0m\u001b[0m\n\u001b[1;32m----> 3\u001b[1;33m \u001b[1;32mimport\u001b[0m \u001b[0mjieba\u001b[0m\u001b[1;33m,\u001b[0m \u001b[0mcodecs\u001b[0m\u001b[1;33m,\u001b[0m \u001b[0mmath\u001b[0m\u001b[1;33m\u001b[0m\u001b[1;33m\u001b[0m\u001b[0m\n\u001b[0m\u001b[0;32m      4\u001b[0m \u001b[1;32mimport\u001b[0m \u001b[0mjieba\u001b[0m\u001b[1;33m.\u001b[0m\u001b[0mposseg\u001b[0m \u001b[1;32mas\u001b[0m \u001b[0mpseg\u001b[0m\u001b[1;33m\u001b[0m\u001b[1;33m\u001b[0m\u001b[0m\n\u001b[0;32m      5\u001b[0m \u001b[1;33m\u001b[0m\u001b[0m\n",
      "\u001b[1;31mModuleNotFoundError\u001b[0m: No module named 'jieba'"
     ]
    }
   ],
   "source": [
    "# -*-  coding: utf-8 -*-\n",
    "import os, sys\n",
    "import jieba, codecs, math\n",
    "import jieba.posseg as pseg\n",
    "\n",
    "names = {}            # 姓名字典\n",
    "relationships = {}    # 关系字典\n",
    "lineNames = []        # 每段内人物关系"
   ]
  },
  {
   "cell_type": "code",
   "execution_count": 37,
   "metadata": {},
   "outputs": [
    {
     "ename": "NameError",
     "evalue": "name 'jieba' is not defined",
     "output_type": "error",
     "traceback": [
      "\u001b[1;31m---------------------------------------------------------------------------\u001b[0m",
      "\u001b[1;31mNameError\u001b[0m                                 Traceback (most recent call last)",
      "\u001b[1;32m<ipython-input-37-275b3d5ee621>\u001b[0m in \u001b[0;36m<module>\u001b[1;34m\u001b[0m\n\u001b[1;32m----> 1\u001b[1;33m \u001b[0mjieba\u001b[0m\u001b[1;33m.\u001b[0m\u001b[0mload_userdict\u001b[0m\u001b[1;33m(\u001b[0m\u001b[1;34m\"dict.txt\"\u001b[0m\u001b[1;33m)\u001b[0m        \u001b[1;31m# 加载字典\u001b[0m\u001b[1;33m\u001b[0m\u001b[1;33m\u001b[0m\u001b[0m\n\u001b[0m\u001b[0;32m      2\u001b[0m \u001b[1;32mwith\u001b[0m \u001b[0mcodecs\u001b[0m\u001b[1;33m.\u001b[0m\u001b[0mopen\u001b[0m\u001b[1;33m(\u001b[0m\u001b[1;34m\"busan.txt\"\u001b[0m\u001b[1;33m,\u001b[0m \u001b[1;34m\"r\"\u001b[0m\u001b[1;33m,\u001b[0m \u001b[1;34m\"utf8\"\u001b[0m\u001b[1;33m)\u001b[0m \u001b[1;32mas\u001b[0m \u001b[0mf\u001b[0m\u001b[1;33m:\u001b[0m\u001b[1;33m\u001b[0m\u001b[1;33m\u001b[0m\u001b[0m\n\u001b[0;32m      3\u001b[0m     \u001b[1;32mfor\u001b[0m \u001b[0mline\u001b[0m \u001b[1;32min\u001b[0m \u001b[0mf\u001b[0m\u001b[1;33m.\u001b[0m\u001b[0mreadlines\u001b[0m\u001b[1;33m(\u001b[0m\u001b[1;33m)\u001b[0m\u001b[1;33m:\u001b[0m\u001b[1;33m\u001b[0m\u001b[1;33m\u001b[0m\u001b[0m\n\u001b[0;32m      4\u001b[0m         \u001b[0mposs\u001b[0m \u001b[1;33m=\u001b[0m \u001b[0mpseg\u001b[0m\u001b[1;33m.\u001b[0m\u001b[0mcut\u001b[0m\u001b[1;33m(\u001b[0m\u001b[0mline\u001b[0m\u001b[1;33m)\u001b[0m        \u001b[1;31m# 分词并返回该词词性\u001b[0m\u001b[1;33m\u001b[0m\u001b[1;33m\u001b[0m\u001b[0m\n\u001b[0;32m      5\u001b[0m         \u001b[0mlineNames\u001b[0m\u001b[1;33m.\u001b[0m\u001b[0mappend\u001b[0m\u001b[1;33m(\u001b[0m\u001b[1;33m[\u001b[0m\u001b[1;33m]\u001b[0m\u001b[1;33m)\u001b[0m        \u001b[1;31m# 为新读入的一段添加人物名称列表\u001b[0m\u001b[1;33m\u001b[0m\u001b[1;33m\u001b[0m\u001b[0m\n",
      "\u001b[1;31mNameError\u001b[0m: name 'jieba' is not defined"
     ]
    }
   ],
   "source": [
    "jieba.load_userdict(\"dict.txt\")        # 加载字典\n",
    "with codecs.open(\"busan.txt\", \"r\", \"utf8\") as f:\n",
    "    for line in f.readlines():\n",
    "        poss = pseg.cut(line)        # 分词并返回该词词性\n",
    "        lineNames.append([])        # 为新读入的一段添加人物名称列表\n",
    "        for w in poss:\n",
    "            if w.flag != \"nr\" or len(w.word) < 2:\n",
    "                continue            # 当分词长度小于2或该词词性不为nr时认为该词不为人名\n",
    "            lineNames[-1].append(w.word)        # 为当前段的环境增加一个人物\n",
    "            if names.get(w.word) is None:\n",
    "                names[w.word] = 0\n",
    "                relationships[w.word] = {}\n",
    "            names[w.word] += 1                    # 该人物出现次数加 1"
   ]
  },
  {
   "cell_type": "code",
   "execution_count": null,
   "metadata": {},
   "outputs": [],
   "source": []
  }
 ],
 "metadata": {
  "kernelspec": {
   "display_name": "Python 3",
   "language": "python",
   "name": "python3"
  },
  "language_info": {
   "codemirror_mode": {
    "name": "ipython",
    "version": 3
   },
   "file_extension": ".py",
   "mimetype": "text/x-python",
   "name": "python",
   "nbconvert_exporter": "python",
   "pygments_lexer": "ipython3",
   "version": "3.7.3"
  }
 },
 "nbformat": 4,
 "nbformat_minor": 2
}
