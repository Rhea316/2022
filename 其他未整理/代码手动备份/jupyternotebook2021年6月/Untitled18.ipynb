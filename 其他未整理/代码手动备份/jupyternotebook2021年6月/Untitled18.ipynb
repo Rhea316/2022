{
 "cells": [
  {
   "cell_type": "code",
   "execution_count": 1,
   "metadata": {},
   "outputs": [
    {
     "name": "stdout",
     "output_type": "stream",
     "text": [
      "Done!\n"
     ]
    }
   ],
   "source": [
    "import pandas as pd\n",
    "import numpy as np\n",
    "import re\n",
    "df = pd.read_csv(\"E:\\\\7.3徐州网赌\\\\第五阶段分析结果\\\\第五批清洗\\\\流水去重后.csv\",encoding = 'utf-8',dtype = object)\n",
    "df = df.applymap(lambda x: re.sub('nan','',str(x)))\n",
    "df['交易金额'] = df['交易金额'].map(lambda x: float(x))  #交易金额指定浮点型\n",
    "df['交易余额'] = df['交易余额'].map(lambda x: np.NaN if str(x)=='' else x)\n",
    "df['交易余额'] = df['交易余额'].map(lambda x: float(x))\n",
    "\n",
    "set4 = ['郑荣荣']\n",
    "\n",
    "df_set4 = df[(df['交易户名'].isin(set4)) | (df['对手户名'].isin(set4))]\n",
    "df_set4.to_excel(\"E:\\\\7.3徐州网赌\\\\第五阶段分析结果\\\\第五批汇总切片\\\\郑荣荣.xlsx\")\n",
    "print('Done!')"
   ]
  },
  {
   "cell_type": "code",
   "execution_count": null,
   "metadata": {},
   "outputs": [],
   "source": []
  }
 ],
 "metadata": {
  "kernelspec": {
   "display_name": "Python 3",
   "language": "python",
   "name": "python3"
  },
  "language_info": {
   "codemirror_mode": {
    "name": "ipython",
    "version": 3
   },
   "file_extension": ".py",
   "mimetype": "text/x-python",
   "name": "python",
   "nbconvert_exporter": "python",
   "pygments_lexer": "ipython3",
   "version": "3.7.6"
  }
 },
 "nbformat": 4,
 "nbformat_minor": 4
}
