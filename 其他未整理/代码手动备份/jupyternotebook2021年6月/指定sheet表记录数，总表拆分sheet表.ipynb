{
 "cells": [
  {
   "cell_type": "code",
   "execution_count": 2,
   "metadata": {},
   "outputs": [
    {
     "name": "stdout",
     "output_type": "stream",
     "text": [
      "0\n",
      "Done!\n"
     ]
    }
   ],
   "source": [
    "import codecs\n",
    "import pandas as pd\n",
    "\n",
    "#read data from csv\n",
    "df = pd.read_csv('F:\\前180名数据(1).csv',encoding='utf-8',low_memory=False)\n",
    "# df = df.loc[:,[\"ID\",\"wxname\",\"sfz\"]]\n",
    "size = df.index.size\n",
    "limit = 500000\n",
    "sheets = int(size / limit)+1\n",
    "\n",
    "with pd.ExcelWriter('F:\\前180名数据(1).xlsx') as writer:\n",
    "    for i in range(sheets):\n",
    "        start = limit * i\n",
    "        stop = limit * (i+1)\n",
    "        print(i)\n",
    "        data = df.iloc[start:stop].astype(str).replace('nan','')\n",
    "        data.to_excel(writer, sheet_name='sheet'+str(i),index = False)\n",
    "print(\"Done!\")"
   ]
  },
  {
   "cell_type": "code",
   "execution_count": null,
   "metadata": {},
   "outputs": [],
   "source": [
    "import codecs\n",
    "import pandas as pd\n",
    "\n",
    "#读取F:\\前180名数据(1).csv文件\n",
    "df = pd.read_csv('F:\\前180名数据(1).csv',encoding='utf-8',low_memory=False)\n",
    "\n",
    "#每50万条数据拆分一个sheet表，导出成excel文件F:\\前180名数据(1).xlsx\n",
    "\n",
    "size = df.index.size\n",
    "limit = 500000\n",
    "sheets = int(size / limit)+1\n",
    "\n",
    "with pd.ExcelWriter('F:\\前180名数据(1).xlsx') as writer:\n",
    "    for i in range(sheets):\n",
    "        start = limit * i\n",
    "        stop = limit * (i+1)\n",
    "        print(i)\n",
    "        data = df.iloc[start:stop].astype(str).replace('nan','')\n",
    "        data.to_excel(writer, sheet_name='sheet'+str(i),index = False)\n",
    "print(\"Done!\")"
   ]
  },
  {
   "cell_type": "code",
   "execution_count": 6,
   "metadata": {
    "scrolled": true
   },
   "outputs": [
    {
     "name": "stdout",
     "output_type": "stream",
     "text": [
      "0\n",
      "1\n",
      "2\n",
      "3\n",
      "4\n",
      "5\n",
      "6\n",
      "7\n",
      "8\n",
      "9\n",
      "10\n",
      "11\n",
      "12\n",
      "13\n",
      "14\n",
      "15\n",
      "16\n",
      "17\n",
      "18\n",
      "19\n",
      "20\n",
      "21\n",
      "22\n",
      "23\n",
      "24\n",
      "25\n",
      "26\n",
      "27\n",
      "28\n",
      "29\n",
      "30\n",
      "31\n",
      "32\n",
      "33\n",
      "34\n",
      "35\n",
      "36\n",
      "37\n",
      "38\n",
      "39\n",
      "40\n",
      "41\n",
      "42\n",
      "43\n",
      "44\n",
      "45\n",
      "46\n",
      "47\n",
      "48\n",
      "49\n",
      "50\n",
      "51\n",
      "52\n",
      "53\n",
      "54\n",
      "55\n",
      "56\n",
      "57\n",
      "Done！\n"
     ]
    }
   ],
   "source": [
    "import pandas as pd\n",
    "path1 = 'C:\\\\Users\\\\ThinkPad\\\\Desktop\\\\'\n",
    "df = pd.read_csv(path1 + '资金流.csv',encoding='gbk',low_memory=False)\n",
    "df_S1 = df.groupby('查询卡号').size().reset_index()\n",
    "for i in df_S1.index:\n",
    "    print(i)\n",
    "    df_every = df.groupby('查询卡号').get_group(df_S1['查询卡号'][i])\n",
    "    df_every.to_excel(path1 +'新建文件夹 (2)\\\\'+str(df_S1['查询卡号'][i])+'.xlsx',index =  False)\n",
    "print('Done！')"
   ]
  },
  {
   "cell_type": "code",
   "execution_count": 2,
   "metadata": {},
   "outputs": [
    {
     "name": "stdout",
     "output_type": "stream",
     "text": [
      "16\n",
      "I:\\南通数据\\南通弹窗材料(1)\\停留弹窗-(参数12小时1000万).xlsx\n",
      "I:\\南通数据\\南通弹窗材料(1)\\停留弹窗-(参数12小时100万)(默认).xlsx\n",
      "I:\\南通数据\\南通弹窗材料(1)\\停留弹窗-(参数12小时30万).xlsx\n",
      "I:\\南通数据\\南通弹窗材料(1)\\停留弹窗-(参数12小时500万).xlsx\n",
      "I:\\南通数据\\南通弹窗材料(1)\\停留弹窗-(参数12小时50万).xlsx\n",
      "I:\\南通数据\\南通弹窗材料(1)\\入金弹窗-个人规则任意.xlsx\n",
      "I:\\南通数据\\南通弹窗材料(1)\\入金弹窗-商户规则任意.xlsx\n",
      "I:\\南通数据\\南通弹窗材料(1)\\入金弹窗-规则商户12345+个体12345(默认).xlsx\n",
      "I:\\南通数据\\南通弹窗材料(1)\\出金弹窗-规则234(默认).xlsx\n",
      "I:\\南通数据\\南通弹窗材料(1)\\出金弹窗-规则其他任意.xlsx\n",
      "I:\\南通数据\\南通弹窗材料(1)\\分润弹窗-规则1245(默认).xlsx\n",
      "I:\\南通数据\\南通弹窗材料(1)\\分润弹窗-规则其他任意.xlsx\n",
      "I:\\南通数据\\南通弹窗材料(1)\\散客弹窗-规则1345(默认).xlsx\n",
      "I:\\南通数据\\南通弹窗材料(1)\\散客弹窗-规则其他任意.xlsx\n",
      "I:\\南通数据\\南通弹窗材料(1)\\核心弹窗-规则全选(默认).xlsx\n",
      "I:\\南通数据\\南通弹窗材料(1)\\结构化分析圈群嫌疑卡弹窗-规则1267(默认).xlsx\n",
      "0 1 2 3 4 5 6 7 8 9 10 11 12 13 14 15 以下3种格式数据分类，保留流水、账户类别\n",
      "Columns\n",
      "(序号, 账号, 户名, 开户行, 交易入项金额, 交易出项金额, 交易总额, 交易净和, 交易笔数, 入向对手数, 出向对手数, 归属地, 标签)            13\n",
      "(序号, 账号, 户名, 开户行, 交易入项金额, 交易出项金额, 交易总额, 交易净和, 交易笔数, 调单情况, 角色判别, 归属地, 标签)               2\n",
      "(所属圈群, 账号, 户名, 证照号码, 开户行, 交易入项金额, 交易出项金额, 交易总额, 交易净和, 交易笔数, 入向对手数, 出向对手数, 归属地, 标签)     1\n",
      "dtype: int64\n"
     ]
    }
   ],
   "source": [
    "import os\n",
    "str1 = ''\n",
    "file_list = []\n",
    "os.chdir(r\"I:\\南通数据\\南通弹窗材料(1)\")\n",
    "for path_name, dir, files_name in os.walk(os.getcwd()):\n",
    "    for file in files_name:\n",
    "        if str1 in file:\n",
    "            file_list.append(os.path.join(path_name, file))\n",
    "print(len(file_list))\n",
    "print('\\n'.join(file_list))\n",
    "import pandas as pd\n",
    "df_group = pd.DataFrame(columns = ['Path','Columns','False','True'])\n",
    "type1 = '.xls'\n",
    "type2 = '.csv'\n",
    "type3 = '.et'\n",
    "\n",
    "for i in range(len(file_list)):\n",
    "    if type1 in file_list[i]:\n",
    "        df = pd.read_excel(file_list[i], encoding = \"gbk\")\n",
    "        df = df.loc[:,~df.columns.str.contains('^Unnamed')]\n",
    "    elif type2 in file_list[i]:\n",
    "        df = pd.read_csv(file_list[i], encoding = 'gbk')\n",
    "        df = df.loc[:,~df.columns.str.contains('^Unnamed')]\n",
    "    elif '.zip' in file_list[i] or '.rar' in file_list[i]:\n",
    "        continue\n",
    "    print(i ,end = ' ')\n",
    "    df.columns = df.columns.str.strip()\n",
    "    col_name = df.columns\n",
    "    bool_S = df.duplicated().value_counts()\n",
    "    if len(bool_S)==1:\n",
    "        df_group.loc[i] = {'Path':file_list[i],'Columns':tuple(col_name),'False':bool_S[0],'True':0}\n",
    "    elif len(bool_S)==2:\n",
    "        df_group.loc[i] = {'Path':file_list[i],'Columns':tuple(col_name),'False':bool_S[0],'True':bool_S[1]}\n",
    "grouped = df_group.groupby('Columns')\n",
    "groupname_list = list(grouped.size().index)\n",
    "print('以下'+str(len(groupname_list))+'种格式数据分类，保留流水、账户类别')\n",
    "print(grouped.size())"
   ]
  },
  {
   "cell_type": "code",
   "execution_count": 4,
   "metadata": {},
   "outputs": [
    {
     "name": "stdout",
     "output_type": "stream",
     "text": [
      "合并Done!\n"
     ]
    }
   ],
   "source": [
    "\n",
    "group_任务 = grouped.get_group(groupname_list[0])\n",
    "group_任务2 = grouped.get_group(groupname_list[1])\n",
    "group_任务3 = grouped.get_group(groupname_list[2])\n",
    "import numpy as np\n",
    "import re\n",
    "import datetime\n",
    "\n",
    "all_任务 = pd.DataFrame()\n",
    "for i in range(len(file_list)):\n",
    "    if file_list[i] in list(group_任务['Path']) or file_list[i] in list(group_任务2['Path']) or file_list[i] in list(group_任务3['Path']):\n",
    "        if type1 in file_list[i]:\n",
    "                df_task = pd.read_excel(file_list[i],encoding = \"gbk\",dtype = \"object\")\n",
    "        elif type2 in file_list[i]:\n",
    "                df_task = pd.read_csv(file_list[i], engine=\"python\",dtype = \"object\")\n",
    "        df_task.columns = df_task.columns.str.strip()\n",
    "        df_task['path'] = file_list[i]\n",
    "        df_task = df_task.applymap(lambda x: re.sub('\\t','',str(x)).strip())\n",
    "        all_任务 = all_任务.append(df_task)\n",
    "all_任务.to_excel(\"C:\\\\Users\\\\ThinkPad\\\\Desktop\\\\任务合并.xlsx\",index = None)\n",
    "\n",
    "print('合并Done!')"
   ]
  }
 ],
 "metadata": {
  "kernelspec": {
   "display_name": "Python 3",
   "language": "python",
   "name": "python3"
  },
  "language_info": {
   "codemirror_mode": {
    "name": "ipython",
    "version": 3
   },
   "file_extension": ".py",
   "mimetype": "text/x-python",
   "name": "python",
   "nbconvert_exporter": "python",
   "pygments_lexer": "ipython3",
   "version": "3.7.6"
  }
 },
 "nbformat": 4,
 "nbformat_minor": 4
}
