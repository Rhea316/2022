{
 "cells": [
  {
   "cell_type": "code",
   "execution_count": 152,
   "metadata": {
    "scrolled": false
   },
   "outputs": [
    {
     "name": "stdout",
     "output_type": "stream",
     "text": [
      "                                                     账户交易明细清单\n",
      "0                                            客户户名:惠永春        \n",
      "1    账号:11550166005464707                   卡号:622...        \n",
      "2    交易日期:20130101--20181231                      ...        \n",
      "3   <=============================================...        \n",
      "4   交易日期   交易时间    交易摘要        借贷标记  交易金额      帐户余...        \n",
      "..                                                ...        \n",
      "56                                                  \f",
      "        \n",
      "57  交易日期交易时间    交易摘要        借贷标记  交易金额      帐户余额  ...        \n",
      "58  ----------------------------------------------...        \n",
      "59  20181221|010452|储蓄结息              |贷 |        ...        \n",
      "60             汇总借方金额:1156315.00    汇总贷方金额:1156377.05        \n",
      "\n",
      "[61 rows x 1 columns]\n",
      "['交易日期', '交易时间', '交易摘要', '借贷标记', '交易金额', '帐户余额', '对方账户', '对方户名']\n"
     ]
    },
    {
     "data": {
      "text/html": [
       "<div>\n",
       "<style scoped>\n",
       "    .dataframe tbody tr th:only-of-type {\n",
       "        vertical-align: middle;\n",
       "    }\n",
       "\n",
       "    .dataframe tbody tr th {\n",
       "        vertical-align: top;\n",
       "    }\n",
       "\n",
       "    .dataframe thead th {\n",
       "        text-align: right;\n",
       "    }\n",
       "</style>\n",
       "<table border=\"1\" class=\"dataframe\">\n",
       "  <thead>\n",
       "    <tr style=\"text-align: right;\">\n",
       "      <th></th>\n",
       "      <th>0</th>\n",
       "      <th>1</th>\n",
       "      <th>2</th>\n",
       "      <th>3</th>\n",
       "      <th>4</th>\n",
       "      <th>5</th>\n",
       "      <th>6</th>\n",
       "      <th>7</th>\n",
       "      <th>8</th>\n",
       "    </tr>\n",
       "  </thead>\n",
       "  <tbody>\n",
       "    <tr>\n",
       "      <th>4</th>\n",
       "      <td>交易日期   交易时间    交易摘要        借贷标记  交易金额      帐户余...</td>\n",
       "      <td>None</td>\n",
       "      <td>None</td>\n",
       "      <td>None</td>\n",
       "      <td>None</td>\n",
       "      <td>None</td>\n",
       "      <td>None</td>\n",
       "      <td>None</td>\n",
       "      <td>None</td>\n",
       "    </tr>\n",
       "    <tr>\n",
       "      <th>57</th>\n",
       "      <td>交易日期交易时间    交易摘要        借贷标记  交易金额      帐户余额  ...</td>\n",
       "      <td>None</td>\n",
       "      <td>None</td>\n",
       "      <td>None</td>\n",
       "      <td>None</td>\n",
       "      <td>None</td>\n",
       "      <td>None</td>\n",
       "      <td>None</td>\n",
       "      <td>None</td>\n",
       "    </tr>\n",
       "  </tbody>\n",
       "</table>\n",
       "</div>"
      ],
      "text/plain": [
       "                                                    0     1     2     3     4  \\\n",
       "4   交易日期   交易时间    交易摘要        借贷标记  交易金额      帐户余...  None  None  None  None   \n",
       "57  交易日期交易时间    交易摘要        借贷标记  交易金额      帐户余额  ...  None  None  None  None   \n",
       "\n",
       "       5     6     7     8  \n",
       "4   None  None  None  None  \n",
       "57  None  None  None  None  "
      ]
     },
     "execution_count": 152,
     "metadata": {},
     "output_type": "execute_result"
    }
   ],
   "source": [
    "import pandas as pd\n",
    "df = pd.read_csv(r\"E:\\4.2职务侵占\\调单整理\\重点人员原始数据整理\\徐建军案件20200603银行反馈\\江苏银行\\惠永春.csv\")\n",
    "print(df)\n",
    "\n",
    "col = df.loc[4].str.split('\\s+')\n",
    "# len(col)\")\n",
    "df1 = pd.DataFrame(columns = col[0])\n",
    "\n",
    "print(col[0])\n",
    "\n",
    "data = df.loc[4:]\n",
    "data = data['                                                  账户交易明细清单'].str.split('\\\\|',expand=True)\n",
    "#'\\'竖杠在正则表达式中分隔多个分割符，竖杠需要转义\"\\|\"，斜杠'\\'也需要转义,最终\"\\\\|\"\n",
    "\n",
    "idx = data.loc[(data.loc[:,0].str.contains('交易日期'))].index\n",
    "idx\n",
    "# df1['客户名称']='惠永春'\n",
    "\n",
    "data.iloc[idx-4,:]"
   ]
  },
  {
   "cell_type": "code",
   "execution_count": null,
   "metadata": {},
   "outputs": [],
   "source": []
  },
  {
   "cell_type": "code",
   "execution_count": null,
   "metadata": {},
   "outputs": [],
   "source": []
  }
 ],
 "metadata": {
  "kernelspec": {
   "display_name": "Python 3",
   "language": "python",
   "name": "python3"
  },
  "language_info": {
   "codemirror_mode": {
    "name": "ipython",
    "version": 3
   },
   "file_extension": ".py",
   "mimetype": "text/x-python",
   "name": "python",
   "nbconvert_exporter": "python",
   "pygments_lexer": "ipython3",
   "version": "3.7.6"
  }
 },
 "nbformat": 4,
 "nbformat_minor": 4
}
