{
 "cells": [
  {
   "cell_type": "markdown",
   "metadata": {},
   "source": [
    "** pandas创建excel文件 **"
   ]
  },
  {
   "cell_type": "markdown",
   "metadata": {},
   "source": [
    "pd.DataFrame() pandas 包下 DataFrame 类 ，创建实例\n",
    "pd.read_excel 读取已存在的excel"
   ]
  },
  {
   "cell_type": "markdown",
   "metadata": {},
   "source": [
    "常用方法：\n",
    "    df.to_excel 对象df导出成excel表"
   ]
  },
  {
   "cell_type": "markdown",
   "metadata": {},
   "source": [
    "常用属性(property)：\n",
    "pd.shape"
   ]
  },
  {
   "cell_type": "code",
   "execution_count": 104,
   "metadata": {
    "scrolled": true
   },
   "outputs": [
    {
     "name": "stdout",
     "output_type": "stream",
     "text": [
      "E:\\513案件数据汇总\\6.4调取银行反馈\n",
      "['E:\\\\513案件数据汇总\\\\6.4调取银行反馈\\\\3400399020200604165605\\\\福建省农村信用社联合社交易明细信息.csv', 'E:\\\\513案件数据汇总\\\\6.4调取银行反馈\\\\3400399020200604165728\\\\中国工商银行交易明细信息.csv', 'E:\\\\513案件数据汇总\\\\6.4调取银行反馈\\\\3400399020200604165843\\\\中国光大银行股份有限公司交易明细信息.csv', 'E:\\\\513案件数据汇总\\\\6.4调取银行反馈\\\\3400399020200604170211\\\\中国建设银行交易明细信息.csv', 'E:\\\\513案件数据汇总\\\\6.4调取银行反馈\\\\3400399020200604170321\\\\中国建设银行交易明细信息.csv', 'E:\\\\513案件数据汇总\\\\6.4调取银行反馈\\\\3400399020200604170514\\\\交通银行股份有限公司交易明细信息.csv', 'E:\\\\513案件数据汇总\\\\6.4调取银行反馈\\\\3400399020200604170659\\\\中国民生银行股份有限公司交易明细信息.csv', 'E:\\\\513案件数据汇总\\\\6.4调取银行反馈\\\\3400399020200604171341\\\\中国民生银行股份有限公司交易明细信息.csv', 'E:\\\\513案件数据汇总\\\\6.4调取银行反馈\\\\3400399020200604171558\\\\中国农业银行交易明细信息.csv', 'E:\\\\513案件数据汇总\\\\6.4调取银行反馈\\\\3400399020200604171736\\\\平安银行交易明细信息.csv', 'E:\\\\513案件数据汇总\\\\6.4调取银行反馈\\\\3400399020200604171924\\\\平安银行交易明细信息.csv', 'E:\\\\513案件数据汇总\\\\6.4调取银行反馈\\\\3400399020200604172058\\\\上海浦东发展银行股份有限公司交易明细信息.csv', 'E:\\\\513案件数据汇总\\\\6.4调取银行反馈\\\\3400399020200604172443\\\\深圳福田银座村镇银行股份有限公司交易明细信息.csv', 'E:\\\\513案件数据汇总\\\\6.4调取银行反馈\\\\3400399020200604172631\\\\兴业银行股份有限公司交易明细信息.csv', 'E:\\\\513案件数据汇总\\\\6.4调取银行反馈\\\\3400399020200604172839\\\\中国邮政储蓄银行有限责任公司交易明细信息.csv', 'E:\\\\513案件数据汇总\\\\6.4调取银行反馈\\\\3400399020200604173106\\\\招商银行股份有限公司交易明细信息.csv', 'E:\\\\513案件数据汇总\\\\6.4调取银行反馈\\\\3400399020200604173209\\\\招商银行股份有限公司交易明细信息.csv', 'E:\\\\513案件数据汇总\\\\6.4调取银行反馈\\\\3400399020200604173421\\\\中国银行交易明细信息.csv', 'E:\\\\513案件数据汇总\\\\6.4调取银行反馈\\\\3400399020200604173530\\\\中国银行交易明细信息.csv']\n",
      "19\n",
      "                  交易卡号\\t 交易账号\\t 查询反馈结果原因\\t 交易户名\\t 交易证件号码\\t  \\\n",
      "0  6230361106068828461\\t     \\t       成功\\t     \\t       \\t   \n",
      "1  6230361106068828461\\t     \\t       成功\\t     \\t       \\t   \n",
      "2  6230361106068828461\\t     \\t       成功\\t     \\t       \\t   \n",
      "3  6230361106068828461\\t     \\t       成功\\t     \\t       \\t   \n",
      "4  6230361106068828461\\t     \\t       成功\\t     \\t       \\t   \n",
      "\n",
      "                  交易时间\\t    交易金额\\t     交易余额\\t 收付标志\\t              交易对手账卡号\\t  \\\n",
      "0  2019-01-31 11:24:11\\t    1000.0  568680.69    出\\t  6221840106025292710\\t   \n",
      "1  2018-07-12 15:08:00\\t  100000.0  919663.02    出\\t     6214923001779695\\t   \n",
      "2  2016-08-01 08:58:17\\t    3755.0   27786.33    出\\t  6217994030001383107\\t   \n",
      "3  2018-06-11 14:59:41\\t   13000.0  242885.12    出\\t  6217993000273539208\\t   \n",
      "4  2018-06-28 10:23:15\\t   59392.0  936676.02    进\\t  6228492599500201378\\t   \n",
      "\n",
      "   ...  MAC地址\\t 对手交易余额\\t  交易流水号\\t 渠道\\t 日志号\\t 凭证种类\\t 凭证号\\t 交易柜员号\\t 备注\\t  交易类型\\t  \n",
      "0  ...       \\t       \\t  5187954   \\t    \\t     \\t     0  666784   \\t      \\t  \n",
      "1  ...       \\t       \\t  6182008   \\t    \\t     \\t     0  666663   \\t      \\t  \n",
      "2  ...       \\t       \\t  1197263   \\t    \\t     \\t     0  666663   \\t      \\t  \n",
      "3  ...       \\t       \\t  6356126   \\t    \\t     \\t     0  666663   \\t      \\t  \n",
      "4  ...       \\t       \\t  2833275   \\t    \\t     \\t     0     702   \\t      \\t  \n",
      "\n",
      "[5 rows x 32 columns]\n"
     ]
    }
   ],
   "source": [
    "import pandas as pd\n",
    "import os\n",
    "os.chdir(\"E:/513案件数据汇总/6.4调取银行反馈\")\n",
    "path1 = os.getcwd()\n",
    "str1 = \"交易明细\"\n",
    "print(path)\n",
    "file_list = []\n",
    "def search_file(path,str):\n",
    "    for file in os.listdir(path):\n",
    "        this_path = os.path.join(path,file)\n",
    "        if os.path.isfile(this_path):\n",
    "            if str in this_path:\n",
    "                file_list.append(this_path)\n",
    "        else:\n",
    "            search_file(this_path,str)\n",
    "    return file_list\n",
    "print(search_file(path1,str1))\n",
    "print(len(file_list))\n",
    "\n",
    "os.mkdir(\"E:/513案件数据汇总/合并\")\n",
    "path2 = \"E:/513案件数据汇总/合并\"\n",
    "save_name = \"合并.csv\"\n",
    "df = pd.read_csv(file_list[0],encoding='gbk') \n",
    "print(df.head())\n",
    "df.to_csv(path2 + '\\\\' + save_name ,encoding = 'utf_8',index = False)\n",
    "\n",
    "for i in range(1,len(file_list)-1):\n",
    "    df = pd.read_csv(file_list[i] ,encoding='gbk')\n",
    "    df.to_csv(path2 + '\\\\' + save_name ,encoding=\"utf_8\",index=False, header=False, mode='a+')\n",
    "\n",
    "# def find_dir(dir_name):\n",
    "#     file_list = []\n",
    "#     for path_name, dir, files_name in os.walk(dir_name):\n",
    "#         for file in files_name:\n",
    "#             if str in files_name:\n",
    "#                 file_list.append(os.path.join(path_name, file))\n",
    "#     return file_list\n",
    "# file_list = find_dir(os.getcwd())\n",
    "# print(file_list)\n",
    "\n",
    "\n",
    "\n",
    "\n"
   ]
  },
  {
   "cell_type": "markdown",
   "metadata": {},
   "source": [
    "os 包 operate system 操作系统"
   ]
  },
  {
   "cell_type": "code",
   "execution_count": null,
   "metadata": {},
   "outputs": [],
   "source": []
  },
  {
   "cell_type": "code",
   "execution_count": 3,
   "metadata": {},
   "outputs": [
    {
     "name": "stdout",
     "output_type": "stream",
     "text": [
      "Done!\n"
     ]
    }
   ],
   "source": [
    "import pandas as pd\n",
    "df = pd.DataFrame()\n",
    "df.to_excel('C:\\\\Users\\\\ThinkPad\\\\Desktop\\\\jupyter\\\\output.xlsx')\n",
    "print('Done!')"
   ]
  },
  {
   "cell_type": "code",
   "execution_count": 5,
   "metadata": {},
   "outputs": [
    {
     "name": "stdout",
     "output_type": "stream",
     "text": [
      "Done!\n"
     ]
    }
   ],
   "source": [
    "import pandas as pd\n",
    "df = pd.DataFrame({'ID':[1,2,3],'Name':['Tim','Victor','Nick']})\n",
    "df = df.set_index('ID')      # df指向新的dataframe，以ID为索引\n",
    "df.to_excel('C:\\\\Users\\\\ThinkPad\\\\Desktop\\\\jupyter\\\\output.xlsx')\n",
    "print('Done!')"
   ]
  },
  {
   "cell_type": "code",
   "execution_count": 10,
   "metadata": {},
   "outputs": [
    {
     "name": "stdout",
     "output_type": "stream",
     "text": [
      "(386, 12)\n",
      "Index(['运营商', '日期', '时间', '通话时长(秒)', '类型', '用户号码', '对方号码', 'LAC', 'CI', '经度',\n",
      "       '纬度', '小区名称(地址)'],\n",
      "      dtype='object')\n",
      "  运营商         日期        时间  通话时长(秒)  类型         用户号码         对方号码      LAC  \\\n",
      "0  移动 2016-03-03  15:32:20       43  被叫  134****3434     827****7  20645.0   \n",
      "1  移动 2016-03-03  11:35:25      109  被叫  134****3434     288****3  20645.0   \n",
      "2  移动 2016-03-03  10:07:17       12  被叫  134****3434  137****4298  20645.0   \n",
      "3  移动 2016-03-03  11:54:40        5  被叫  134****3434  139****6630  20645.0   \n",
      "4  移动 2016-03-03  09:54:17       46  被叫  134****3434  183****4366  20645.0   \n",
      "\n",
      "        CI          经度         纬度          小区名称(地址)  \n",
      "0  12669.0  119.881737  32.711658      ****化县周庄****  \n",
      "1  12666.0  119.881737  32.711658      ****化县周庄****  \n",
      "2  36788.0  119.880127  32.720055  ****化县周庄****双碟3)  \n",
      "3  12666.0  119.881737  32.711658      ****化县周庄****  \n",
      "4  12666.0  119.881737  32.711658      ****化县周庄****  \n",
      "    运营商         日期        时间  通话时长(秒)  类型         用户号码         对方号码      LAC  \\\n",
      "383  移动 2016-03-03  20:12:47       23  主叫  134****3434  152****0888  20645.0   \n",
      "384  移动 2016-03-03  10:16:41      295  主叫  134****3434  137****1868  20645.0   \n",
      "385  移动 2016-03-03  17:27:07      105  被叫  134****3434  152****5836  20918.0   \n",
      "\n",
      "          CI          经度         纬度                小区名称(地址)  \n",
      "383  44230.0  119.896439  32.706120          ****化县周庄****4)  \n",
      "384  12668.0  119.881737  32.711658            ****化县周庄****  \n",
      "385  42488.0  119.912193  32.473492  ****广场大商****场大商业东区MBO)  \n"
     ]
    }
   ],
   "source": [
    "import pandas as pd\n",
    "df = pd.read_excel('C:\\\\Users\\\\ThinkPad\\\\Desktop\\\\通话记录-演示数据\\\\1.xlsx')\n",
    "print(df.shape)  # 属性shape （多少行，多少列）\n",
    "print(df.columns)   # 显示列名\n",
    "print(df.head())    # 显示默认5行\n",
    "print(df.tail(3))   # 显示末尾3行\n"
   ]
  },
  {
   "cell_type": "code",
   "execution_count": 11,
   "metadata": {},
   "outputs": [
    {
     "name": "stdout",
     "output_type": "stream",
     "text": [
      "Index(['日期', '时间', '借方帐号', '借方户名', '贷方帐号', '贷方户名', '交易额', '余额', '交易渠道', '摘要'], dtype='object')\n"
     ]
    }
   ],
   "source": [
    "import pandas as pd\n",
    "df = pd.read_excel('C:\\\\Users\\\\ThinkPad\\\\Desktop\\\\银行流水-演示数据\\\\Z#英交易流水.xlsx',header = 1)\n",
    "print(df.columns)\n",
    "# 首行为脏数据，第二行是行标题 header=1 首行为空时不用"
   ]
  },
  {
   "cell_type": "code",
   "execution_count": 36,
   "metadata": {},
   "outputs": [
    {
     "name": "stdout",
     "output_type": "stream",
     "text": [
      "Done!\n",
      "                                             日期      时间  \\\n",
      "0  Z*英卡号：6228481xxxxxxxx1183 2014年1月15日 农行B分行开户     NaN   \n",
      "1                                            日期      时间   \n",
      "2                                      20150115  102429   \n",
      "3                                      20150115  105825   \n",
      "4                                      20150115  110022   \n",
      "5                                      20150115  110022   \n",
      "6                                      20150115  111246   \n",
      "7                                      20150115  111326   \n",
      "8                                      20150115  112804   \n",
      "9                                      20150115  113148   \n",
      "\n",
      "                    借方帐号   借方户名                   贷方帐号   贷方户名       交易额  \\\n",
      "0                    NaN    NaN                    NaN    NaN       NaN   \n",
      "1                   借方帐号   借方户名                   贷方帐号   贷方户名       交易额   \n",
      "2                      　    NaN  6228481xxxxxxxx1183 　    NaN         0   \n",
      "3                      　    NaN  6228481xxxxxxxx1183 　    NaN      5000   \n",
      "4  6228481xxxxxxxx1183 　    NaN  62366871xxxxxxx3787 　  Z*英 　      -100   \n",
      "5  6228481xxxxxxxx1183 　    NaN                      　    NaN        -1   \n",
      "6  6228481xxxxxxxx8087 　    NaN                      　    NaN      -100   \n",
      "7  6228481xxxxxxxx8087 　    NaN                      　    NaN      -100   \n",
      "8  6236681xxxxxxxx5186 　  Y*仔 　  6228481xxxxxxxx1183 　    NaN  14000000   \n",
      "9                      　    NaN  6228481xxxxxxxx8087 　    NaN        20   \n",
      "\n",
      "         余额    交易渠道     摘要  \n",
      "0       NaN     NaN    NaN  \n",
      "1        余额    交易渠道     摘要  \n",
      "2         0    柜台 　   转开 　  \n",
      "3      5000    柜台 　   现存 　  \n",
      "4      4900    网银 　   转支 　  \n",
      "5      4899    网银 　  手续费 　  \n",
      "6      4799   ATM 　   现支 　  \n",
      "7      4699   ATM 　   现支 　  \n",
      "8  14004699  CNPS 　   转存 　  \n",
      "9  14004719    柜台 　   现存 　  \n"
     ]
    }
   ],
   "source": [
    "import pandas as pd\n",
    "df = pd.read_excel('C:\\\\Users\\\\ThinkPad\\\\Desktop\\\\银行流水-演示数据\\\\Z#英交易流水.xlsx',header = None)\n",
    "# 不存在标题行 header=None ,自动以[0,1,2,3,4,5,……]作为行标题\n",
    "df.columns = ['日期', '时间', '借方帐号', '借方户名', '贷方帐号', '贷方户名', '交易额', '余额', '交易渠道', '摘要']\n",
    "#  自行设置行标题\n",
    "df.to_excel('C:\\\\Users\\\\ThinkPad\\\\Desktop\\\\银行流水-演示数据\\\\output_Z#英交易流水.xlsx')\n",
    "# 另存为output_Z#英交易流水.xlsx\n",
    "print('Done!')\n",
    "\n",
    "\"\"\"\n",
    "df = pd.read_excel('C:\\\\Users\\\\ThinkPad\\\\Desktop\\\\银行流水-演示数据\\\\output_Z#英交易流水.xlsx')\n",
    "df.set_index('Unnamed: 0', inplace = True)\n",
    "# df变量指向不变，直接在原内存中dataframe上改以第一列Unnamed: 0为索引\n",
    "print(df.columns)\n",
    "# 'Unnamed: 0'会从columns中消失，作为index存在\n",
    "\"\"\"\n",
    "df = pd.read_excel('C:\\\\Users\\\\ThinkPad\\\\Desktop\\\\银行流水-演示数据\\\\output_Z#英交易流水.xlsx',index_col = 0)\n",
    "print(df.head(10))"
   ]
  },
  {
   "cell_type": "code",
   "execution_count": null,
   "metadata": {},
   "outputs": [],
   "source": [
    "import pandas as pd\n",
    "s1 = pd.Series()\n",
    "s1.data\n",
    " "
   ]
  },
  {
   "cell_type": "code",
   "execution_count": 48,
   "metadata": {},
   "outputs": [
    {
     "name": "stdout",
     "output_type": "stream",
     "text": [
      "(2090336, 36)\n",
      "Index(['银行', '客户名称', '客户证件号码', '查询账号', '查询卡号', '交易对方名称', '交易对方证件号码', '交易对方账号',\n",
      "       '交易对方卡号', '交易类型', '借贷标志', '币种', '交易金额', '交易余额', '交易时间', '交易流水号',\n",
      "       '交易对方余额', '交易对方账号开户行', '交易摘要', '交易网点名称', '交易网点代码', '日志号', '传票号', '凭证种类',\n",
      "       '凭证号', '现金标志', '终端号', '交易是否成功', '交易发生地', '商户名称', '商户号', 'IP地址', 'MAC地址',\n",
      "       '交易柜员号', '备注', '名称'],\n",
      "      dtype='object')\n",
      "   银行 客户名称  客户证件号码 查询账号                  查询卡号 交易对方名称  交易对方证件号码  交易对方账号  \\\n",
      "0 NaN  NaN     NaN  NaN  32050173763800000193    贾玉堂       NaN     NaN   \n",
      "1 NaN  NaN     NaN  NaN  32050173763800000193    滕国锋       NaN     NaN   \n",
      "2 NaN  NaN     NaN  NaN  32050173763800000193     李密       NaN     NaN   \n",
      "3 NaN  NaN     NaN  NaN  32050173763800000193     张伟       NaN     NaN   \n",
      "4 NaN  NaN     NaN  NaN  32050173763800000193    张美君       NaN     NaN   \n",
      "\n",
      "                交易对方卡号 交易类型  ... 终端号 交易是否成功  交易发生地  商户名称 商户号 IP地址  MAC地址  \\\n",
      "0  6212261617001458900   转账  ... NaN     成功    NaN   NaN NaN  NaN    NaN   \n",
      "1     6226201500653935   转账  ... NaN     成功    NaN   NaN NaN  NaN    NaN   \n",
      "2  6215591813000279504   转账  ... NaN     成功    NaN   NaN NaN  NaN    NaN   \n",
      "3  6230399991005564477   转账  ... NaN     成功    NaN   NaN NaN  NaN    NaN   \n",
      "4  6230661635014532717   转账  ... NaN     成功    NaN   NaN NaN  NaN    NaN   \n",
      "\n",
      "  交易柜员号   备注               名称  \n",
      "0   NaN  NaN  盐城市大丰区智雅跃商贸有限公司  \n",
      "1   NaN  NaN  盐城市大丰区智雅跃商贸有限公司  \n",
      "2   NaN  NaN  盐城市大丰区智雅跃商贸有限公司  \n",
      "3   NaN  NaN  盐城市大丰区智雅跃商贸有限公司  \n",
      "4   NaN  NaN  盐城市大丰区智雅跃商贸有限公司  \n",
      "\n",
      "[5 rows x 36 columns]\n",
      "Done!\n"
     ]
    }
   ],
   "source": [
    "import pandas as pd\n",
    "df1 = pd.read_csv('C:\\\\Users\\\\ThinkPad\\\\Desktop\\\\银行交易流水.csv')\n",
    "\n",
    "df2 = pd.DataFrame(df1,columns = ['交易对方卡号', '交易对方名称'])\n",
    "df2.columns = ['查询卡号', '名称']\n",
    "df2.to_csv('C:\\\\Users\\\\ThinkPad\\\\Desktop\\\\无标题1.csv')\n",
    "print('Done!')\n",
    "\n",
    "\n",
    "df2.drop_duplicates(inplace=True)\n",
    "# 删除重复行\n",
    "df2['查询卡号'].isnull().value_counts()\n",
    "df3 = df2.drop(df2[df2.查询卡号 == None].index.tolist())\n",
    "\"\"\"\n",
    "df3 = df2.dropna(subset=['查询卡号'])\n",
    "# 删除查询卡号为空的行\n",
    "print(df3.shape)\n",
    "print(df3.head())\n",
    "\"\"\"\n",
    "df3.to_csv('C:\\\\Users\\\\ThinkPad\\\\Desktop\\\\开户信息.csv')\n",
    "print('去重删冗余Done!')\n",
    "\n",
    "result = pd.merge(df1,df3, how ='left',on = '查询卡号')\n",
    "print(result.shape)\n",
    "print(result.columns)\n",
    "print(result.head())\n",
    "\n",
    "df4 = pd.DataFrame(result, columns=['银行', '名称', '客户证件号码', '查询账号', '查询卡号', '交易对方名称', '交易对方证件号码', '交易对方账号','交易对方卡号', '交易类型', '借贷标志', '币种', '交易金额', '交易余额', '交易时间', '交易流水号', '交易对方余额', '交易对方账号开户行', '交易摘要', '交易网点名称', '交易网点代码', '日志号', '传票号', '凭证种类','凭证号', '现金标志', '终端号', '交易是否成功', '交易发生地', '商户名称', '商户号', 'IP地址', 'MAC地址','交易柜员号', '备注'])\n",
    "df4.to_csv('C:\\\\Users\\\\ThinkPad\\\\Desktop\\\\交易流水填充.csv')\n",
    "print('客户名称填充Done!')"
   ]
  },
  {
   "cell_type": "code",
   "execution_count": 2,
   "metadata": {},
   "outputs": [
    {
     "name": "stderr",
     "output_type": "stream",
     "text": [
      "C:\\Users\\ThinkPad\\Anaconda3\\lib\\site-packages\\IPython\\core\\interactiveshell.py:3057: DtypeWarning: Columns (1,3,4,9,11,15,17,22,25,27,28,29,31,32,33,34) have mixed types. Specify dtype option on import or set low_memory=False.\n",
      "  interactivity=interactivity, compiler=compiler, result=result)\n"
     ]
    },
    {
     "name": "stdout",
     "output_type": "stream",
     "text": [
      "(2089871, 35)\n"
     ]
    }
   ],
   "source": [
    "import pandas as pd\n",
    "df1 = pd.read_csv('C:\\\\Users\\\\ThinkPad\\\\Desktop\\\\银行交易流水.csv')\n",
    "print(df1.shape)"
   ]
  },
  {
   "cell_type": "code",
   "execution_count": 5,
   "metadata": {},
   "outputs": [
    {
     "name": "stdout",
     "output_type": "stream",
     "text": [
      "  key1 key2   A   B    C    D\n",
      "0   K0   K0  A0  B0   C0   D0\n",
      "1   K0   K1  A1  B1  NaN  NaN\n",
      "2   K1   K0  A2  B2   C1   D1\n",
      "3   K1   K0  A2  B2   C2   D2\n",
      "4   K2   K1  A3  B3  NaN  NaN\n"
     ]
    }
   ],
   "source": [
    "import pandas as pd\n",
    "left = pd.DataFrame({'key1': ['K0', 'K0', 'K1', 'K2'],\n",
    "                      'key2': ['K0', 'K1', 'K0', 'K1'],\n",
    "                         'A': ['A0', 'A1', 'A2', 'A3'],\n",
    "                         'B': ['B0', 'B1', 'B2', 'B3']})\n",
    "\n",
    "right = pd.DataFrame({'key1': ['K0', 'K1', 'K1', 'K2'],\n",
    "                      'key2': ['K0', 'K0', 'K0', 'K0'],\n",
    "                         'C': ['C0', 'C1', 'C2', 'C3'],\n",
    "                         'D': ['D0', 'D1', 'D2', 'D3']})\n",
    "\"\"\"\n",
    "result.at[1,'C']='C5'  # result.set_value(1,'C','C5') 效果一样，set_value为旧功能\n",
    "\"\"\"\n",
    "\n",
    "result = pd.merge(left, right, how = 'left', on=['key1', 'key2'])\n",
    "print(result)\n",
    "\n",
    "# 左连接，右表1对n ，连接坐标复制n行n种对应关系都显示。所以行会增加。右表能去重一定去重！"
   ]
  },
  {
   "cell_type": "code",
   "execution_count": 7,
   "metadata": {},
   "outputs": [
    {
     "name": "stdout",
     "output_type": "stream",
     "text": [
      "Done!\n"
     ]
    }
   ],
   "source": [
    "import pandas as pd\n",
    "df1 = pd.read_csv('C:\\\\Users\\\\ThinkPad\\\\Desktop\\\\银行交易流水.csv')\n",
    "\"\"\"\n",
    "df2 = pd.DataFrame({'卡号':['32050173763800000193','6222030808002601981','3700021509200026140'],'名称':['贾玉堂','滕国锋','李密']})\n",
    "result = pd.merge(df1,df2, how ='left',left_on = '查询卡号',right_on = '卡号')\n",
    "\n",
    "\"\"\"\n",
    "\n",
    "df2 = pd.DataFrame(df1,columns = ['交易对方卡号', '交易对方名称'])\n",
    "df2.columns = ['查询卡号', '名称']\n",
    "df2.to_csv('C:\\\\Users\\\\ThinkPad\\\\Desktop\\\\无标题1.csv')\n",
    "print('Done!')"
   ]
  },
  {
   "cell_type": "code",
   "execution_count": 2,
   "metadata": {},
   "outputs": [
    {
     "name": "stdout",
     "output_type": "stream",
     "text": [
      "(138223, 2)\n",
      "(2089871, 36)\n",
      "Done!\n"
     ]
    }
   ],
   "source": [
    "import pandas as pd\n",
    "df1 = pd.read_csv('C:\\\\Users\\\\ThinkPad\\\\Desktop\\\\银行交易流水.csv')\n",
    "#df2 = df1.loc[df1['查询卡号'].apply(lambda a: a='0712002409200017852')\n",
    "df1.loc[(df1.查询卡号 == '712002409200017852'),'查询卡号'] = '0712002409200017852'  # 查询卡号查找替换更改值\n",
    "\n",
    "df2 = pd.DataFrame(df1,columns = ['交易对方卡号','交易对方名称'])\n",
    "df2.columns = ['查询卡号','名称']\n",
    "\n",
    "df2.drop_duplicates(subset=['查询卡号'],keep='first',inplace=True)     # 删除重复行\n",
    "df3 = df2.dropna(subset=['查询卡号'])   # 丢弃‘查询卡号’列中有缺失值的行\n",
    "\n",
    "result = pd.merge(df1,df3,how = 'left',on ='查询卡号')\n",
    "\n",
    "print(df3.shape)\n",
    "print(result.shape)\n",
    "result.to_csv('C:\\\\Users\\\\ThinkPad\\\\Desktop\\\\银行交易流水填充.csv')\n",
    "print('Done!')"
   ]
  },
  {
   "cell_type": "code",
   "execution_count": 3,
   "metadata": {},
   "outputs": [
    {
     "ename": "AttributeError",
     "evalue": "'DataFrame' object has no attribute '交易对方账号'",
     "output_type": "error",
     "traceback": [
      "\u001b[1;31m---------------------------------------------------------------------------\u001b[0m",
      "\u001b[1;31mAttributeError\u001b[0m                            Traceback (most recent call last)",
      "\u001b[1;32m<ipython-input-3-5bcbf19a4d10>\u001b[0m in \u001b[0;36m<module>\u001b[1;34m\u001b[0m\n\u001b[0;32m      2\u001b[0m \u001b[0mdf1\u001b[0m \u001b[1;33m=\u001b[0m \u001b[0mpd\u001b[0m\u001b[1;33m.\u001b[0m\u001b[0mread_csv\u001b[0m\u001b[1;33m(\u001b[0m\u001b[1;34m'E:\\\\4.2\\\\清洗后数据\\\\银行交易流水.csv'\u001b[0m\u001b[1;33m,\u001b[0m\u001b[0mencoding\u001b[0m\u001b[1;33m=\u001b[0m\u001b[1;34m'ISO-8859-1'\u001b[0m\u001b[1;33m)\u001b[0m\u001b[1;33m\u001b[0m\u001b[1;33m\u001b[0m\u001b[0m\n\u001b[0;32m      3\u001b[0m \u001b[1;31m#df2 = df1.loc[df1['查询卡号'].apply(lambda a: a='0712002409200017852')\u001b[0m\u001b[1;33m\u001b[0m\u001b[1;33m\u001b[0m\u001b[1;33m\u001b[0m\u001b[0m\n\u001b[1;32m----> 4\u001b[1;33m \u001b[0mdf1\u001b[0m\u001b[1;33m.\u001b[0m\u001b[0mloc\u001b[0m\u001b[1;33m[\u001b[0m\u001b[1;33m(\u001b[0m\u001b[0mdf1\u001b[0m\u001b[1;33m.\u001b[0m\u001b[0m交易对方账号\u001b[0m\u001b[1;33m==\u001b[0m \u001b[1;34m'32700603101801003057'\u001b[0m\u001b[1;33m)\u001b[0m\u001b[1;33m,\u001b[0m\u001b[1;34m'交易对方账号'\u001b[0m\u001b[1;33m]\u001b[0m \u001b[1;33m=\u001b[0m \u001b[1;34m'327006031018010030571'\u001b[0m\u001b[1;33m\u001b[0m\u001b[1;33m\u001b[0m\u001b[0m\n\u001b[0m\u001b[0;32m      5\u001b[0m \u001b[0mresult\u001b[0m\u001b[1;33m.\u001b[0m\u001b[0mto_csv\u001b[0m\u001b[1;33m(\u001b[0m\u001b[1;34m'E:\\\\4.2\\\\清洗后数据\\\\银行交易流水_copy1.csv'\u001b[0m\u001b[1;33m)\u001b[0m\u001b[1;33m\u001b[0m\u001b[1;33m\u001b[0m\u001b[0m\n\u001b[0;32m      6\u001b[0m \u001b[0mprint\u001b[0m\u001b[1;33m(\u001b[0m\u001b[1;34m'Done!'\u001b[0m\u001b[1;33m)\u001b[0m\u001b[1;33m\u001b[0m\u001b[1;33m\u001b[0m\u001b[0m\n",
      "\u001b[1;32m~\\Anaconda3\\lib\\site-packages\\pandas\\core\\generic.py\u001b[0m in \u001b[0;36m__getattr__\u001b[1;34m(self, name)\u001b[0m\n\u001b[0;32m   5065\u001b[0m             \u001b[1;32mif\u001b[0m \u001b[0mself\u001b[0m\u001b[1;33m.\u001b[0m\u001b[0m_info_axis\u001b[0m\u001b[1;33m.\u001b[0m\u001b[0m_can_hold_identifiers_and_holds_name\u001b[0m\u001b[1;33m(\u001b[0m\u001b[0mname\u001b[0m\u001b[1;33m)\u001b[0m\u001b[1;33m:\u001b[0m\u001b[1;33m\u001b[0m\u001b[1;33m\u001b[0m\u001b[0m\n\u001b[0;32m   5066\u001b[0m                 \u001b[1;32mreturn\u001b[0m \u001b[0mself\u001b[0m\u001b[1;33m[\u001b[0m\u001b[0mname\u001b[0m\u001b[1;33m]\u001b[0m\u001b[1;33m\u001b[0m\u001b[1;33m\u001b[0m\u001b[0m\n\u001b[1;32m-> 5067\u001b[1;33m             \u001b[1;32mreturn\u001b[0m \u001b[0mobject\u001b[0m\u001b[1;33m.\u001b[0m\u001b[0m__getattribute__\u001b[0m\u001b[1;33m(\u001b[0m\u001b[0mself\u001b[0m\u001b[1;33m,\u001b[0m \u001b[0mname\u001b[0m\u001b[1;33m)\u001b[0m\u001b[1;33m\u001b[0m\u001b[1;33m\u001b[0m\u001b[0m\n\u001b[0m\u001b[0;32m   5068\u001b[0m \u001b[1;33m\u001b[0m\u001b[0m\n\u001b[0;32m   5069\u001b[0m     \u001b[1;32mdef\u001b[0m \u001b[0m__setattr__\u001b[0m\u001b[1;33m(\u001b[0m\u001b[0mself\u001b[0m\u001b[1;33m,\u001b[0m \u001b[0mname\u001b[0m\u001b[1;33m,\u001b[0m \u001b[0mvalue\u001b[0m\u001b[1;33m)\u001b[0m\u001b[1;33m:\u001b[0m\u001b[1;33m\u001b[0m\u001b[1;33m\u001b[0m\u001b[0m\n",
      "\u001b[1;31mAttributeError\u001b[0m: 'DataFrame' object has no attribute '交易对方账号'"
     ]
    }
   ],
   "source": [
    "import pandas as pd\n",
    "df1 = pd.read_csv('E:\\\\4.2\\\\清洗后数据\\\\银行交易流水.csv',encoding='ISO-8859-1')\n",
    "#df2 = df1.loc[df1['查询卡号'].apply(lambda a: a='0712002409200017852')\n",
    "df1.loc[(df1.交易对方账号== '32700603101801003057'),'交易对方账号'] = '327006031018010030571'\n",
    "result.to_csv('E:\\\\4.2\\\\清洗后数据\\\\银行交易流水_copy1.csv')\n",
    "print('Done!')"
   ]
  },
  {
   "cell_type": "code",
   "execution_count": null,
   "metadata": {},
   "outputs": [],
   "source": []
  }
 ],
 "metadata": {
  "kernelspec": {
   "display_name": "Python 3",
   "language": "python",
   "name": "python3"
  },
  "language_info": {
   "codemirror_mode": {
    "name": "ipython",
    "version": 3
   },
   "file_extension": ".py",
   "mimetype": "text/x-python",
   "name": "python",
   "nbconvert_exporter": "python",
   "pygments_lexer": "ipython3",
   "version": "3.7.6"
  }
 },
 "nbformat": 4,
 "nbformat_minor": 2
}
