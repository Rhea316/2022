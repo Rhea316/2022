{
 "cells": [
  {
   "cell_type": "code",
   "execution_count": 3,
   "id": "00d6ff62",
   "metadata": {},
   "outputs": [
    {
     "name": "stdout",
     "output_type": "stream",
     "text": [
      "6\n",
      "D:\\对公基本dat汇总\\P20210257_JS_FXQ_CORP_BASE_IMG_20210407_0001.dat\n",
      "D:\\对公基本dat汇总\\P20210257_JS_FXQ_CORP_BASE_IMG_20210410_0001.dat\n",
      "D:\\对公基本dat汇总\\P20210257_JS_FXQ_CORP_BASE_IMG_20210425_0001.dat\n",
      "D:\\对公基本dat汇总\\P20210257_JS_FXQ_CORP_OPN_ACCT_20210428_0001.dat\n",
      "D:\\对公基本dat汇总\\P20210257_JS_FXQ_CORP_BASE_IMG_20210504_0001.dat\n",
      "D:\\对公基本dat汇总\\P20210257_JS_FXQ_CORP_BASE_IMG_20210428_0001.dat\n",
      "P20210257_JS_FXQ_CORP_BASE_IMG_20210407_0001对公基本Done！\n",
      "P20210257_JS_FXQ_CORP_BASE_IMG_20210410_0001对公基本Done！\n",
      "P20210257_JS_FXQ_CORP_BASE_IMG_20210425_0001对公基本Done！\n",
      "P20210257_JS_FXQ_CORP_OPN_ACCT_20210428_0001对公基本Done！\n",
      "P20210257_JS_FXQ_CORP_BASE_IMG_20210504_0001对公基本Done！\n",
      "P20210257_JS_FXQ_CORP_BASE_IMG_20210428_0001对公基本Done！\n"
     ]
    }
   ],
   "source": [
    "\n",
    "\n",
    "import pandas as pd\n",
    "input_path = 'D:\\\\对公基本dat汇总\\\\'\n",
    "\n",
    "import os\n",
    "str1 = ''\n",
    "file_list = []\n",
    "os.chdir(input_path)\n",
    "for path_name, dir, files_name in os.walk(os.getcwd()):\n",
    "    for file in files_name:\n",
    "        if '$' not in file:\n",
    "            file_list.append(os.path.join(path_name, file))\n",
    "print(len(file_list))\n",
    "print('\\n'.join(file_list))\n",
    "\n",
    "\n",
    "output_path = 'D:\\\\对公基本数据清洗\\\\'\n",
    "\n",
    "for path_name, dir, files_name in os.walk(os.getcwd()):\n",
    "    for file in files_name:\n",
    "        with open(os.path.join(path_name, file), encoding = 'utf-8') as f:\n",
    "            lines = f.readlines()\n",
    "\n",
    "        df = pd.DataFrame(lines)\n",
    "        df_对公基本 = df[0].str.split('\\|\\@\\|',expand = True).iloc[:,:-1]\n",
    "        if df_对公基本.shape[1]==45:\n",
    "            df_对公基本.columns = ['客户编号','类罪','反洗钱报告编号','场景类型','客户名称','所属机构','四部委规模','客户所属行业','组织机构代码','营业执照号码','注册资本币种','注册资本','组织实收资本金额','信贷客户标识','联系电话','注册地址','经营地址','办公地址','对公客户类型','员工人数','经营状态代码','组织成立日期','主营业务描述','机构经营范围说明','企业网银签约标识','企业手机银行签约标志','企业网银高级版签约标志','企业手机银行高级版签约标志','企业网银简版签约标志','企业手机银行简版签约标志','法定代表人证件类型','法定代表人证件号码','法定代表人','授权代表人证件类型','授权代表人证件号码','授权代表人','业务联系人证件类型','业务联系人证件号码','业务联系人','实际控制人证件类型','实际控制人证件号码','实际控制人','受益所有人证件类型','受益所有人证件号码','受益所有人']\n",
    "        elif df_对公基本.shape[1]==47:\n",
    "            df_对公基本.columns = ['客户编号','类罪','反洗钱报告编号','场景类型','客户名称','所属机构','四部委规模','客户所属行业','组织机构代码','营业执照号码','注册资本币种','注册资本','组织实收资本金额','信贷客户标识','联系电话','注册地址','经营地址','办公地址','对公客户类型','员工人数','经营状态代码','组织成立日期','主营业务描述','机构经营范围说明','企业网银签约标识','企业手机银行签约标志','企业网银高级版签约标志','企业手机银行高级版签约标志','企业网银简版签约标志','企业手机银行简版签约标志','法定代表人证件类型','法定代表人证件号码','法定代表人','授权代表人证件类型','授权代表人证件号码','授权代表人','业务联系人证件类型','业务联系人证件号码','业务联系人','实际控制人证件类型','实际控制人证件号码','实际控制人','受益所有人证件类型','受益所有人证件号码','受益所有人','风险等级','商户标志']\n",
    "        df_对公基本.to_csv(output_path + file.split('.')[0]+'.csv', encoding = 'utf-8',index = None)\n",
    "        print(str(file.split('.')[0])+'对公基本Done！')"
   ]
  },
  {
   "cell_type": "code",
   "execution_count": 4,
   "id": "693c9e4d",
   "metadata": {},
   "outputs": [
    {
     "name": "stdout",
     "output_type": "stream",
     "text": [
      "11\n",
      "D:\\3号令dat汇总\\P20210257_JS_FXQ_AML_SSPCS_RPT_20210518_0001.dat\n",
      "D:\\3号令dat汇总\\P20210257_JS_FXQ_AML_SSPCS_RPT_20210622_0001.dat\n",
      "D:\\3号令dat汇总\\P20210257_JS_FXQ_AML_SSPCS_RPT_20210624_0001.dat\n",
      "D:\\3号令dat汇总\\P20210257_JS_FXQ_AML_SSPCS_RPT_20210627_0001.dat\n",
      "D:\\3号令dat汇总\\P20210257_JS_FXQ_AML_SSPCS_RPT_20210628_0001.dat\n",
      "D:\\3号令dat汇总\\P20210257_JS_FXQ_AML_SSPCS_RPT_20210708_0001.dat\n",
      "D:\\3号令dat汇总\\P20210257_JS_FXQ_AML_SSPCS_RPT_20210407_0001.dat\n",
      "D:\\3号令dat汇总\\P20210257_JS_FXQ_AML_SSPCS_RPT_20210410_0001.dat\n",
      "D:\\3号令dat汇总\\P20210257_JS_FXQ_AML_SSPCS_RPT_20210425_0001.dat\n",
      "D:\\3号令dat汇总\\P20210257_JS_FXQ_AML_SSPCS_RPT_20210428_0001.dat\n",
      "D:\\3号令dat汇总\\P20210257_JS_FXQ_AML_SSPCS_RPT_20210504_0001.dat\n",
      "P20210257_JS_FXQ_AML_SSPCS_RPT_20210518_00013号令Done！\n",
      "P20210257_JS_FXQ_AML_SSPCS_RPT_20210622_00013号令Done！\n",
      "P20210257_JS_FXQ_AML_SSPCS_RPT_20210624_00013号令Done！\n",
      "P20210257_JS_FXQ_AML_SSPCS_RPT_20210627_00013号令Done！\n",
      "P20210257_JS_FXQ_AML_SSPCS_RPT_20210628_00013号令Done！\n",
      "P20210257_JS_FXQ_AML_SSPCS_RPT_20210708_00013号令Done！\n",
      "P20210257_JS_FXQ_AML_SSPCS_RPT_20210407_00013号令Done！\n",
      "P20210257_JS_FXQ_AML_SSPCS_RPT_20210410_00013号令Done！\n",
      "P20210257_JS_FXQ_AML_SSPCS_RPT_20210425_00013号令Done！\n",
      "P20210257_JS_FXQ_AML_SSPCS_RPT_20210428_00013号令Done！\n",
      "P20210257_JS_FXQ_AML_SSPCS_RPT_20210504_00013号令Done！\n"
     ]
    }
   ],
   "source": [
    "\n",
    "    \n",
    "    \n",
    "import pandas as pd\n",
    "input_path = 'D:\\\\3号令dat汇总\\\\'\n",
    "\n",
    "import os\n",
    "str1 = ''\n",
    "file_list = []\n",
    "os.chdir(input_path)\n",
    "for path_name, dir, files_name in os.walk(os.getcwd()):\n",
    "    for file in files_name:\n",
    "        if '$' not in file:\n",
    "            file_list.append(os.path.join(path_name, file))\n",
    "print(len(file_list))\n",
    "print('\\n'.join(file_list))\n",
    "\n",
    "\n",
    "output_path = 'D:\\\\3号令数据清洗\\\\'\n",
    "\n",
    "for path_name, dir, files_name in os.walk(os.getcwd()):\n",
    "    for file in files_name:\n",
    "        with open(os.path.join(path_name, file), encoding = 'utf-8') as f:\n",
    "            lines = f.readlines()\n",
    "\n",
    "        df = pd.DataFrame(lines)\n",
    "        df_3号令 = df[0].str.split('\\|\\@\\|',expand = True).iloc[:,:-1]\n",
    "        df_3号令.columns = ['客户编号','反洗钱报告编号','反洗钱可疑交易笔数','金融机构网点名称','金融机构网点所在地区行政区划代码','反洗钱报告对公对私代码','可疑交易特征描述','反洗钱业务规则名称','反洗钱报告最大交易日期','反洗钱报告最小交易日期','反洗钱报告涉及人民币交易金额','反洗钱报告涉及人民币交易笔数','反洗钱传统渠道人民币交易金额','反洗钱电子银行渠道人民币交易金额','反洗钱新兴电子渠道人民币交易金额','反洗钱其他渠道人民币交易金额','反洗钱传统渠道交易笔数','反洗钱电子银行渠道交易笔数','反洗钱新兴电子渠道交易笔数','反洗钱其他渠道交易笔数','可疑交易措施描述','可疑交易报告报送方向代码','反洗钱可疑行为描述','#报告报送状态代码','报送日期','可疑交易报送标志','#批量导入日期','反洗钱交易主体账户个数','反洗钱中心机构编号','反洗钱中心机构中文名称','#备注二(洗钱类型)','报送次数','接续报告参考标志(0-否 1-是)','非可疑行为描述','可疑交易报告疑点分析说明','可疑交易报告疑点分析及排除理由','反洗钱可疑行为描述2','可疑交易报告疑点分析说明2','风险等级']\n",
    "        df_3号令.to_csv(output_path + file.split('.')[0]+'.csv', encoding = 'utf-8',index = None)\n",
    "        print(str(file.split('.')[0])+'3号令Done！')\n"
   ]
  },
  {
   "cell_type": "code",
   "execution_count": null,
   "id": "5defcbcd",
   "metadata": {},
   "outputs": [],
   "source": []
  }
 ],
 "metadata": {
  "kernelspec": {
   "display_name": "Python 3",
   "language": "python",
   "name": "python3"
  },
  "language_info": {
   "codemirror_mode": {
    "name": "ipython",
    "version": 3
   },
   "file_extension": ".py",
   "mimetype": "text/x-python",
   "name": "python",
   "nbconvert_exporter": "python",
   "pygments_lexer": "ipython3",
   "version": "3.8.8"
  }
 },
 "nbformat": 4,
 "nbformat_minor": 5
}
