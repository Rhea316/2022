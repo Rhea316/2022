{
 "cells": [
  {
   "cell_type": "code",
   "execution_count": 1,
   "metadata": {},
   "outputs": [
    {
     "name": "stdout",
     "output_type": "stream",
     "text": [
      "流水Done！\n",
      "3号令Done！\n",
      "对私基本Done！\n",
      "对公基本Done！\n",
      "对私开户Done！\n",
      "对公开户Done！\n"
     ]
    }
   ],
   "source": [
    "    \n",
    "import pandas as pd\n",
    "input_path = 'F:\\\\KINGSTON\\\\金融0629\\\\P20210257_JS_FXQ_0624场景一_v0627(已获取名单)\\\\'\n",
    "output_path = 'C:\\\\Users\\\\zqy\\\\Desktop\\\\场景一数据清洗\\\\csv\\\\'\n",
    "\n",
    "with open(input_path+'P20210257_JS_FXQ_TRAN_20210627_0001.dat', encoding = 'utf-8') as f:\n",
    "    lines = f.readlines()\n",
    "\n",
    "df = pd.DataFrame(lines)\n",
    "df_流水 = df[0].str.split('\\|\\@\\|',expand = True).iloc[:,:-1]\n",
    "df_流水.columns = ['类罪类型','反洗钱报告编号','场景类型','交易ID','客户编号','交易日期','明细来源','业务种类','业务条线','报送业务条线','明细序号','定活存标志','账卡标志','客户账号','客户名称','对公对私标志','客户年龄','国际卡卡币种','币种代码','存款种类','可售产品编号','资金用途代码','客户类型代码','交易时间','交易金额','折人民币金额','折美元金额','借贷标志','收付标志','交易种类','交易方式','汇款种类','交易渠道种类','交易流水号','全局事件跟踪号','交易柜员号','交易代码','交易机构','交易机构名称','交易发生地','交易所在国家地区代码','交易方向','凭证号码','凭证种类','摘要代码','摘要描述','账户性质','账户类型','资金用途','开户机构','开户机构名称','开户机构行政区划','反洗钱机构','反洗钱机构名称','开户日期','销户日期','上次明细交易日','产品种类','交易对手系统账号','交易对手账号修饰符','交易对手账户类型','交易对手账户性质','交易对手对公对私标志','交易对手客户账号','交易对手客户编号','交易对手客户名称','交易对手本外行标识','交易对手证件号码','交易对手证件类型','交易对手证件类型说明','交易对手商户编号','交易对手商户种类','交易对手开户机构','交易对手开户机构行政区划','交易对手定活存标志','交易对手金融机构代码','交易对手金融机构名称','交易对手金融机构行政区划','交易对手金融机构代码网点类型','交易对手国籍地区','终端信息','大额豁免标志','老可疑豁免标志','新可疑豁免标志','代理人姓名','代理人证件类型','代理人证件类型说明','代理人证件号码','代理人电话','代理人国籍地区','是否被代办','是否跨境交易','结算类型现金转账消费','是否跨行交易','是否异地交易','补录机构','账户余额','备注1','备注2']\n",
    "df_流水.to_csv(output_path +'流水.csv', encoding = 'utf-8',index = None)\n",
    "print('流水Done！')\n",
    "\n",
    "with open(input_path+'P20210257_JS_FXQ_AML_SSPCS_RPT_20210627_0001.dat', encoding = 'utf-8') as f:\n",
    "    lines = f.readlines()\n",
    "\n",
    "df = pd.DataFrame(lines)\n",
    "df_3号令 = df[0].str.split('\\|\\@\\|',expand = True).iloc[:,:-1]\n",
    "df_3号令.columns = ['客户编号','反洗钱报告编号','反洗钱可疑交易笔数','金融机构网点名称','金融机构网点所在地区行政区划代码','反洗钱报告对公对私代码','可疑交易特征描述','反洗钱业务规则名称','反洗钱报告最大交易日期','反洗钱报告最小交易日期','反洗钱报告涉及人民币交易金额','反洗钱报告涉及人民币交易笔数','反洗钱传统渠道人民币交易金额','反洗钱电子银行渠道人民币交易金额','反洗钱新兴电子渠道人民币交易金额','反洗钱其他渠道人民币交易金额','反洗钱传统渠道交易笔数','反洗钱电子银行渠道交易笔数','反洗钱新兴电子渠道交易笔数','反洗钱其他渠道交易笔数','可疑交易措施描述','可疑交易报告报送方向代码','反洗钱可疑行为描述','#报告报送状态代码','报送日期','可疑交易报送标志','#批量导入日期','反洗钱交易主体账户个数','反洗钱中心机构编号','反洗钱中心机构中文名称','#备注二(洗钱类型)','报送次数','接续报告参考标志(0-否 1-是)','非可疑行为描述','可疑交易报告疑点分析说明','可疑交易报告疑点分析及排除理由','反洗钱可疑行为描述2','可疑交易报告疑点分析说明2','风险等级']\n",
    "df_3号令.to_csv(output_path +'3号令.csv', encoding = 'utf-8',index = None)\n",
    "print('3号令Done！')\n",
    "\n",
    "with open(input_path+'P20210257_JS_FXQ_IDV_BASE_IMG_20210627_0001.dat', encoding = 'utf-8') as f:\n",
    "    lines = f.readlines()\n",
    "    \n",
    "df = pd.DataFrame(lines)\n",
    "df_对私基本 = df[0].str.split('\\|\\@\\|',expand = True).iloc[:,:-1]\n",
    "df_对私基本.columns = ['客户编号','类罪','反洗钱报告编号','场景类型','客户姓名','证件类型','证件号码','性别','出生日期','年龄','民族','职业','职务','最佳联系电话','主地址','工作地址','国家地区代码','单位名称','个人住房贷款客户标志','非保本理财客户标志','保本理财客户标志','电话银行签约标志','短信金融签约标志','网上银行签约标志','手机银行签约标志','客户月均AUM值','单位客户编号','公司名称','四部委规模','客户所属行业','组织机构代码','营业执照号码','注册资本币种','注册资本','注册地址','经营地址','办公地址','员工人数','组织实收资本金额','经营状态代码','组织成立日期','机构经营范围说明','公司联系电话','法定代表人证件类型','法定代表人证件号码','法定代表人','授权代表人证件类型','授权代表人证件号码','授权代表人','业务联系人证件类型','业务联系人证件号码','业务联系人','实际控制人证件类型','实际控制人证件号码','实际控制人','受益所有人证件类型','受益所有人证件号码','受益所有人','风险等级','商户标志']\n",
    "df_对私基本.to_csv(output_path +'对私基本.csv', encoding = 'utf-8',index = None)\n",
    "print('对私基本Done！')\n",
    "\n",
    "with open(input_path+'P20210257_JS_FXQ_CORP_BASE_IMG_20210627_0001.dat', encoding = 'utf-8') as f:\n",
    "    lines = f.readlines()\n",
    "    \n",
    "df = pd.DataFrame(lines)\n",
    "df_对公基本 = df[0].str.split('\\|\\@\\|',expand = True).iloc[:,:-1]\n",
    "df_对公基本.columns = ['客户编号','类罪','反洗钱报告编号','场景类型','客户名称','所属机构','四部委规模','客户所属行业','组织机构代码','营业执照号码','注册资本币种','注册资本','组织实收资本金额','信贷客户标识','联系电话','注册地址','经营地址','办公地址','对公客户类型','员工人数','经营状态代码','组织成立日期','主营业务描述','机构经营范围说明','企业网银签约标识','企业手机银行签约标志','企业网银高级版签约标志','企业手机银行高级版签约标志','企业网银简版签约标志','企业手机银行简版签约标志','法定代表人证件类型','法定代表人证件号码','法定代表人','授权代表人证件类型','授权代表人证件号码','授权代表人','业务联系人证件类型','业务联系人证件号码','业务联系人','实际控制人证件类型','实际控制人证件号码','实际控制人','受益所有人证件类型','受益所有人证件号码','受益所有人','风险等级','商户标志']\n",
    "df_对公基本.to_csv(output_path +'对公基本.csv', encoding = 'utf-8',index = None)\n",
    "print('对公基本Done！')\n",
    "\n",
    "with open(input_path+'P20210257_JS_FXQ_IDV_OPN_ACCT_20210627_0001.dat', encoding = 'utf-8') as f:\n",
    "    lines = f.readlines()\n",
    "    \n",
    "df = pd.DataFrame(lines)\n",
    "df_对私开户 = df[0].str.split('\\|\\@\\|',expand = True).iloc[:,:-1]\n",
    "df_对私开户.columns = ['客户编号','类罪','反洗钱报告编号','场景类型','对公对私标志','账户开户名称','开户证件号码','客户账号','开户日期','存款账户余额','可用余额','币种代码','钞汇代码','开户机构编号','开户机构名称','开户二级分行名称','账户状态代码描述','销户日期','销户机构编号','联系电话','通讯地址','邮政编码','电子邮件地址','营业执照编号','国税登记号','地税登记号','企业法人姓名','企业法人证件类型','企业法人证件号码','授权代理人名称','授权代理人证件类型代码','授权代理人证件号码','最后交易营业日期','账户收付控制状态代码']\n",
    "df_对私开户.to_csv(output_path +'对私开户.csv', encoding = 'utf-8',index = None)\n",
    "print('对私开户Done！')\n",
    "\n",
    "with open(input_path+'P20210257_JS_FXQ_CORP_OPN_ACCT_20210627_0001.dat', encoding = 'utf-8') as f:\n",
    "    lines = f.readlines()\n",
    "    \n",
    "df = pd.DataFrame(lines)\n",
    "df_对公开户 = df[0].str.split('\\|\\@\\|',expand = True).iloc[:,:-1]\n",
    "df_对公开户.columns = ['客户编号','类罪','反洗钱报告编号','场景类型','对公对私标志','账户开户名称','开户证件号码','客户账号','开户日期','存款账户余额','可用余额','币种代码','钞汇代码','开户机构编号','开户机构名称','开户二级分行名称','账户状态代码描述','销户日期','销户机构编号','联系电话','通讯地址','邮政编码','电子邮件地址','营业执照编号','国税登记号','地税登记号','企业法人姓名','企业法人证件类型','企业法人证件号码','授权代理人名称','授权代理人证件类型代码','授权代理人证件号码','最后交易营业日期','账户收付控制状态代码']\n",
    "df_对公开户.to_csv(output_path +'对公开户.csv', encoding = 'utf-8',index = None)\n",
    "print('对公开户Done！')"
   ]
  },
  {
   "cell_type": "code",
   "execution_count": 4,
   "metadata": {},
   "outputs": [
    {
     "name": "stdout",
     "output_type": "stream",
     "text": [
      "101\n",
      "0 1 2 3 4 5 6 7 8 9 10 11 12 13 14 15 16 17 18 19 20 21 22 23 24 25 26 27 28 29 30 31 32 33 34 35 36 37 38 39 40 41 42 43 44 45 46 47 48 49 50 51 52 53 54 55 56 57 58 59 60 61 62 63 64 65 66 67 68 69 70 71 72 73 74 75 76 77 78 79 80 81 82 83 84 85 86 87 88 89 90 91 92 93 94 95 96 97 98 99 100 Done!\n"
     ]
    }
   ],
   "source": [
    "output_path = 'C:\\\\Users\\\\zqy\\\\Desktop\\\\场景一数据清洗\\\\拆分\\\\'\n",
    "df_分编号 = df_流水.groupby(['客户编号'],as_index = False).size()\n",
    "print(len(df_分编号))\n",
    "for i in df_分编号.index:\n",
    "    df_every = df_流水.groupby(['客户编号'],as_index = False).get_group(df_分编号['客户编号'][i])\n",
    "    df_every.to_excel(output_path +str(df_every['客户名称'].iloc[0])+str(df_every['客户编号'].iloc[0])+'.xlsx',index = None)\n",
    "    print(i,end = ' ')\n",
    "print('Done!')\n"
   ]
  },
  {
   "cell_type": "code",
   "execution_count": 1,
   "metadata": {},
   "outputs": [
    {
     "ename": "ValueError",
     "evalue": "Length mismatch: Expected axis has 39 elements, new values have 33 elements",
     "output_type": "error",
     "traceback": [
      "\u001b[1;31m---------------------------------------------------------------------------\u001b[0m",
      "\u001b[1;31mValueError\u001b[0m                                Traceback (most recent call last)",
      "\u001b[1;32m<ipython-input-1-4da452729ab4>\u001b[0m in \u001b[0;36m<module>\u001b[1;34m\u001b[0m\n\u001b[0;32m      8\u001b[0m \u001b[0mdf\u001b[0m \u001b[1;33m=\u001b[0m \u001b[0mpd\u001b[0m\u001b[1;33m.\u001b[0m\u001b[0mDataFrame\u001b[0m\u001b[1;33m(\u001b[0m\u001b[0mlines\u001b[0m\u001b[1;33m)\u001b[0m\u001b[1;33m\u001b[0m\u001b[1;33m\u001b[0m\u001b[0m\n\u001b[0;32m      9\u001b[0m \u001b[0mdf_对公开户\u001b[0m \u001b[1;33m=\u001b[0m \u001b[0mdf\u001b[0m\u001b[1;33m[\u001b[0m\u001b[1;36m0\u001b[0m\u001b[1;33m]\u001b[0m\u001b[1;33m.\u001b[0m\u001b[0mstr\u001b[0m\u001b[1;33m.\u001b[0m\u001b[0msplit\u001b[0m\u001b[1;33m(\u001b[0m\u001b[1;34m'\\|\\@\\|'\u001b[0m\u001b[1;33m,\u001b[0m\u001b[0mexpand\u001b[0m \u001b[1;33m=\u001b[0m \u001b[1;32mTrue\u001b[0m\u001b[1;33m)\u001b[0m\u001b[1;33m.\u001b[0m\u001b[0miloc\u001b[0m\u001b[1;33m[\u001b[0m\u001b[1;33m:\u001b[0m\u001b[1;33m,\u001b[0m\u001b[1;33m:\u001b[0m\u001b[1;33m-\u001b[0m\u001b[1;36m1\u001b[0m\u001b[1;33m]\u001b[0m\u001b[1;33m\u001b[0m\u001b[1;33m\u001b[0m\u001b[0m\n\u001b[1;32m---> 10\u001b[1;33m \u001b[0mdf_对公开户\u001b[0m\u001b[1;33m.\u001b[0m\u001b[0mcolumns\u001b[0m \u001b[1;33m=\u001b[0m \u001b[1;33m[\u001b[0m\u001b[1;34m'可疑交易特征描述'\u001b[0m\u001b[1;33m,\u001b[0m\u001b[1;34m'反洗钱业务规则名称'\u001b[0m\u001b[1;33m,\u001b[0m\u001b[1;34m'反洗钱报告最大交易日期'\u001b[0m\u001b[1;33m,\u001b[0m\u001b[1;34m'反洗钱报告最小交易日期'\u001b[0m\u001b[1;33m,\u001b[0m\u001b[1;34m'反洗钱报告涉及人民币交易金额'\u001b[0m\u001b[1;33m,\u001b[0m\u001b[1;34m'反洗钱报告涉及人民币交易笔数'\u001b[0m\u001b[1;33m,\u001b[0m\u001b[1;34m'反洗钱传统渠道人民币交易金额'\u001b[0m\u001b[1;33m,\u001b[0m\u001b[1;34m'反洗钱电子银行渠道人民币交易金额'\u001b[0m\u001b[1;33m,\u001b[0m\u001b[1;34m'反洗钱新兴电子渠道人民币交易金额'\u001b[0m\u001b[1;33m,\u001b[0m\u001b[1;34m'反洗钱其他渠道人民币交易金额'\u001b[0m\u001b[1;33m,\u001b[0m\u001b[1;34m'反洗钱传统渠道交易笔数'\u001b[0m\u001b[1;33m,\u001b[0m\u001b[1;34m'反洗钱电子银行渠道交易笔数'\u001b[0m\u001b[1;33m,\u001b[0m\u001b[1;34m'反洗钱新兴电子渠道交易笔数'\u001b[0m\u001b[1;33m,\u001b[0m\u001b[1;34m'反洗钱其他渠道交易笔数'\u001b[0m\u001b[1;33m,\u001b[0m\u001b[1;34m'可疑交易措施描述'\u001b[0m\u001b[1;33m,\u001b[0m\u001b[1;34m'可疑交易报告报送方向代码'\u001b[0m\u001b[1;33m,\u001b[0m\u001b[1;34m'反洗钱可疑行为描述'\u001b[0m\u001b[1;33m,\u001b[0m\u001b[1;34m'#报告报送状态代码'\u001b[0m\u001b[1;33m,\u001b[0m\u001b[1;34m'报送日期'\u001b[0m\u001b[1;33m,\u001b[0m\u001b[1;34m'可疑交易报送标志'\u001b[0m\u001b[1;33m,\u001b[0m\u001b[1;34m'#批量导入日期'\u001b[0m\u001b[1;33m,\u001b[0m\u001b[1;34m'反洗钱交易主体账户个数'\u001b[0m\u001b[1;33m,\u001b[0m\u001b[1;34m'反洗钱中心机构编号'\u001b[0m\u001b[1;33m,\u001b[0m\u001b[1;34m'反洗钱中心机构中文名称'\u001b[0m\u001b[1;33m,\u001b[0m\u001b[1;34m'#备注二(洗钱类型)'\u001b[0m\u001b[1;33m,\u001b[0m\u001b[1;34m'报送次数'\u001b[0m\u001b[1;33m,\u001b[0m\u001b[1;34m'接续报告参考标志(0-否 1-是)'\u001b[0m\u001b[1;33m,\u001b[0m\u001b[1;34m'非可疑行为描述'\u001b[0m\u001b[1;33m,\u001b[0m\u001b[1;34m'可疑交易报告疑点分析说明'\u001b[0m\u001b[1;33m,\u001b[0m\u001b[1;34m'可疑交易报告疑点分析及排除理由'\u001b[0m\u001b[1;33m,\u001b[0m\u001b[1;34m'反洗钱可疑行为描述2'\u001b[0m\u001b[1;33m,\u001b[0m\u001b[1;34m'可疑交易报告疑点分析说明2'\u001b[0m\u001b[1;33m,\u001b[0m\u001b[1;34m'风险等级'\u001b[0m\u001b[1;33m]\u001b[0m\u001b[1;33m\u001b[0m\u001b[1;33m\u001b[0m\u001b[0m\n\u001b[0m\u001b[0;32m     11\u001b[0m \u001b[0mdf_对公开户\u001b[0m\u001b[1;33m.\u001b[0m\u001b[0mto_csv\u001b[0m\u001b[1;33m(\u001b[0m\u001b[0moutput_path\u001b[0m \u001b[1;33m+\u001b[0m\u001b[1;34m'3号令.csv'\u001b[0m\u001b[1;33m,\u001b[0m \u001b[0mencoding\u001b[0m \u001b[1;33m=\u001b[0m \u001b[1;34m'utf-8'\u001b[0m\u001b[1;33m,\u001b[0m\u001b[0mindex\u001b[0m \u001b[1;33m=\u001b[0m \u001b[1;32mNone\u001b[0m\u001b[1;33m)\u001b[0m\u001b[1;33m\u001b[0m\u001b[1;33m\u001b[0m\u001b[0m\n\u001b[0;32m     12\u001b[0m \u001b[0mprint\u001b[0m\u001b[1;33m(\u001b[0m\u001b[1;34m'3号令Done！'\u001b[0m\u001b[1;33m)\u001b[0m\u001b[1;33m\u001b[0m\u001b[1;33m\u001b[0m\u001b[0m\n",
      "\u001b[1;32m~\\anaconda3\\lib\\site-packages\\pandas\\core\\generic.py\u001b[0m in \u001b[0;36m__setattr__\u001b[1;34m(self, name, value)\u001b[0m\n\u001b[0;32m   5476\u001b[0m         \u001b[1;32mtry\u001b[0m\u001b[1;33m:\u001b[0m\u001b[1;33m\u001b[0m\u001b[1;33m\u001b[0m\u001b[0m\n\u001b[0;32m   5477\u001b[0m             \u001b[0mobject\u001b[0m\u001b[1;33m.\u001b[0m\u001b[0m__getattribute__\u001b[0m\u001b[1;33m(\u001b[0m\u001b[0mself\u001b[0m\u001b[1;33m,\u001b[0m \u001b[0mname\u001b[0m\u001b[1;33m)\u001b[0m\u001b[1;33m\u001b[0m\u001b[1;33m\u001b[0m\u001b[0m\n\u001b[1;32m-> 5478\u001b[1;33m             \u001b[1;32mreturn\u001b[0m \u001b[0mobject\u001b[0m\u001b[1;33m.\u001b[0m\u001b[0m__setattr__\u001b[0m\u001b[1;33m(\u001b[0m\u001b[0mself\u001b[0m\u001b[1;33m,\u001b[0m \u001b[0mname\u001b[0m\u001b[1;33m,\u001b[0m \u001b[0mvalue\u001b[0m\u001b[1;33m)\u001b[0m\u001b[1;33m\u001b[0m\u001b[1;33m\u001b[0m\u001b[0m\n\u001b[0m\u001b[0;32m   5479\u001b[0m         \u001b[1;32mexcept\u001b[0m \u001b[0mAttributeError\u001b[0m\u001b[1;33m:\u001b[0m\u001b[1;33m\u001b[0m\u001b[1;33m\u001b[0m\u001b[0m\n\u001b[0;32m   5480\u001b[0m             \u001b[1;32mpass\u001b[0m\u001b[1;33m\u001b[0m\u001b[1;33m\u001b[0m\u001b[0m\n",
      "\u001b[1;32mpandas\\_libs\\properties.pyx\u001b[0m in \u001b[0;36mpandas._libs.properties.AxisProperty.__set__\u001b[1;34m()\u001b[0m\n",
      "\u001b[1;32m~\\anaconda3\\lib\\site-packages\\pandas\\core\\generic.py\u001b[0m in \u001b[0;36m_set_axis\u001b[1;34m(self, axis, labels)\u001b[0m\n\u001b[0;32m    668\u001b[0m     \u001b[1;32mdef\u001b[0m \u001b[0m_set_axis\u001b[0m\u001b[1;33m(\u001b[0m\u001b[0mself\u001b[0m\u001b[1;33m,\u001b[0m \u001b[0maxis\u001b[0m\u001b[1;33m:\u001b[0m \u001b[0mint\u001b[0m\u001b[1;33m,\u001b[0m \u001b[0mlabels\u001b[0m\u001b[1;33m:\u001b[0m \u001b[0mIndex\u001b[0m\u001b[1;33m)\u001b[0m \u001b[1;33m->\u001b[0m \u001b[1;32mNone\u001b[0m\u001b[1;33m:\u001b[0m\u001b[1;33m\u001b[0m\u001b[1;33m\u001b[0m\u001b[0m\n\u001b[0;32m    669\u001b[0m         \u001b[0mlabels\u001b[0m \u001b[1;33m=\u001b[0m \u001b[0mensure_index\u001b[0m\u001b[1;33m(\u001b[0m\u001b[0mlabels\u001b[0m\u001b[1;33m)\u001b[0m\u001b[1;33m\u001b[0m\u001b[1;33m\u001b[0m\u001b[0m\n\u001b[1;32m--> 670\u001b[1;33m         \u001b[0mself\u001b[0m\u001b[1;33m.\u001b[0m\u001b[0m_mgr\u001b[0m\u001b[1;33m.\u001b[0m\u001b[0mset_axis\u001b[0m\u001b[1;33m(\u001b[0m\u001b[0maxis\u001b[0m\u001b[1;33m,\u001b[0m \u001b[0mlabels\u001b[0m\u001b[1;33m)\u001b[0m\u001b[1;33m\u001b[0m\u001b[1;33m\u001b[0m\u001b[0m\n\u001b[0m\u001b[0;32m    671\u001b[0m         \u001b[0mself\u001b[0m\u001b[1;33m.\u001b[0m\u001b[0m_clear_item_cache\u001b[0m\u001b[1;33m(\u001b[0m\u001b[1;33m)\u001b[0m\u001b[1;33m\u001b[0m\u001b[1;33m\u001b[0m\u001b[0m\n\u001b[0;32m    672\u001b[0m \u001b[1;33m\u001b[0m\u001b[0m\n",
      "\u001b[1;32m~\\anaconda3\\lib\\site-packages\\pandas\\core\\internals\\managers.py\u001b[0m in \u001b[0;36mset_axis\u001b[1;34m(self, axis, new_labels)\u001b[0m\n\u001b[0;32m    218\u001b[0m \u001b[1;33m\u001b[0m\u001b[0m\n\u001b[0;32m    219\u001b[0m         \u001b[1;32mif\u001b[0m \u001b[0mnew_len\u001b[0m \u001b[1;33m!=\u001b[0m \u001b[0mold_len\u001b[0m\u001b[1;33m:\u001b[0m\u001b[1;33m\u001b[0m\u001b[1;33m\u001b[0m\u001b[0m\n\u001b[1;32m--> 220\u001b[1;33m             raise ValueError(\n\u001b[0m\u001b[0;32m    221\u001b[0m                 \u001b[1;34mf\"Length mismatch: Expected axis has {old_len} elements, new \"\u001b[0m\u001b[1;33m\u001b[0m\u001b[1;33m\u001b[0m\u001b[0m\n\u001b[0;32m    222\u001b[0m                 \u001b[1;34mf\"values have {new_len} elements\"\u001b[0m\u001b[1;33m\u001b[0m\u001b[1;33m\u001b[0m\u001b[0m\n",
      "\u001b[1;31mValueError\u001b[0m: Length mismatch: Expected axis has 39 elements, new values have 33 elements"
     ]
    }
   ],
   "source": [
    "    \n",
    "import pandas as pd\n",
    "input_path = 'F:\\\\KINGSTON\\\\金融0629\\\\P20210257_JS_FXQ_0624场景一_v0627(已获取名单)\\\\'\n",
    "output_path = 'C:\\\\Users\\\\zqy\\\\Desktop\\\\场景一数据清洗\\\\csv\\\\'\n",
    "\n",
    "with open(input_path+'P20210257_JS_FXQ_AML_SSPCS_RPT_20210627_0001.dat', encoding = 'utf-8') as f:\n",
    "    lines = f.readlines()\n",
    "    \n",
    "df = pd.DataFrame(lines)\n",
    "df_对公开户 = df[0].str.split('\\|\\@\\|',expand = True).iloc[:,:-1]\n",
    "df_对公开户.columns = ['可疑交易特征描述','反洗钱业务规则名称','反洗钱报告最大交易日期','反洗钱报告最小交易日期','反洗钱报告涉及人民币交易金额','反洗钱报告涉及人民币交易笔数','反洗钱传统渠道人民币交易金额','反洗钱电子银行渠道人民币交易金额','反洗钱新兴电子渠道人民币交易金额','反洗钱其他渠道人民币交易金额','反洗钱传统渠道交易笔数','反洗钱电子银行渠道交易笔数','反洗钱新兴电子渠道交易笔数','反洗钱其他渠道交易笔数','可疑交易措施描述','可疑交易报告报送方向代码','反洗钱可疑行为描述','#报告报送状态代码','报送日期','可疑交易报送标志','#批量导入日期','反洗钱交易主体账户个数','反洗钱中心机构编号','反洗钱中心机构中文名称','#备注二(洗钱类型)','报送次数','接续报告参考标志(0-否 1-是)','非可疑行为描述','可疑交易报告疑点分析说明','可疑交易报告疑点分析及排除理由','反洗钱可疑行为描述2','可疑交易报告疑点分析说明2','风险等级']\n",
    "df_对公开户.to_csv(output_path +'3号令.csv', encoding = 'utf-8',index = None)\n",
    "print('3号令Done！')"
   ]
  },
  {
   "cell_type": "code",
   "execution_count": 2,
   "metadata": {},
   "outputs": [
    {
     "name": "stdout",
     "output_type": "stream",
     "text": [
      "关联Done！\n"
     ]
    }
   ],
   "source": [
    "    \n",
    "import pandas as pd\n",
    "input_path = 'F:\\\\KINGSTON\\\\金融0629\\\\P20210257_JS_FXQ_0624场景一_v0627(已获取名单)\\\\'\n",
    "output_path = 'D:\\\\场景一数据清洗\\csv\\\\'\n",
    "\n",
    "with open(input_path+'P20210257_JS_FXQ_REL_20210627_0001.dat', encoding = 'utf-8') as f:\n",
    "    lines = f.readlines()\n",
    "\n",
    "df = pd.DataFrame(lines)\n",
    "df_关联 = df[0].str.split('\\|\\@\\|',expand = True).iloc[:,:-1]\n",
    "df_关联.columns = ['客户编号','类罪','反洗钱报告编号','场景','客户名称','关联类型','关系类型详细描述','对公对私标志','证件类型','证件号码','关联人名称','关联人客户编号']\n",
    "df_关联.to_csv(output_path +'关联.csv', encoding = 'utf-8',index = None)\n",
    "print('关联Done！')\n"
   ]
  },
  {
   "cell_type": "code",
   "execution_count": null,
   "metadata": {},
   "outputs": [],
   "source": []
  }
 ],
 "metadata": {
  "kernelspec": {
   "display_name": "Python 3",
   "language": "python",
   "name": "python3"
  },
  "language_info": {
   "codemirror_mode": {
    "name": "ipython",
    "version": 3
   },
   "file_extension": ".py",
   "mimetype": "text/x-python",
   "name": "python",
   "nbconvert_exporter": "python",
   "pygments_lexer": "ipython3",
   "version": "3.8.8"
  }
 },
 "nbformat": 4,
 "nbformat_minor": 4
}
