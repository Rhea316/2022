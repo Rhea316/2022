{
 "cells": [
  {
   "cell_type": "code",
   "execution_count": 2,
   "metadata": {
    "scrolled": true
   },
   "outputs": [
    {
     "name": "stdout",
     "output_type": "stream",
     "text": [
      "10\n",
      "F:\\KINGSTON\\金融历史训练数据\\反洗钱图谱历史训练数据0428-0430\\P20210257_JS_FXQ_ACCT_ACDN_20210428_0001.dat\n",
      "F:\\KINGSTON\\金融历史训练数据\\反洗钱图谱历史训练数据0428-0430\\P20210257_JS_FXQ_AML_SSPCS_RPT_20210428_0001.dat\n",
      "F:\\KINGSTON\\金融历史训练数据\\反洗钱图谱历史训练数据0428-0430\\P20210257_JS_FXQ_CORP_BASE_IMG_20210428_0001.dat\n",
      "F:\\KINGSTON\\金融历史训练数据\\反洗钱图谱历史训练数据0428-0430\\P20210257_JS_FXQ_CORP_OPN_ACCT_20210428_0001.dat\n",
      "F:\\KINGSTON\\金融历史训练数据\\反洗钱图谱历史训练数据0428-0430\\P20210257_JS_FXQ_COUNT_JDGMT_20210428_0001.dat\n",
      "F:\\KINGSTON\\金融历史训练数据\\反洗钱图谱历史训练数据0428-0430\\P20210257_JS_FXQ_IDV_BASE_IMG_20210428_0001.dat\n",
      "F:\\KINGSTON\\金融历史训练数据\\反洗钱图谱历史训练数据0428-0430\\P20210257_JS_FXQ_IDV_OPN_ACCT_20210428_0001.dat\n",
      "F:\\KINGSTON\\金融历史训练数据\\反洗钱图谱历史训练数据0428-0430\\P20210257_JS_FXQ_JDCL_FRZ_20210428_0001.dat\n",
      "F:\\KINGSTON\\金融历史训练数据\\反洗钱图谱历史训练数据0428-0430\\P20210257_JS_FXQ_REL_20210428_0001.dat\n",
      "F:\\KINGSTON\\金融历史训练数据\\反洗钱图谱历史训练数据0428-0430\\P20210257_JS_FXQ_TRAN_20210428_0001.dat\n",
      "3号令Done！\n",
      "对公基本Done！\n",
      "对公开户Done！\n",
      "对私基本Done！\n",
      "对私开户Done！\n",
      "关联Done！\n",
      "流水Done！\n",
      "169\n"
     ]
    }
   ],
   "source": [
    "input_path = 'F:\\\\KINGSTON\\\\金融历史训练数据\\\\反洗钱图谱历史训练数据0428-0430\\\\'\n",
    "output_path = 'K:\\\\0428场景二数据清洗\\\\'\n",
    "\n",
    "import os\n",
    "str1 = ''\n",
    "file_list = []\n",
    "os.chdir(input_path)\n",
    "for path_name, dir, files_name in os.walk(os.getcwd()):\n",
    "    for file in files_name:\n",
    "        if '$' not in file:\n",
    "            file_list.append(os.path.join(path_name, file))\n",
    "print(len(file_list))\n",
    "print('\\n'.join(file_list))\n",
    "\n",
    "if not os.path.exists(output_path):\n",
    "    os.mkdir(output_path)\n",
    "\n",
    "import pandas as pd\n",
    "df_流水汇总 = pd.DataFrame()\n",
    "for path_name, dir, files_name in os.walk(os.getcwd()):\n",
    "    for file in files_name:\n",
    "        if '_AML_SSPCS_RPT_' in file:\n",
    "            with open(os.path.join(path_name, file), encoding = 'utf-8') as f:\n",
    "                lines = f.readlines()\n",
    "            df = pd.DataFrame(lines)\n",
    "            df_3号令 = df[0].str.split('\\|\\@\\|',expand = True).iloc[:,:-1]\n",
    "            df_3号令.columns = ['客户编号','反洗钱报告编号','反洗钱可疑交易笔数','金融机构网点名称','金融机构网点所在地区行政区划代码','反洗钱报告对公对私代码','可疑交易特征描述','反洗钱业务规则名称','反洗钱报告最大交易日期','反洗钱报告最小交易日期','反洗钱报告涉及人民币交易金额','反洗钱报告涉及人民币交易笔数','反洗钱传统渠道人民币交易金额','反洗钱电子银行渠道人民币交易金额','反洗钱新兴电子渠道人民币交易金额','反洗钱其他渠道人民币交易金额','反洗钱传统渠道交易笔数','反洗钱电子银行渠道交易笔数','反洗钱新兴电子渠道交易笔数','反洗钱其他渠道交易笔数','可疑交易措施描述','可疑交易报告报送方向代码','反洗钱可疑行为描述','#报告报送状态代码','报送日期','可疑交易报送标志','#批量导入日期','反洗钱交易主体账户个数','反洗钱中心机构编号','反洗钱中心机构中文名称','#备注二(洗钱类型)','报送次数','接续报告参考标志(0-否 1-是)','非可疑行为描述','可疑交易报告疑点分析说明','可疑交易报告疑点分析及排除理由','反洗钱可疑行为描述2','可疑交易报告疑点分析说明2','风险等级']\n",
    "            df_3号令.to_csv(output_path + file.split('.')[0]+'.csv', encoding = 'utf-8',index = None)\n",
    "            print('3号令Done！')\n",
    "        elif '_IDV_BASE_IMG_' in file:\n",
    "            with open(os.path.join(path_name, file), encoding = 'utf-8') as f:\n",
    "                lines = f.readlines()\n",
    "            df = pd.DataFrame(lines)\n",
    "            df_对私基本 = df[0].str.split('\\|\\@\\|',expand = True).iloc[:,:-1]\n",
    "            df_对私基本.columns = ['客户编号','类罪','反洗钱报告编号','场景类型','客户姓名','证件类型','证件号码','性别','出生日期','年龄','民族','职业','职务','最佳联系电话','主地址','工作地址','国家地区代码','单位名称','个人住房贷款客户标志','非保本理财客户标志','保本理财客户标志','电话银行签约标志','短信金融签约标志','网上银行签约标志','手机银行签约标志','客户月均AUM值','单位客户编号','公司名称','四部委规模','客户所属行业','组织机构代码','营业执照号码','注册资本币种','注册资本','注册地址','经营地址','办公地址','员工人数','组织实收资本金额','经营状态代码','组织成立日期','机构经营范围说明','公司联系电话','法定代表人证件类型','法定代表人证件号码','法定代表人','授权代表人证件类型','授权代表人证件号码','授权代表人','业务联系人证件类型','业务联系人证件号码','业务联系人','实际控制人证件类型','实际控制人证件号码','实际控制人','受益所有人证件类型','受益所有人证件号码','受益所有人','风险等级','商户标志']\n",
    "            df_对私基本.to_csv(output_path + file.split('.')[0]+'.csv', encoding = 'utf-8',index = None)\n",
    "            print('对私基本Done！')\n",
    "        elif '_CORP_BASE_IMG_' in file:\n",
    "            with open(os.path.join(path_name, file), encoding = 'utf-8') as f:\n",
    "                lines = f.readlines()\n",
    "            df = pd.DataFrame(lines)\n",
    "            df_对公基本 = df[0].str.split('\\|\\@\\|',expand = True).iloc[:,:-1]\n",
    "            df_对公基本.columns = ['客户编号','类罪','反洗钱报告编号','场景类型','客户名称','所属机构','四部委规模','客户所属行业','组织机构代码','营业执照号码','注册资本币种','注册资本','组织实收资本金额','信贷客户标识','联系电话','注册地址','经营地址','办公地址','对公客户类型','员工人数','经营状态代码','组织成立日期','主营业务描述','机构经营范围说明','企业网银签约标识','企业手机银行签约标志','企业网银高级版签约标志','企业手机银行高级版签约标志','企业网银简版签约标志','企业手机银行简版签约标志','法定代表人证件类型','法定代表人证件号码','法定代表人','授权代表人证件类型','授权代表人证件号码','授权代表人','业务联系人证件类型','业务联系人证件号码','业务联系人','实际控制人证件类型','实际控制人证件号码','实际控制人','受益所有人证件类型','受益所有人证件号码','受益所有人','风险等级','商户标志']\n",
    "            df_对公基本.to_csv(output_path + file.split('.')[0]+'.csv', encoding = 'utf-8',index = None)\n",
    "            print('对公基本Done！')\n",
    "        elif '_IDV_OPN_ACCT_' in file:\n",
    "            with open(os.path.join(path_name, file), encoding = 'utf-8') as f:\n",
    "                lines = f.readlines()\n",
    "            df = pd.DataFrame(lines)\n",
    "            df_对私开户 = df[0].str.split('\\|\\@\\|',expand = True).iloc[:,:-1]\n",
    "            df_对私开户.columns = ['客户编号','类罪','反洗钱报告编号','场景类型','对公对私标志','账户开户名称','开户证件号码','客户账号','开户日期','存款账户余额','可用余额','币种代码','钞汇代码','开户机构编号','开户机构名称','开户二级分行名称','账户状态代码描述','销户日期','销户机构编号','联系电话','通讯地址','邮政编码','电子邮件地址','营业执照编号','国税登记号','地税登记号','企业法人姓名','企业法人证件类型','企业法人证件号码','授权代理人名称','授权代理人证件类型代码','授权代理人证件号码','最后交易营业日期','账户收付控制状态代码']\n",
    "            df_对私开户.to_csv(output_path + file.split('.')[0]+'.csv', encoding = 'utf-8',index = None)\n",
    "            print('对私开户Done！')\n",
    "        elif '_CORP_OPN_ACCT_' in file:\n",
    "            with open(os.path.join(path_name, file), encoding = 'utf-8') as f:\n",
    "                lines = f.readlines()\n",
    "            df = pd.DataFrame(lines)\n",
    "            df_对公开户 = df[0].str.split('\\|\\@\\|',expand = True).iloc[:,:-1]\n",
    "            df_对公开户.columns = ['客户编号','类罪','反洗钱报告编号','场景类型','对公对私标志','账户开户名称','开户证件号码','客户账号','开户日期','存款账户余额','可用余额','币种代码','钞汇代码','开户机构编号','开户机构名称','开户二级分行名称','账户状态代码描述','销户日期','销户机构编号','联系电话','通讯地址','邮政编码','电子邮件地址','营业执照编号','国税登记号','地税登记号','企业法人姓名','企业法人证件类型','企业法人证件号码','授权代理人名称','授权代理人证件类型代码','授权代理人证件号码','最后交易营业日期','账户收付控制状态代码']\n",
    "            df_对公开户.to_csv(output_path + file.split('.')[0]+'.csv', encoding = 'utf-8',index = None)\n",
    "            print('对公开户Done！')\n",
    "        elif '_REL_' in file:\n",
    "            with open(os.path.join(path_name, file), encoding = 'utf-8') as f:\n",
    "                lines = f.readlines()\n",
    "            df = pd.DataFrame(lines)\n",
    "            df_关联 = df[0].str.split('\\|\\@\\|',expand = True).iloc[:,:-1]\n",
    "            df_关联.columns = ['客户编号','类罪','反洗钱报告编号','场景','客户名称','关联类型','关系类型详细描述','对公对私标志','证件类型','证件号码','关联人名称','关联人客户编号']\n",
    "            df_关联.to_csv(output_path + file.split('.')[0]+'.csv', encoding = 'utf-8',index = None)\n",
    "            print('关联Done！')\n",
    "        elif '_TRAN_' in file:\n",
    "            with open(os.path.join(path_name, file), encoding = 'utf-8') as f:\n",
    "                lines = f.readlines()\n",
    "            df = pd.DataFrame(lines)\n",
    "            df_流水 = df[0].str.split('\\|\\@\\|',expand = True).iloc[:,:-1]\n",
    "            df_流水.columns = ['类罪类型','反洗钱报告编号','场景类型','交易ID','客户编号','交易日期','明细来源','业务种类','业务条线','报送业务条线','明细序号','定活存标志','账卡标志','客户账号','客户名称','对公对私标志','客户年龄','国际卡卡币种','币种代码','存款种类','可售产品编号','资金用途代码','客户类型代码','交易时间','交易金额','折人民币金额','折美元金额','借贷标志','收付标志','交易种类','交易方式','汇款种类','交易渠道种类','交易流水号','全局事件跟踪号','交易柜员号','交易代码','交易机构','交易机构名称','交易发生地','交易所在国家地区代码','交易方向','凭证号码','凭证种类','摘要代码','摘要描述','账户性质','账户类型','资金用途','开户机构','开户机构名称','开户机构行政区划','反洗钱机构','反洗钱机构名称','开户日期','销户日期','上次明细交易日','产品种类','交易对手系统账号','交易对手账号修饰符','交易对手账户类型','交易对手账户性质','交易对手对公对私标志','交易对手客户账号','交易对手客户编号','交易对手客户名称','交易对手本外行标识','交易对手证件号码','交易对手证件类型','交易对手证件类型说明','交易对手商户编号','交易对手商户种类','交易对手开户机构','交易对手开户机构行政区划','交易对手定活存标志','交易对手金融机构代码','交易对手金融机构名称','交易对手金融机构行政区划','交易对手金融机构代码网点类型','交易对手国籍地区','终端信息','大额豁免标志','老可疑豁免标志','新可疑豁免标志','代理人姓名','代理人证件类型','代理人证件类型说明','代理人证件号码','代理人电话','代理人国籍地区','是否被代办','是否跨境交易','结算类型现金转账消费','是否跨行交易','是否异地交易','补录机构','账户余额','备注1','备注2']\n",
    "            df_流水.to_csv(output_path +file.split('.')[0]+'.csv', encoding = 'utf-8',index = None)\n",
    "            print('流水Done！')\n",
    "            df_流水汇总 = df_流水汇总.append(df_流水)\n",
    "            \n",
    "if not os.path.exists(output_path + '拆分'):\n",
    "    os.mkdir(output_path + '拆分')\n",
    "df_分编号 = df_流水汇总.groupby(['客户编号'],as_index = False).size()\n",
    "print(len(df_分编号))\n"
   ]
  },
  {
   "cell_type": "code",
   "execution_count": 9,
   "metadata": {},
   "outputs": [
    {
     "name": "stdout",
     "output_type": "stream",
     "text": [
      "0 1 2 3 4 5 6 7 8 9 10 11 12 13 14 15 16 17 18 19 20 21 22 23 24 25 26 27 28 29 30 31 32 33 34 35 36 37 38 39 40 41 42 43 44 45 46 47 48 49 50 51 52 53 54 55 56 57 58 59 60 61 62 63 64 65 66 67 68 69 70 71 72 73 74 75 76 77 78 79 80 81 82 83 84 85 86 87 88 89 90 91 92 93 94 95 96 97 98 99 100 101 102 103 104 105 106 107 108 109 110 111 112 113 114 115 116 117 118 119 120 121 122 123 124 125 126 127 128 129 130 131 132 133 134 135 136 137 138 139 140 141 142 143 144 145 146 147 148 149 150 151 152 153 154 155 156 157 158 159 160 161 162 163 164 165 166 167 168 Done!\n"
     ]
    }
   ],
   "source": [
    "for i in df_分编号.index:\n",
    "    df_every = df_流水汇总.groupby(['客户编号'],as_index = False).get_group(df_分编号['客户编号'][i]).sort_values(by = ['客户账号','交易日期','交易时间'],ascending=[True,True,True])\n",
    "    if len(df_every)<655360:\n",
    "        df_every.to_excel(output_path +'拆分\\\\'+ str(df_every['客户名称'].iloc[0])+str(df_every['客户编号'].iloc[0])+'.xlsx',index = None)\n",
    "        print(i,end = ' ')\n",
    "    else:\n",
    "        size = df_every.index.size\n",
    "        limit = 500000\n",
    "        sheets = int(size / limit)+1\n",
    "\n",
    "        with pd.ExcelWriter(output_path +'拆分\\\\'+ str(df_every['客户名称'].iloc[0])+str(df_every['客户编号'].iloc[0])+'.xlsx') as writer:\n",
    "            for j in range(sheets):\n",
    "                start = limit * j\n",
    "                stop = limit * (j+1)\n",
    "                print(str(i)+'-'+str(j),end = ' ')\n",
    "                data = df_every.iloc[start:stop].astype(str).replace('nan','')\n",
    "                data.to_excel(writer, sheet_name='sheet'+str(j),index = False)\n",
    "print('Done!')"
   ]
  },
  {
   "cell_type": "code",
   "execution_count": 2,
   "metadata": {},
   "outputs": [
    {
     "name": "stdout",
     "output_type": "stream",
     "text": [
      "Done!\n"
     ]
    }
   ],
   "source": [
    "df_every = df_流水汇总.groupby(['客户编号'],as_index = False).get_group('503190000103319851').sort_values(by = ['客户账号','交易日期','交易时间'],ascending=[True,True,True])\n",
    "df_every.to_excel(output_path +'拆分\\\\'+ str(df_every['客户名称'].iloc[0])+str(df_every['客户编号'].iloc[0])+'.xlsx',index = None)\n",
    "print('Done!')"
   ]
  },
  {
   "cell_type": "code",
   "execution_count": 4,
   "metadata": {},
   "outputs": [
    {
     "name": "stdout",
     "output_type": "stream",
     "text": [
      "对公基本Done！\n",
      "对公开户Done！\n",
      "对私基本Done！\n",
      "对私开户Done！\n"
     ]
    }
   ],
   "source": [
    "for path_name, dir, files_name in os.walk(os.getcwd()):\n",
    "    for file in files_name:\n",
    "        if '_IDV_BASE_IMG_' in file:\n",
    "            with open(os.path.join(path_name, file), encoding = 'utf-8') as f:\n",
    "                lines = f.readlines()\n",
    "            df = pd.DataFrame(lines)\n",
    "            df_对私基本 = df[0].str.split('\\|\\@\\|',expand = True).iloc[:,:-1]\n",
    "            df_对私基本.columns = ['客户编号','类罪','反洗钱报告编号','场景类型','客户姓名','证件类型','证件号码','性别','出生日期','年龄','民族','职业','职务','最佳联系电话','主地址','工作地址','国家地区代码','单位名称','个人住房贷款客户标志','非保本理财客户标志','保本理财客户标志','电话银行签约标志','短信金融签约标志','网上银行签约标志','手机银行签约标志','客户月均AUM值','单位客户编号','公司名称','四部委规模','客户所属行业','组织机构代码','营业执照号码','注册资本币种','注册资本','注册地址','经营地址','办公地址','员工人数','组织实收资本金额','经营状态代码','组织成立日期','机构经营范围说明','公司联系电话','法定代表人证件类型','法定代表人证件号码','法定代表人','授权代表人证件类型','授权代表人证件号码','授权代表人','业务联系人证件类型','业务联系人证件号码','业务联系人','实际控制人证件类型','实际控制人证件号码','实际控制人','受益所有人证件类型','受益所有人证件号码','受益所有人']\n",
    "            df_对私基本.to_csv(output_path + file.split('.')[0]+'.csv', encoding = 'utf-8',index = None)\n",
    "            print('对私基本Done！')\n",
    "        elif '_CORP_BASE_IMG_' in file:\n",
    "            with open(os.path.join(path_name, file), encoding = 'utf-8') as f:\n",
    "                lines = f.readlines()\n",
    "            df = pd.DataFrame(lines)\n",
    "            df_对公基本 = df[0].str.split('\\|\\@\\|',expand = True).iloc[:,:-1]\n",
    "            df_对公基本.columns = ['客户编号','类罪','反洗钱报告编号','场景类型','客户名称','所属机构','四部委规模','客户所属行业','组织机构代码','营业执照号码','注册资本币种','注册资本','组织实收资本金额','信贷客户标识','联系电话','注册地址','经营地址','办公地址','对公客户类型','员工人数','经营状态代码','组织成立日期','主营业务描述','机构经营范围说明','企业网银签约标识','企业手机银行签约标志','企业网银高级版签约标志','企业手机银行高级版签约标志','企业网银简版签约标志','企业手机银行简版签约标志','法定代表人证件类型','法定代表人证件号码','法定代表人','授权代表人证件类型','授权代表人证件号码','授权代表人','业务联系人证件类型','业务联系人证件号码','业务联系人','实际控制人证件类型','实际控制人证件号码','实际控制人','受益所有人证件类型','受益所有人证件号码','受益所有人']\n",
    "            df_对公基本.to_csv(output_path + file.split('.')[0]+'.csv', encoding = 'utf-8',index = None)\n",
    "            print('对公基本Done！')\n",
    "        elif '_IDV_OPN_ACCT_' in file:\n",
    "            with open(os.path.join(path_name, file), encoding = 'utf-8') as f:\n",
    "                lines = f.readlines()\n",
    "            df = pd.DataFrame(lines)\n",
    "            df_对私开户 = df[0].str.split('\\|\\@\\|',expand = True).iloc[:,:-1]\n",
    "            df_对私开户.columns = ['客户编号','类罪','反洗钱报告编号','场景类型','对公对私标志','账户开户名称','开户证件号码','客户账号','开户日期','存款账户余额','可用余额','币种代码','钞汇代码','开户机构编号','开户机构名称','开户二级分行名称','账户状态代码描述','销户日期','销户机构编号','联系电话','通讯地址','邮政编码','电子邮件地址','营业执照编号','国税登记号','地税登记号','企业法人姓名','企业法人证件类型','企业法人证件号码','授权代理人名称','授权代理人证件类型代码','授权代理人证件号码','最后交易营业日期','账户收付控制状态代码']\n",
    "            df_对私开户.to_csv(output_path + file.split('.')[0]+'.csv', encoding = 'utf-8',index = None)\n",
    "            print('对私开户Done！')\n",
    "        elif '_CORP_OPN_ACCT_' in file:\n",
    "            with open(os.path.join(path_name, file), encoding = 'utf-8') as f:\n",
    "                lines = f.readlines()\n",
    "            df = pd.DataFrame(lines)\n",
    "            df_对公开户 = df[0].str.split('\\|\\@\\|',expand = True).iloc[:,:-1]\n",
    "            df_对公开户.columns = ['客户编号','类罪','反洗钱报告编号','场景类型','对公对私标志','账户开户名称','开户证件号码','客户账号','开户日期','存款账户余额','可用余额','币种代码','钞汇代码','开户机构编号','开户机构名称','开户二级分行名称','账户状态代码描述','销户日期','销户机构编号','联系电话','通讯地址','邮政编码','电子邮件地址','营业执照编号','国税登记号','地税登记号','企业法人姓名','企业法人证件类型','企业法人证件号码','授权代理人名称','授权代理人证件类型代码','授权代理人证件号码','最后交易营业日期','账户收付控制状态代码']\n",
    "            df_对公开户.to_csv(output_path + file.split('.')[0]+'.csv', encoding = 'utf-8',index = None)\n",
    "            print('对公开户Done！')"
   ]
  },
  {
   "cell_type": "code",
   "execution_count": 13,
   "metadata": {
    "scrolled": true
   },
   "outputs": [
    {
     "ename": "IndexError",
     "evalue": "single positional indexer is out-of-bounds",
     "output_type": "error",
     "traceback": [
      "\u001b[1;31m---------------------------------------------------------------------------\u001b[0m",
      "\u001b[1;31mIndexError\u001b[0m                                Traceback (most recent call last)",
      "\u001b[1;32m<ipython-input-13-7f54f1ef51b7>\u001b[0m in \u001b[0;36m<module>\u001b[1;34m\u001b[0m\n\u001b[0;32m      3\u001b[0m \u001b[0mdf\u001b[0m \u001b[1;33m=\u001b[0m \u001b[0mpd\u001b[0m\u001b[1;33m.\u001b[0m\u001b[0mread_csv\u001b[0m\u001b[1;33m(\u001b[0m\u001b[1;34mr'K:\\0512场景二数据清洗\\P20210257_JS_FXQ_TRAN_20210512_0001.csv'\u001b[0m\u001b[1;33m,\u001b[0m \u001b[0mencoding\u001b[0m \u001b[1;33m=\u001b[0m \u001b[1;34m'utf-8'\u001b[0m\u001b[1;33m,\u001b[0m\u001b[0mdtype\u001b[0m \u001b[1;33m=\u001b[0m \u001b[0mobject\u001b[0m\u001b[1;33m)\u001b[0m\u001b[1;33m\u001b[0m\u001b[1;33m\u001b[0m\u001b[0m\n\u001b[0;32m      4\u001b[0m \u001b[0mdf_公司1\u001b[0m \u001b[1;33m=\u001b[0m \u001b[0mdf\u001b[0m\u001b[1;33m[\u001b[0m\u001b[0mdf\u001b[0m\u001b[1;33m[\u001b[0m\u001b[1;34m'客户编号'\u001b[0m\u001b[1;33m]\u001b[0m\u001b[1;33m==\u001b[0m\u001b[1;34m'156890000004038294'\u001b[0m\u001b[1;33m]\u001b[0m\u001b[1;33m.\u001b[0m\u001b[0msort_values\u001b[0m\u001b[1;33m(\u001b[0m\u001b[0mby\u001b[0m \u001b[1;33m=\u001b[0m \u001b[1;33m[\u001b[0m\u001b[1;34m'客户账号'\u001b[0m\u001b[1;33m,\u001b[0m\u001b[1;34m'交易日期'\u001b[0m\u001b[1;33m,\u001b[0m\u001b[1;34m'交易时间'\u001b[0m\u001b[1;33m]\u001b[0m\u001b[1;33m,\u001b[0m\u001b[0mascending\u001b[0m\u001b[1;33m=\u001b[0m\u001b[1;33m[\u001b[0m\u001b[1;32mTrue\u001b[0m\u001b[1;33m,\u001b[0m\u001b[1;32mTrue\u001b[0m\u001b[1;33m,\u001b[0m\u001b[1;32mTrue\u001b[0m\u001b[1;33m]\u001b[0m\u001b[1;33m)\u001b[0m\u001b[1;33m\u001b[0m\u001b[1;33m\u001b[0m\u001b[0m\n\u001b[1;32m----> 5\u001b[1;33m \u001b[0mdf_公司1\u001b[0m\u001b[1;33m.\u001b[0m\u001b[0mto_excel\u001b[0m\u001b[1;33m(\u001b[0m\u001b[0moutput_path\u001b[0m \u001b[1;33m+\u001b[0m\u001b[1;34m'拆分\\\\'\u001b[0m\u001b[1;33m+\u001b[0m \u001b[0mstr\u001b[0m\u001b[1;33m(\u001b[0m\u001b[0mdf_公司1\u001b[0m\u001b[1;33m[\u001b[0m\u001b[1;34m'客户名称'\u001b[0m\u001b[1;33m]\u001b[0m\u001b[1;33m.\u001b[0m\u001b[0miloc\u001b[0m\u001b[1;33m[\u001b[0m\u001b[1;36m0\u001b[0m\u001b[1;33m]\u001b[0m\u001b[1;33m)\u001b[0m\u001b[1;33m+\u001b[0m\u001b[0mstr\u001b[0m\u001b[1;33m(\u001b[0m\u001b[0mdf_公司1\u001b[0m\u001b[1;33m[\u001b[0m\u001b[1;34m'客户编号'\u001b[0m\u001b[1;33m]\u001b[0m\u001b[1;33m.\u001b[0m\u001b[0miloc\u001b[0m\u001b[1;33m[\u001b[0m\u001b[1;36m0\u001b[0m\u001b[1;33m]\u001b[0m\u001b[1;33m)\u001b[0m\u001b[1;33m+\u001b[0m\u001b[1;34m'.xlsx'\u001b[0m\u001b[1;33m,\u001b[0m\u001b[0mindex\u001b[0m \u001b[1;33m=\u001b[0m \u001b[1;32mNone\u001b[0m\u001b[1;33m)\u001b[0m\u001b[1;33m\u001b[0m\u001b[1;33m\u001b[0m\u001b[0m\n\u001b[0m",
      "\u001b[1;32m~\\anaconda3\\lib\\site-packages\\pandas\\core\\indexing.py\u001b[0m in \u001b[0;36m__getitem__\u001b[1;34m(self, key)\u001b[0m\n\u001b[0;32m    893\u001b[0m \u001b[1;33m\u001b[0m\u001b[0m\n\u001b[0;32m    894\u001b[0m             \u001b[0mmaybe_callable\u001b[0m \u001b[1;33m=\u001b[0m \u001b[0mcom\u001b[0m\u001b[1;33m.\u001b[0m\u001b[0mapply_if_callable\u001b[0m\u001b[1;33m(\u001b[0m\u001b[0mkey\u001b[0m\u001b[1;33m,\u001b[0m \u001b[0mself\u001b[0m\u001b[1;33m.\u001b[0m\u001b[0mobj\u001b[0m\u001b[1;33m)\u001b[0m\u001b[1;33m\u001b[0m\u001b[1;33m\u001b[0m\u001b[0m\n\u001b[1;32m--> 895\u001b[1;33m             \u001b[1;32mreturn\u001b[0m \u001b[0mself\u001b[0m\u001b[1;33m.\u001b[0m\u001b[0m_getitem_axis\u001b[0m\u001b[1;33m(\u001b[0m\u001b[0mmaybe_callable\u001b[0m\u001b[1;33m,\u001b[0m \u001b[0maxis\u001b[0m\u001b[1;33m=\u001b[0m\u001b[0maxis\u001b[0m\u001b[1;33m)\u001b[0m\u001b[1;33m\u001b[0m\u001b[1;33m\u001b[0m\u001b[0m\n\u001b[0m\u001b[0;32m    896\u001b[0m \u001b[1;33m\u001b[0m\u001b[0m\n\u001b[0;32m    897\u001b[0m     \u001b[1;32mdef\u001b[0m \u001b[0m_is_scalar_access\u001b[0m\u001b[1;33m(\u001b[0m\u001b[0mself\u001b[0m\u001b[1;33m,\u001b[0m \u001b[0mkey\u001b[0m\u001b[1;33m:\u001b[0m \u001b[0mTuple\u001b[0m\u001b[1;33m)\u001b[0m\u001b[1;33m:\u001b[0m\u001b[1;33m\u001b[0m\u001b[1;33m\u001b[0m\u001b[0m\n",
      "\u001b[1;32m~\\anaconda3\\lib\\site-packages\\pandas\\core\\indexing.py\u001b[0m in \u001b[0;36m_getitem_axis\u001b[1;34m(self, key, axis)\u001b[0m\n\u001b[0;32m   1499\u001b[0m \u001b[1;33m\u001b[0m\u001b[0m\n\u001b[0;32m   1500\u001b[0m             \u001b[1;31m# validate the location\u001b[0m\u001b[1;33m\u001b[0m\u001b[1;33m\u001b[0m\u001b[1;33m\u001b[0m\u001b[0m\n\u001b[1;32m-> 1501\u001b[1;33m             \u001b[0mself\u001b[0m\u001b[1;33m.\u001b[0m\u001b[0m_validate_integer\u001b[0m\u001b[1;33m(\u001b[0m\u001b[0mkey\u001b[0m\u001b[1;33m,\u001b[0m \u001b[0maxis\u001b[0m\u001b[1;33m)\u001b[0m\u001b[1;33m\u001b[0m\u001b[1;33m\u001b[0m\u001b[0m\n\u001b[0m\u001b[0;32m   1502\u001b[0m \u001b[1;33m\u001b[0m\u001b[0m\n\u001b[0;32m   1503\u001b[0m             \u001b[1;32mreturn\u001b[0m \u001b[0mself\u001b[0m\u001b[1;33m.\u001b[0m\u001b[0mobj\u001b[0m\u001b[1;33m.\u001b[0m\u001b[0m_ixs\u001b[0m\u001b[1;33m(\u001b[0m\u001b[0mkey\u001b[0m\u001b[1;33m,\u001b[0m \u001b[0maxis\u001b[0m\u001b[1;33m=\u001b[0m\u001b[0maxis\u001b[0m\u001b[1;33m)\u001b[0m\u001b[1;33m\u001b[0m\u001b[1;33m\u001b[0m\u001b[0m\n",
      "\u001b[1;32m~\\anaconda3\\lib\\site-packages\\pandas\\core\\indexing.py\u001b[0m in \u001b[0;36m_validate_integer\u001b[1;34m(self, key, axis)\u001b[0m\n\u001b[0;32m   1442\u001b[0m         \u001b[0mlen_axis\u001b[0m \u001b[1;33m=\u001b[0m \u001b[0mlen\u001b[0m\u001b[1;33m(\u001b[0m\u001b[0mself\u001b[0m\u001b[1;33m.\u001b[0m\u001b[0mobj\u001b[0m\u001b[1;33m.\u001b[0m\u001b[0m_get_axis\u001b[0m\u001b[1;33m(\u001b[0m\u001b[0maxis\u001b[0m\u001b[1;33m)\u001b[0m\u001b[1;33m)\u001b[0m\u001b[1;33m\u001b[0m\u001b[1;33m\u001b[0m\u001b[0m\n\u001b[0;32m   1443\u001b[0m         \u001b[1;32mif\u001b[0m \u001b[0mkey\u001b[0m \u001b[1;33m>=\u001b[0m \u001b[0mlen_axis\u001b[0m \u001b[1;32mor\u001b[0m \u001b[0mkey\u001b[0m \u001b[1;33m<\u001b[0m \u001b[1;33m-\u001b[0m\u001b[0mlen_axis\u001b[0m\u001b[1;33m:\u001b[0m\u001b[1;33m\u001b[0m\u001b[1;33m\u001b[0m\u001b[0m\n\u001b[1;32m-> 1444\u001b[1;33m             \u001b[1;32mraise\u001b[0m \u001b[0mIndexError\u001b[0m\u001b[1;33m(\u001b[0m\u001b[1;34m\"single positional indexer is out-of-bounds\"\u001b[0m\u001b[1;33m)\u001b[0m\u001b[1;33m\u001b[0m\u001b[1;33m\u001b[0m\u001b[0m\n\u001b[0m\u001b[0;32m   1445\u001b[0m \u001b[1;33m\u001b[0m\u001b[0m\n\u001b[0;32m   1446\u001b[0m     \u001b[1;31m# -------------------------------------------------------------------\u001b[0m\u001b[1;33m\u001b[0m\u001b[1;33m\u001b[0m\u001b[1;33m\u001b[0m\u001b[0m\n",
      "\u001b[1;31mIndexError\u001b[0m: single positional indexer is out-of-bounds"
     ]
    }
   ],
   "source": [
    "output_path = 'K:\\\\0512场景二数据清洗\\\\'\n",
    "import pandas as pd\n",
    "df = pd.read_csv(r'K:\\0512场景二数据清洗\\P20210257_JS_FXQ_TRAN_20210512_0001.csv', encoding = 'utf-8',dtype = object)\n",
    "df_公司1 = df[df['客户编号']=='156890000004038294'].sort_values(by = ['客户账号','交易日期','交易时间'],ascending=[True,True,True])\n",
    "df_公司1.to_excel(output_path +'拆分\\\\'+ str(df_公司1['客户名称'].iloc[0])+str(df_公司1['客户编号'].iloc[0])+'.xlsx',index = None)"
   ]
  },
  {
   "cell_type": "code",
   "execution_count": 3,
   "metadata": {},
   "outputs": [],
   "source": [
    "df_公司2 = df[df['客户编号']=='425811000008068577'].sort_values(by = ['客户账号','交易日期','交易时间'],ascending=[True,True,True])\n",
    "df_公司2.to_excel(output_path +'拆分\\\\'+ str(df_公司2['客户名称'].iloc[0])+str(df_公司2['客户编号'].iloc[0])+'.xlsx',index = None)"
   ]
  },
  {
   "cell_type": "code",
   "execution_count": 15,
   "metadata": {
    "collapsed": true
   },
   "outputs": [
    {
     "ename": "IndexError",
     "evalue": "single positional indexer is out-of-bounds",
     "output_type": "error",
     "traceback": [
      "\u001b[1;31m---------------------------------------------------------------------------\u001b[0m",
      "\u001b[1;31mIndexError\u001b[0m                                Traceback (most recent call last)",
      "\u001b[1;32m<ipython-input-15-c22cdbedbcd5>\u001b[0m in \u001b[0;36m<module>\u001b[1;34m\u001b[0m\n\u001b[0;32m      3\u001b[0m \u001b[0mdf\u001b[0m \u001b[1;33m=\u001b[0m \u001b[0mpd\u001b[0m\u001b[1;33m.\u001b[0m\u001b[0mread_csv\u001b[0m\u001b[1;33m(\u001b[0m\u001b[1;34mr'K:\\0512场景二数据清洗\\P20210257_JS_FXQ_TRAN_20210512_0002.csv'\u001b[0m\u001b[1;33m,\u001b[0m \u001b[0mencoding\u001b[0m \u001b[1;33m=\u001b[0m \u001b[1;34m'utf-8'\u001b[0m\u001b[1;33m,\u001b[0m\u001b[0mdtype\u001b[0m \u001b[1;33m=\u001b[0m \u001b[0mobject\u001b[0m\u001b[1;33m)\u001b[0m\u001b[1;33m\u001b[0m\u001b[1;33m\u001b[0m\u001b[0m\n\u001b[0;32m      4\u001b[0m \u001b[0mdf_公司3\u001b[0m \u001b[1;33m=\u001b[0m \u001b[0mdf\u001b[0m\u001b[1;33m[\u001b[0m\u001b[0mdf\u001b[0m\u001b[1;33m[\u001b[0m\u001b[1;34m'客户编号'\u001b[0m\u001b[1;33m]\u001b[0m\u001b[1;33m==\u001b[0m\u001b[1;34m'156890000004038294'\u001b[0m\u001b[1;33m]\u001b[0m\u001b[1;33m.\u001b[0m\u001b[0msort_values\u001b[0m\u001b[1;33m(\u001b[0m\u001b[0mby\u001b[0m \u001b[1;33m=\u001b[0m \u001b[1;33m[\u001b[0m\u001b[1;34m'客户账号'\u001b[0m\u001b[1;33m,\u001b[0m\u001b[1;34m'交易日期'\u001b[0m\u001b[1;33m,\u001b[0m\u001b[1;34m'交易时间'\u001b[0m\u001b[1;33m]\u001b[0m\u001b[1;33m,\u001b[0m\u001b[0mascending\u001b[0m\u001b[1;33m=\u001b[0m\u001b[1;33m[\u001b[0m\u001b[1;32mTrue\u001b[0m\u001b[1;33m,\u001b[0m\u001b[1;32mTrue\u001b[0m\u001b[1;33m,\u001b[0m\u001b[1;32mTrue\u001b[0m\u001b[1;33m]\u001b[0m\u001b[1;33m)\u001b[0m\u001b[1;33m\u001b[0m\u001b[1;33m\u001b[0m\u001b[0m\n\u001b[1;32m----> 5\u001b[1;33m \u001b[0mdf_公司3\u001b[0m\u001b[1;33m.\u001b[0m\u001b[0mto_excel\u001b[0m\u001b[1;33m(\u001b[0m\u001b[0moutput_path\u001b[0m \u001b[1;33m+\u001b[0m\u001b[1;34m'拆分\\\\'\u001b[0m\u001b[1;33m+\u001b[0m \u001b[0mstr\u001b[0m\u001b[1;33m(\u001b[0m\u001b[0mdf_公司3\u001b[0m\u001b[1;33m[\u001b[0m\u001b[1;34m'客户名称'\u001b[0m\u001b[1;33m]\u001b[0m\u001b[1;33m.\u001b[0m\u001b[0miloc\u001b[0m\u001b[1;33m[\u001b[0m\u001b[1;36m0\u001b[0m\u001b[1;33m]\u001b[0m\u001b[1;33m)\u001b[0m\u001b[1;33m+\u001b[0m\u001b[0mstr\u001b[0m\u001b[1;33m(\u001b[0m\u001b[0mdf_公司3\u001b[0m\u001b[1;33m[\u001b[0m\u001b[1;34m'客户编号'\u001b[0m\u001b[1;33m]\u001b[0m\u001b[1;33m.\u001b[0m\u001b[0miloc\u001b[0m\u001b[1;33m[\u001b[0m\u001b[1;36m0\u001b[0m\u001b[1;33m]\u001b[0m\u001b[1;33m)\u001b[0m\u001b[1;33m+\u001b[0m\u001b[1;34m'_2.xlsx'\u001b[0m\u001b[1;33m,\u001b[0m\u001b[0mindex\u001b[0m \u001b[1;33m=\u001b[0m \u001b[1;32mNone\u001b[0m\u001b[1;33m)\u001b[0m\u001b[1;33m\u001b[0m\u001b[1;33m\u001b[0m\u001b[0m\n\u001b[0m",
      "\u001b[1;32m~\\anaconda3\\lib\\site-packages\\pandas\\core\\indexing.py\u001b[0m in \u001b[0;36m__getitem__\u001b[1;34m(self, key)\u001b[0m\n\u001b[0;32m    893\u001b[0m \u001b[1;33m\u001b[0m\u001b[0m\n\u001b[0;32m    894\u001b[0m             \u001b[0mmaybe_callable\u001b[0m \u001b[1;33m=\u001b[0m \u001b[0mcom\u001b[0m\u001b[1;33m.\u001b[0m\u001b[0mapply_if_callable\u001b[0m\u001b[1;33m(\u001b[0m\u001b[0mkey\u001b[0m\u001b[1;33m,\u001b[0m \u001b[0mself\u001b[0m\u001b[1;33m.\u001b[0m\u001b[0mobj\u001b[0m\u001b[1;33m)\u001b[0m\u001b[1;33m\u001b[0m\u001b[1;33m\u001b[0m\u001b[0m\n\u001b[1;32m--> 895\u001b[1;33m             \u001b[1;32mreturn\u001b[0m \u001b[0mself\u001b[0m\u001b[1;33m.\u001b[0m\u001b[0m_getitem_axis\u001b[0m\u001b[1;33m(\u001b[0m\u001b[0mmaybe_callable\u001b[0m\u001b[1;33m,\u001b[0m \u001b[0maxis\u001b[0m\u001b[1;33m=\u001b[0m\u001b[0maxis\u001b[0m\u001b[1;33m)\u001b[0m\u001b[1;33m\u001b[0m\u001b[1;33m\u001b[0m\u001b[0m\n\u001b[0m\u001b[0;32m    896\u001b[0m \u001b[1;33m\u001b[0m\u001b[0m\n\u001b[0;32m    897\u001b[0m     \u001b[1;32mdef\u001b[0m \u001b[0m_is_scalar_access\u001b[0m\u001b[1;33m(\u001b[0m\u001b[0mself\u001b[0m\u001b[1;33m,\u001b[0m \u001b[0mkey\u001b[0m\u001b[1;33m:\u001b[0m \u001b[0mTuple\u001b[0m\u001b[1;33m)\u001b[0m\u001b[1;33m:\u001b[0m\u001b[1;33m\u001b[0m\u001b[1;33m\u001b[0m\u001b[0m\n",
      "\u001b[1;32m~\\anaconda3\\lib\\site-packages\\pandas\\core\\indexing.py\u001b[0m in \u001b[0;36m_getitem_axis\u001b[1;34m(self, key, axis)\u001b[0m\n\u001b[0;32m   1499\u001b[0m \u001b[1;33m\u001b[0m\u001b[0m\n\u001b[0;32m   1500\u001b[0m             \u001b[1;31m# validate the location\u001b[0m\u001b[1;33m\u001b[0m\u001b[1;33m\u001b[0m\u001b[1;33m\u001b[0m\u001b[0m\n\u001b[1;32m-> 1501\u001b[1;33m             \u001b[0mself\u001b[0m\u001b[1;33m.\u001b[0m\u001b[0m_validate_integer\u001b[0m\u001b[1;33m(\u001b[0m\u001b[0mkey\u001b[0m\u001b[1;33m,\u001b[0m \u001b[0maxis\u001b[0m\u001b[1;33m)\u001b[0m\u001b[1;33m\u001b[0m\u001b[1;33m\u001b[0m\u001b[0m\n\u001b[0m\u001b[0;32m   1502\u001b[0m \u001b[1;33m\u001b[0m\u001b[0m\n\u001b[0;32m   1503\u001b[0m             \u001b[1;32mreturn\u001b[0m \u001b[0mself\u001b[0m\u001b[1;33m.\u001b[0m\u001b[0mobj\u001b[0m\u001b[1;33m.\u001b[0m\u001b[0m_ixs\u001b[0m\u001b[1;33m(\u001b[0m\u001b[0mkey\u001b[0m\u001b[1;33m,\u001b[0m \u001b[0maxis\u001b[0m\u001b[1;33m=\u001b[0m\u001b[0maxis\u001b[0m\u001b[1;33m)\u001b[0m\u001b[1;33m\u001b[0m\u001b[1;33m\u001b[0m\u001b[0m\n",
      "\u001b[1;32m~\\anaconda3\\lib\\site-packages\\pandas\\core\\indexing.py\u001b[0m in \u001b[0;36m_validate_integer\u001b[1;34m(self, key, axis)\u001b[0m\n\u001b[0;32m   1442\u001b[0m         \u001b[0mlen_axis\u001b[0m \u001b[1;33m=\u001b[0m \u001b[0mlen\u001b[0m\u001b[1;33m(\u001b[0m\u001b[0mself\u001b[0m\u001b[1;33m.\u001b[0m\u001b[0mobj\u001b[0m\u001b[1;33m.\u001b[0m\u001b[0m_get_axis\u001b[0m\u001b[1;33m(\u001b[0m\u001b[0maxis\u001b[0m\u001b[1;33m)\u001b[0m\u001b[1;33m)\u001b[0m\u001b[1;33m\u001b[0m\u001b[1;33m\u001b[0m\u001b[0m\n\u001b[0;32m   1443\u001b[0m         \u001b[1;32mif\u001b[0m \u001b[0mkey\u001b[0m \u001b[1;33m>=\u001b[0m \u001b[0mlen_axis\u001b[0m \u001b[1;32mor\u001b[0m \u001b[0mkey\u001b[0m \u001b[1;33m<\u001b[0m \u001b[1;33m-\u001b[0m\u001b[0mlen_axis\u001b[0m\u001b[1;33m:\u001b[0m\u001b[1;33m\u001b[0m\u001b[1;33m\u001b[0m\u001b[0m\n\u001b[1;32m-> 1444\u001b[1;33m             \u001b[1;32mraise\u001b[0m \u001b[0mIndexError\u001b[0m\u001b[1;33m(\u001b[0m\u001b[1;34m\"single positional indexer is out-of-bounds\"\u001b[0m\u001b[1;33m)\u001b[0m\u001b[1;33m\u001b[0m\u001b[1;33m\u001b[0m\u001b[0m\n\u001b[0m\u001b[0;32m   1445\u001b[0m \u001b[1;33m\u001b[0m\u001b[0m\n\u001b[0;32m   1446\u001b[0m     \u001b[1;31m# -------------------------------------------------------------------\u001b[0m\u001b[1;33m\u001b[0m\u001b[1;33m\u001b[0m\u001b[1;33m\u001b[0m\u001b[0m\n",
      "\u001b[1;31mIndexError\u001b[0m: single positional indexer is out-of-bounds"
     ]
    }
   ],
   "source": [
    "output_path = 'K:\\\\0512场景二数据清洗\\\\'\n",
    "import pandas as pd\n",
    "df = pd.read_csv(r'K:\\0512场景二数据清洗\\P20210257_JS_FXQ_TRAN_20210512_0002.csv', encoding = 'utf-8',dtype = object)\n",
    "df_公司3 = df[df['客户编号']=='156890000004038294'].sort_values(by = ['客户账号','交易日期','交易时间'],ascending=[True,True,True])\n",
    "df_公司3.to_excel(output_path +'拆分\\\\'+ str(df_公司3['客户名称'].iloc[0])+str(df_公司3['客户编号'].iloc[0])+'_2.xlsx',index = None)"
   ]
  },
  {
   "cell_type": "code",
   "execution_count": 8,
   "metadata": {},
   "outputs": [],
   "source": []
  },
  {
   "cell_type": "code",
   "execution_count": 10,
   "metadata": {
    "collapsed": true
   },
   "outputs": [
    {
     "ename": "IndexError",
     "evalue": "single positional indexer is out-of-bounds",
     "output_type": "error",
     "traceback": [
      "\u001b[1;31m---------------------------------------------------------------------------\u001b[0m",
      "\u001b[1;31mIndexError\u001b[0m                                Traceback (most recent call last)",
      "\u001b[1;32m<ipython-input-10-8ac4e9c97a0a>\u001b[0m in \u001b[0;36m<module>\u001b[1;34m\u001b[0m\n\u001b[0;32m      3\u001b[0m \u001b[0mdf\u001b[0m \u001b[1;33m=\u001b[0m \u001b[0mpd\u001b[0m\u001b[1;33m.\u001b[0m\u001b[0mread_csv\u001b[0m\u001b[1;33m(\u001b[0m\u001b[1;34mr'K:\\0512场景二数据清洗\\P20210257_JS_FXQ_TRAN_20210512_0003.csv'\u001b[0m\u001b[1;33m,\u001b[0m \u001b[0mencoding\u001b[0m \u001b[1;33m=\u001b[0m \u001b[1;34m'utf-8'\u001b[0m\u001b[1;33m,\u001b[0m\u001b[0mdtype\u001b[0m \u001b[1;33m=\u001b[0m \u001b[0mobject\u001b[0m\u001b[1;33m)\u001b[0m\u001b[1;33m\u001b[0m\u001b[1;33m\u001b[0m\u001b[0m\n\u001b[0;32m      4\u001b[0m \u001b[0mdf_公司1\u001b[0m \u001b[1;33m=\u001b[0m \u001b[0mdf\u001b[0m\u001b[1;33m[\u001b[0m\u001b[0mdf\u001b[0m\u001b[1;33m[\u001b[0m\u001b[1;34m'客户编号'\u001b[0m\u001b[1;33m]\u001b[0m\u001b[1;33m==\u001b[0m\u001b[1;34m'156890000004038294'\u001b[0m\u001b[1;33m]\u001b[0m\u001b[1;33m.\u001b[0m\u001b[0msort_values\u001b[0m\u001b[1;33m(\u001b[0m\u001b[0mby\u001b[0m \u001b[1;33m=\u001b[0m \u001b[1;33m[\u001b[0m\u001b[1;34m'客户账号'\u001b[0m\u001b[1;33m,\u001b[0m\u001b[1;34m'交易日期'\u001b[0m\u001b[1;33m,\u001b[0m\u001b[1;34m'交易时间'\u001b[0m\u001b[1;33m]\u001b[0m\u001b[1;33m,\u001b[0m\u001b[0mascending\u001b[0m\u001b[1;33m=\u001b[0m\u001b[1;33m[\u001b[0m\u001b[1;32mTrue\u001b[0m\u001b[1;33m,\u001b[0m\u001b[1;32mTrue\u001b[0m\u001b[1;33m,\u001b[0m\u001b[1;32mTrue\u001b[0m\u001b[1;33m]\u001b[0m\u001b[1;33m)\u001b[0m\u001b[1;33m\u001b[0m\u001b[1;33m\u001b[0m\u001b[0m\n\u001b[1;32m----> 5\u001b[1;33m \u001b[0mdf_公司1\u001b[0m\u001b[1;33m.\u001b[0m\u001b[0mto_csv\u001b[0m\u001b[1;33m(\u001b[0m\u001b[0moutput_path\u001b[0m \u001b[1;33m+\u001b[0m\u001b[1;34m'拆分\\\\'\u001b[0m\u001b[1;33m+\u001b[0m \u001b[0mstr\u001b[0m\u001b[1;33m(\u001b[0m\u001b[0mdf_公司1\u001b[0m\u001b[1;33m[\u001b[0m\u001b[1;34m'客户名称'\u001b[0m\u001b[1;33m]\u001b[0m\u001b[1;33m.\u001b[0m\u001b[0miloc\u001b[0m\u001b[1;33m[\u001b[0m\u001b[1;36m0\u001b[0m\u001b[1;33m]\u001b[0m\u001b[1;33m)\u001b[0m\u001b[1;33m+\u001b[0m\u001b[0mstr\u001b[0m\u001b[1;33m(\u001b[0m\u001b[0mdf_公司1\u001b[0m\u001b[1;33m[\u001b[0m\u001b[1;34m'客户编号'\u001b[0m\u001b[1;33m]\u001b[0m\u001b[1;33m.\u001b[0m\u001b[0miloc\u001b[0m\u001b[1;33m[\u001b[0m\u001b[1;36m0\u001b[0m\u001b[1;33m]\u001b[0m\u001b[1;33m)\u001b[0m\u001b[1;33m+\u001b[0m\u001b[1;34m'.csv'\u001b[0m\u001b[1;33m,\u001b[0m\u001b[0mindex\u001b[0m \u001b[1;33m=\u001b[0m \u001b[1;32mNone\u001b[0m\u001b[1;33m)\u001b[0m\u001b[1;33m\u001b[0m\u001b[1;33m\u001b[0m\u001b[0m\n\u001b[0m\u001b[0;32m      6\u001b[0m \u001b[0mpirnt\u001b[0m\u001b[1;33m(\u001b[0m\u001b[1;34m'Done!'\u001b[0m\u001b[1;33m)\u001b[0m\u001b[1;33m\u001b[0m\u001b[1;33m\u001b[0m\u001b[0m\n",
      "\u001b[1;32m~\\anaconda3\\lib\\site-packages\\pandas\\core\\indexing.py\u001b[0m in \u001b[0;36m__getitem__\u001b[1;34m(self, key)\u001b[0m\n\u001b[0;32m    893\u001b[0m \u001b[1;33m\u001b[0m\u001b[0m\n\u001b[0;32m    894\u001b[0m             \u001b[0mmaybe_callable\u001b[0m \u001b[1;33m=\u001b[0m \u001b[0mcom\u001b[0m\u001b[1;33m.\u001b[0m\u001b[0mapply_if_callable\u001b[0m\u001b[1;33m(\u001b[0m\u001b[0mkey\u001b[0m\u001b[1;33m,\u001b[0m \u001b[0mself\u001b[0m\u001b[1;33m.\u001b[0m\u001b[0mobj\u001b[0m\u001b[1;33m)\u001b[0m\u001b[1;33m\u001b[0m\u001b[1;33m\u001b[0m\u001b[0m\n\u001b[1;32m--> 895\u001b[1;33m             \u001b[1;32mreturn\u001b[0m \u001b[0mself\u001b[0m\u001b[1;33m.\u001b[0m\u001b[0m_getitem_axis\u001b[0m\u001b[1;33m(\u001b[0m\u001b[0mmaybe_callable\u001b[0m\u001b[1;33m,\u001b[0m \u001b[0maxis\u001b[0m\u001b[1;33m=\u001b[0m\u001b[0maxis\u001b[0m\u001b[1;33m)\u001b[0m\u001b[1;33m\u001b[0m\u001b[1;33m\u001b[0m\u001b[0m\n\u001b[0m\u001b[0;32m    896\u001b[0m \u001b[1;33m\u001b[0m\u001b[0m\n\u001b[0;32m    897\u001b[0m     \u001b[1;32mdef\u001b[0m \u001b[0m_is_scalar_access\u001b[0m\u001b[1;33m(\u001b[0m\u001b[0mself\u001b[0m\u001b[1;33m,\u001b[0m \u001b[0mkey\u001b[0m\u001b[1;33m:\u001b[0m \u001b[0mTuple\u001b[0m\u001b[1;33m)\u001b[0m\u001b[1;33m:\u001b[0m\u001b[1;33m\u001b[0m\u001b[1;33m\u001b[0m\u001b[0m\n",
      "\u001b[1;32m~\\anaconda3\\lib\\site-packages\\pandas\\core\\indexing.py\u001b[0m in \u001b[0;36m_getitem_axis\u001b[1;34m(self, key, axis)\u001b[0m\n\u001b[0;32m   1499\u001b[0m \u001b[1;33m\u001b[0m\u001b[0m\n\u001b[0;32m   1500\u001b[0m             \u001b[1;31m# validate the location\u001b[0m\u001b[1;33m\u001b[0m\u001b[1;33m\u001b[0m\u001b[1;33m\u001b[0m\u001b[0m\n\u001b[1;32m-> 1501\u001b[1;33m             \u001b[0mself\u001b[0m\u001b[1;33m.\u001b[0m\u001b[0m_validate_integer\u001b[0m\u001b[1;33m(\u001b[0m\u001b[0mkey\u001b[0m\u001b[1;33m,\u001b[0m \u001b[0maxis\u001b[0m\u001b[1;33m)\u001b[0m\u001b[1;33m\u001b[0m\u001b[1;33m\u001b[0m\u001b[0m\n\u001b[0m\u001b[0;32m   1502\u001b[0m \u001b[1;33m\u001b[0m\u001b[0m\n\u001b[0;32m   1503\u001b[0m             \u001b[1;32mreturn\u001b[0m \u001b[0mself\u001b[0m\u001b[1;33m.\u001b[0m\u001b[0mobj\u001b[0m\u001b[1;33m.\u001b[0m\u001b[0m_ixs\u001b[0m\u001b[1;33m(\u001b[0m\u001b[0mkey\u001b[0m\u001b[1;33m,\u001b[0m \u001b[0maxis\u001b[0m\u001b[1;33m=\u001b[0m\u001b[0maxis\u001b[0m\u001b[1;33m)\u001b[0m\u001b[1;33m\u001b[0m\u001b[1;33m\u001b[0m\u001b[0m\n",
      "\u001b[1;32m~\\anaconda3\\lib\\site-packages\\pandas\\core\\indexing.py\u001b[0m in \u001b[0;36m_validate_integer\u001b[1;34m(self, key, axis)\u001b[0m\n\u001b[0;32m   1442\u001b[0m         \u001b[0mlen_axis\u001b[0m \u001b[1;33m=\u001b[0m \u001b[0mlen\u001b[0m\u001b[1;33m(\u001b[0m\u001b[0mself\u001b[0m\u001b[1;33m.\u001b[0m\u001b[0mobj\u001b[0m\u001b[1;33m.\u001b[0m\u001b[0m_get_axis\u001b[0m\u001b[1;33m(\u001b[0m\u001b[0maxis\u001b[0m\u001b[1;33m)\u001b[0m\u001b[1;33m)\u001b[0m\u001b[1;33m\u001b[0m\u001b[1;33m\u001b[0m\u001b[0m\n\u001b[0;32m   1443\u001b[0m         \u001b[1;32mif\u001b[0m \u001b[0mkey\u001b[0m \u001b[1;33m>=\u001b[0m \u001b[0mlen_axis\u001b[0m \u001b[1;32mor\u001b[0m \u001b[0mkey\u001b[0m \u001b[1;33m<\u001b[0m \u001b[1;33m-\u001b[0m\u001b[0mlen_axis\u001b[0m\u001b[1;33m:\u001b[0m\u001b[1;33m\u001b[0m\u001b[1;33m\u001b[0m\u001b[0m\n\u001b[1;32m-> 1444\u001b[1;33m             \u001b[1;32mraise\u001b[0m \u001b[0mIndexError\u001b[0m\u001b[1;33m(\u001b[0m\u001b[1;34m\"single positional indexer is out-of-bounds\"\u001b[0m\u001b[1;33m)\u001b[0m\u001b[1;33m\u001b[0m\u001b[1;33m\u001b[0m\u001b[0m\n\u001b[0m\u001b[0;32m   1445\u001b[0m \u001b[1;33m\u001b[0m\u001b[0m\n\u001b[0;32m   1446\u001b[0m     \u001b[1;31m# -------------------------------------------------------------------\u001b[0m\u001b[1;33m\u001b[0m\u001b[1;33m\u001b[0m\u001b[1;33m\u001b[0m\u001b[0m\n",
      "\u001b[1;31mIndexError\u001b[0m: single positional indexer is out-of-bounds"
     ]
    }
   ],
   "source": [
    "output_path = 'K:\\\\0512场景二数据清洗\\\\'\n",
    "import pandas as pd\n",
    "df = pd.read_csv(r'K:\\0512场景二数据清洗\\P20210257_JS_FXQ_TRAN_20210512_0003.csv', encoding = 'utf-8',dtype = object)\n",
    "df_公司1 = df[df['客户编号']=='156890000004038294'].sort_values(by = ['客户账号','交易日期','交易时间'],ascending=[True,True,True])\n",
    "df_公司1.to_csv(output_path +'拆分\\\\'+ str(df_公司1['客户名称'].iloc[0])+str(df_公司1['客户编号'].iloc[0])+'_3.csv',index = None)\n",
    "pirnt('Done!')"
   ]
  },
  {
   "cell_type": "code",
   "execution_count": 14,
   "metadata": {},
   "outputs": [
    {
     "data": {
      "text/html": [
       "<div>\n",
       "<style scoped>\n",
       "    .dataframe tbody tr th:only-of-type {\n",
       "        vertical-align: middle;\n",
       "    }\n",
       "\n",
       "    .dataframe tbody tr th {\n",
       "        vertical-align: top;\n",
       "    }\n",
       "\n",
       "    .dataframe thead th {\n",
       "        text-align: right;\n",
       "    }\n",
       "</style>\n",
       "<table border=\"1\" class=\"dataframe\">\n",
       "  <thead>\n",
       "    <tr style=\"text-align: right;\">\n",
       "      <th></th>\n",
       "      <th>类罪类型</th>\n",
       "      <th>反洗钱报告编号</th>\n",
       "      <th>场景类型</th>\n",
       "      <th>交易ID</th>\n",
       "      <th>客户编号</th>\n",
       "      <th>交易日期</th>\n",
       "      <th>明细来源</th>\n",
       "      <th>业务种类</th>\n",
       "      <th>业务条线</th>\n",
       "      <th>报送业务条线</th>\n",
       "      <th>...</th>\n",
       "      <th>代理人国籍地区</th>\n",
       "      <th>是否被代办</th>\n",
       "      <th>是否跨境交易</th>\n",
       "      <th>结算类型现金转账消费</th>\n",
       "      <th>是否跨行交易</th>\n",
       "      <th>是否异地交易</th>\n",
       "      <th>补录机构</th>\n",
       "      <th>账户余额</th>\n",
       "      <th>备注1</th>\n",
       "      <th>备注2</th>\n",
       "    </tr>\n",
       "  </thead>\n",
       "  <tbody>\n",
       "  </tbody>\n",
       "</table>\n",
       "<p>0 rows × 99 columns</p>\n",
       "</div>"
      ],
      "text/plain": [
       "Empty DataFrame\n",
       "Columns: [类罪类型, 反洗钱报告编号, 场景类型, 交易ID, 客户编号, 交易日期, 明细来源, 业务种类, 业务条线, 报送业务条线, 明细序号, 定活存标志, 账卡标志, 客户账号, 客户名称, 对公对私标志, 客户年龄, 国际卡卡币种, 币种代码, 存款种类, 可售产品编号, 资金用途代码, 客户类型代码, 交易时间, 交易金额, 折人民币金额, 折美元金额, 借贷标志, 收付标志, 交易种类, 交易方式, 汇款种类, 交易渠道种类, 交易流水号, 全局事件跟踪号, 交易柜员号, 交易代码, 交易机构, 交易机构名称, 交易发生地, 交易所在国家地区代码, 交易方向, 凭证号码, 凭证种类, 摘要代码, 摘要描述, 账户性质, 账户类型, 资金用途, 开户机构, 开户机构名称, 开户机构行政区划, 反洗钱机构, 反洗钱机构名称, 开户日期, 销户日期, 上次明细交易日, 产品种类, 交易对手系统账号, 交易对手账号修饰符, 交易对手账户类型, 交易对手账户性质, 交易对手对公对私标志, 交易对手客户账号, 交易对手客户编号, 交易对手客户名称, 交易对手本外行标识, 交易对手证件号码, 交易对手证件类型, 交易对手证件类型说明, 交易对手商户编号, 交易对手商户种类, 交易对手开户机构, 交易对手开户机构行政区划, 交易对手定活存标志, 交易对手金融机构代码, 交易对手金融机构名称, 交易对手金融机构行政区划, 交易对手金融机构代码网点类型, 交易对手国籍地区, 终端信息, 大额豁免标志, 老可疑豁免标志, 新可疑豁免标志, 代理人姓名, 代理人证件类型, 代理人证件类型说明, 代理人证件号码, 代理人电话, 代理人国籍地区, 是否被代办, 是否跨境交易, 结算类型现金转账消费, 是否跨行交易, 是否异地交易, 补录机构, 账户余额, 备注1, 备注2]\n",
       "Index: []\n",
       "\n",
       "[0 rows x 99 columns]"
      ]
     },
     "execution_count": 14,
     "metadata": {},
     "output_type": "execute_result"
    }
   ],
   "source": [
    "df_公司1"
   ]
  },
  {
   "cell_type": "code",
   "execution_count": null,
   "metadata": {},
   "outputs": [],
   "source": []
  }
 ],
 "metadata": {
  "kernelspec": {
   "display_name": "Python 3",
   "language": "python",
   "name": "python3"
  },
  "language_info": {
   "codemirror_mode": {
    "name": "ipython",
    "version": 3
   },
   "file_extension": ".py",
   "mimetype": "text/x-python",
   "name": "python",
   "nbconvert_exporter": "python",
   "pygments_lexer": "ipython3",
   "version": "3.8.8"
  }
 },
 "nbformat": 4,
 "nbformat_minor": 4
}
