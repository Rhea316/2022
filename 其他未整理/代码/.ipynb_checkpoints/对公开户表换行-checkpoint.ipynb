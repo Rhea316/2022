{
 "cells": [
  {
   "cell_type": "markdown",
   "metadata": {},
   "source": [
    "针对对公开户"
   ]
  },
  {
   "cell_type": "code",
   "execution_count": 1,
   "metadata": {},
   "outputs": [
    {
     "name": "stdout",
     "output_type": "stream",
     "text": [
      "<class 'str'>\n",
      "<class 'list'>\n",
      "<class 'list'>\n",
      "<class 'list'>\n",
      "Done!\n"
     ]
    }
   ],
   "source": [
    "with open(r'C:\\Users\\admin\\Desktop\\P20210257_JS_FXQ_0511\\P20210257_JS_FXQ_CORP_OPN_ACCT_20210511_0001.dat', encoding = 'utf-8') as f:\n",
    "    lines = f.readlines()\n",
    "\n",
    "str_lines = ''.join(lines)\n",
    "str1 = str_lines.replace('\\n@|','|@|')\n",
    "str1 = str1.replace('\\n','')          #全部拼接成字符串str1\n",
    "print(type(str1))\n",
    "\n",
    "import re\n",
    "pattern_对公 = r'(\\|\\@\\|)(\\d+\\|\\@\\|\\D+\\|\\@\\|[0-9a-zA-Z]+\\|\\@\\|\\D{3}\\|\\@\\|\\d\\|\\@\\|\\D+\\|\\@\\|[0-9a-zA-Z\\s]+\\|\\@\\|\\d+\\|\\@\\|\\d+\\-\\d+\\-\\d+)'\n",
    "# regex = re.compile(pattern_对公, flags = re.IGNORECASE)\n",
    "\n",
    "list2 = re.split(pattern_对公, str1)           # 正则表达式识别 |@|、客户编号-开户日期、其他字段，三部分分割成list\n",
    "print(type(list2))\n",
    "list3 = ['\\n|@|' if x=='|@|' else x for x in list2]    # 正则表达式识别，客户编号字段前|@|前加\\n\n",
    "print(type(list3))\n",
    "list4 = re.split('\\n',''.join(list3))   # 按\\n 把字符串分割成list\n",
    "print(type(list4))\n",
    "\n",
    "import pandas as pd\n",
    "df = pd.DataFrame(list4)\n",
    "df = df[df[0] != '']\n",
    "df1 = df\n",
    "df1[0][0]= '|@|'+ str(df[0][0])\n",
    "df_换行 = df1[0].str.split('\\|\\@\\|',expand = True).iloc[:,1:-1]\n",
    "df_换行.columns = ['客户编号','类罪','反洗钱报告编号','场景类型','对公对私标志','账户开户名称','开户证件号码','客户账号','开户日期','存款账户余额','可用余额','币种代码','钞汇代码','开户机构编号','开户机构名称','开户二级分行名称','账户状态代码描述','销户日期','销户机构编号','联系电话','通讯地址','邮政编码','电子邮件地址','营业执照编号','国税登记号','地税登记号','企业法人姓名','企业法人证件类型','企业法人证件号码','授权代理人名称','授权代理人证件类型代码','授权代理人证件号码','最后交易营业日期','账户收付控制状态代码']\n",
    "df_换行.to_csv(r'C:\\Users\\admin\\Desktop\\P20210257_JS_FXQ_CORP_OPN_ACCT_20210511_0001_split.csv', encoding = 'utf-8',index = None)\n",
    "\n",
    "print('Done!')"
   ]
  },
  {
   "cell_type": "code",
   "execution_count": 23,
   "metadata": {},
   "outputs": [],
   "source": [
    "df_换行.to_excel(r'C:\\Users\\admin\\Desktop\\P20210257_JS_FXQ_CORP_OPN_ACCT_20210511_0001_split.xlsx',index = None)"
   ]
  },
  {
   "cell_type": "code",
   "execution_count": null,
   "metadata": {},
   "outputs": [],
   "source": []
  }
 ],
 "metadata": {
  "kernelspec": {
   "display_name": "Python 3",
   "language": "python",
   "name": "python3"
  },
  "language_info": {
   "codemirror_mode": {
    "name": "ipython",
    "version": 3
   },
   "file_extension": ".py",
   "mimetype": "text/x-python",
   "name": "python",
   "nbconvert_exporter": "python",
   "pygments_lexer": "ipython3",
   "version": "3.8.8"
  }
 },
 "nbformat": 4,
 "nbformat_minor": 4
}
