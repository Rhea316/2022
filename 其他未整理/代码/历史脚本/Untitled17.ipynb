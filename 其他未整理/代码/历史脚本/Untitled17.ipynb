{
 "cells": [
  {
   "cell_type": "code",
   "execution_count": 1,
   "metadata": {},
   "outputs": [],
   "source": [
    "import pandas as pd\n",
    "import os\n",
    "\n",
    "os.chdir(\"F:\\\\1\\\\\")\n",
    "file_list = []\n",
    "for path_name, dir, files_name in os.walk(os.getcwd()):\n",
    "    for file in files_name:\n",
    "        file_list.append(os.path.join(path_name, file))\n",
    "file_list\n",
    "\n",
    "df = pd.DataFrame()\n",
    "for i in range(len(file_list)):\n",
    "    df1 = pd.read_excel(file_list[i],encoding='utf-8',header=None)\n",
    "    df = df.append(df1)\n",
    "\n"
   ]
  },
  {
   "cell_type": "code",
   "execution_count": null,
   "metadata": {},
   "outputs": [],
   "source": [
    "筛选值为"
   ]
  },
  {
   "cell_type": "code",
   "execution_count": 4,
   "metadata": {
    "scrolled": true
   },
   "outputs": [
    {
     "name": "stdout",
     "output_type": "stream",
     "text": [
      "Done!\n"
     ]
    }
   ],
   "source": [
    "import pandas as pd\n",
    "df = pd.read_csv(\"F:\\新建文件夹\\\\滁州传销.csv\",encoding='utf-8',low_memory=False)\n",
    "df=df[df['sfz'].isin(['460031199510160823'])].astype(str).replace(\"nan\",\"\")\n",
    "df.head()\n",
    "df.to_excel(\"F:\\新建文件夹\\\\0823.xlsx\",encoding='utf-8')\n",
    "print(\"Done!\")"
   ]
  },
  {
   "cell_type": "code",
   "execution_count": null,
   "metadata": {},
   "outputs": [],
   "source": []
  }
 ],
 "metadata": {
  "kernelspec": {
   "display_name": "Python 3",
   "language": "python",
   "name": "python3"
  },
  "language_info": {
   "codemirror_mode": {
    "name": "ipython",
    "version": 3
   },
   "file_extension": ".py",
   "mimetype": "text/x-python",
   "name": "python",
   "nbconvert_exporter": "python",
   "pygments_lexer": "ipython3",
   "version": "3.7.6"
  }
 },
 "nbformat": 4,
 "nbformat_minor": 4
}
