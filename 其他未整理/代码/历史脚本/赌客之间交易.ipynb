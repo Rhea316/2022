{
 "cells": [
  {
   "cell_type": "code",
   "execution_count": null,
   "metadata": {},
   "outputs": [],
   "source": [
    "import pandas as pd\n",
    "import numpy as np\n",
    "import re\n",
    "output_path = 'D:\\\\1120流水清洗\\\\'\n",
    "\n",
    "df = pd.read_csv(output_path + \"流水完整.csv\",encoding = 'utf-8',dtype = object)\n",
    "df = df.applymap(lambda x: re.sub('nan','',str(x)))\n",
    "df['交易金额'] = df['交易金额'].map(lambda x: float(x))  #交易金额指定浮点型\n",
    "df['交易余额'] = df['交易余额'].map(lambda x: np.NaN if str(x)=='' else x)\n",
    "df['交易余额'] = df['交易余额'].map(lambda x: float(x))\n",
    "\n",
    "df赌客流水 =  df[df['path'].str.contains('600余个查询结果')]\n",
    "df_赌客之间交易记录 = df赌客流水[df赌客流水['交易对手账卡号'].isin(df赌客流水['交易卡号'])]\n",
    "df_赌客之间交易记录.to_excel( \"C:\\\\Users\\\\John\\\\Desktop\\\\赌客之间交易记录.xlsx\",index = None )\n",
    "print('Done!')"
   ]
  }
 ],
 "metadata": {
  "kernelspec": {
   "display_name": "Python 3",
   "language": "python",
   "name": "python3"
  },
  "language_info": {
   "codemirror_mode": {
    "name": "ipython",
    "version": 3
   },
   "file_extension": ".py",
   "mimetype": "text/x-python",
   "name": "python",
   "nbconvert_exporter": "python",
   "pygments_lexer": "ipython3",
   "version": "3.7.6"
  }
 },
 "nbformat": 4,
 "nbformat_minor": 4
}
