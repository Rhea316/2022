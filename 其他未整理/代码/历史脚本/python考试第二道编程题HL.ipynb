{
 "cells": [
  {
   "cell_type": "code",
   "execution_count": 25,
   "metadata": {},
   "outputs": [
    {
     "name": "stdout",
     "output_type": "stream",
     "text": [
      "Done!\n"
     ]
    }
   ],
   "source": [
    "import pandas as pd\n",
    "import re\n",
    "import os\n",
    "df = pd.read_table(r'C:\\Users\\ThinkPad\\Desktop\\python考试题目\\编程题-第2题\\第二题.txt',encoding = 'gbk',sep='|')\n",
    "df = df.applymap(lambda x: re.sub('nan','',str(x)))\n",
    "df = df.drop(df[(df['交易金额']=='0.00')].index)\n",
    "df['对方帐号/摘要'][df['对方帐号/摘要']==''] = df['客户账号'][df['对方帐号/摘要']=='']+'的对方用途:'+df[df['对方帐号/摘要']==''].apply(lambda x: x['摘要'] if x['摘要']!='' else '',axis=1)\n",
    "df = df.drop_duplicates()\n",
    "output_path = 'C:\\\\Users\\\\ThinkPad\\\\Desktop\\\\'\n",
    "if not os.path.exists(output_path + './python答案HL'):\n",
    "    os.mkdir(output_path + './python答案HL')\n",
    "df.to_csv(output_path + 'python答案HL\\\\编程题第二题.csv',index = None)\n",
    "print('Done!')"
   ]
  },
  {
   "cell_type": "code",
   "execution_count": null,
   "metadata": {},
   "outputs": [],
   "source": []
  }
 ],
 "metadata": {
  "kernelspec": {
   "display_name": "Python 3",
   "language": "python",
   "name": "python3"
  },
  "language_info": {
   "codemirror_mode": {
    "name": "ipython",
    "version": 3
   },
   "file_extension": ".py",
   "mimetype": "text/x-python",
   "name": "python",
   "nbconvert_exporter": "python",
   "pygments_lexer": "ipython3",
   "version": "3.7.6"
  }
 },
 "nbformat": 4,
 "nbformat_minor": 4
}
