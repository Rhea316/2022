{
 "cells": [
  {
   "cell_type": "code",
   "execution_count": 1,
   "metadata": {},
   "outputs": [
    {
     "name": "stdout",
     "output_type": "stream",
     "text": [
      " 1 1.0000\n",
      " 2 1.5000\n",
      " 3 1.8333\n",
      " 4 2.0833\n",
      " 5 2.2833\n",
      " 6 2.4500\n",
      " 7 2.5929\n",
      " 8 2.7179\n",
      " 9 2.8290\n",
      "10 2.9290\n"
     ]
    }
   ],
   "source": [
    "sum = 0\n",
    "for i in range(1, 11):\n",
    "    sum += 1.0 / i\n",
    "    print(\"{:2d} {:6.4f}\".format(i , sum))"
   ]
  },
  {
   "cell_type": "code",
   "execution_count": 2,
   "metadata": {},
   "outputs": [
    {
     "name": "stdout",
     "output_type": "stream",
     "text": [
      "Enter amount: 10000\n",
      "Enter Interest rate: 0.14\n",
      "Enter period: 5\n",
      "Year 1 Rs. 11400.00\n",
      "Year 2 Rs. 12996.00\n",
      "Year 3 Rs. 14815.44\n",
      "Year 4 Rs. 16889.60\n",
      "Year 5 Rs. 19254.15\n"
     ]
    }
   ],
   "source": [
    "amount = float(input(\"Enter amount: \"))  # 输入数额\n",
    "inrate = float(input(\"Enter Interest rate: \"))  # 输入利率\n",
    "period = int(input(\"Enter period: \"))  # 输入期限\n",
    "value = 0\n",
    "year = 1\n",
    "while year <= period:\n",
    "    value = amount + (inrate * amount)\n",
    "    print(\"Year {} Rs. {:.2f}\".format(year, value))\n",
    "    amount = value\n",
    "    year = year + 1"
   ]
  },
  {
   "cell_type": "code",
   "execution_count": 3,
   "metadata": {},
   "outputs": [
    {
     "name": "stdout",
     "output_type": "stream",
     "text": [
      "Enter days: 17\n",
      "Months = 0 Days = 17\n"
     ]
    }
   ],
   "source": [
    "days = int(input(\"Enter days: \"))\n",
    "months = days // 30\n",
    "days = days % 30\n",
    "print(\"Months = {} Days = {}\".format(months, days))"
   ]
  },
  {
   "cell_type": "code",
   "execution_count": 4,
   "metadata": {},
   "outputs": [
    {
     "name": "stdout",
     "output_type": "stream",
     "text": [
      "Enter value of a: 3\n",
      "Enter value of b: 4\n",
      "Enter value of c: 5\n",
      "ROOTS are imaginary\n"
     ]
    }
   ],
   "source": [
    "import math\n",
    "a = int(input(\"Enter value of a: \"))\n",
    "b = int(input(\"Enter value of b: \"))\n",
    "c = int(input(\"Enter value of c: \"))\n",
    "d = b * b - 4 * a * c\n",
    "if d < 0:\n",
    "    print(\"ROOTS are imaginary\")\n",
    "else:\n",
    "    root1 = (-b + math.sqrt(d)) / (2 * a)\n",
    "    root2 = (-b - math.sqrt(d)) / (2 * a)\n",
    "    print(\"Root 1 = \", root1)\n",
    "    print(\"Root 2 = \", root2)"
   ]
  },
  {
   "cell_type": "code",
   "execution_count": 5,
   "metadata": {},
   "outputs": [
    {
     "name": "stdout",
     "output_type": "stream",
     "text": [
      "Enter value of a: 16\n",
      "Enter value of b: 24\n",
      "Enter value of c: 32\n",
      "ROOTS are imaginary\n"
     ]
    }
   ],
   "source": [
    "import math\n",
    "a = int(input(\"Enter value of a: \"))\n",
    "b = int(input(\"Enter value of b: \"))\n",
    "c = int(input(\"Enter value of c: \"))\n",
    "d = b * b - 4 * a * c\n",
    "if d < 0:\n",
    "    print(\"ROOTS are imaginary\")\n",
    "else:\n",
    "    root1 = (-b + math.sqrt(d)) / (2 * a)\n",
    "    root2 = (-b - math.sqrt(d)) / (2 * a)\n",
    "    print(\"Root 1 = \", root1)\n",
    "    print(\"Root 2 = \", root2)"
   ]
  },
  {
   "cell_type": "code",
   "execution_count": null,
   "metadata": {},
   "outputs": [],
   "source": [
    "n = int(input(\"Enter the number of students: \"))\n",
    "data = {} # 用来存储数据的字典变量\n",
    "Subjects = ('Physics', 'Maths', 'History') # 所有科目\n",
    "for i in range(0, n):\n",
    "    name = input('Enter the name of the student {}: '.format(i + 1)) # 获得学生名称\n",
    "    marks = []\n",
    "    for x in Subjects:\n",
    "        marks.append(int(input('Enter marks of {}: '.format(x)))) # 获得每一科的分数\n",
    "    data[name] = marks\n",
    "for x, y in data.items():\n",
    "    total = sum(y[:])\n",
    "    print(\"{}'s total marks {}\".format(x, total))\n",
    "    if total < 120:\n",
    "        print(x, \"failed :(\")\n",
    "    else:\n",
    "        print(x, \"passed :)\")"
   ]
  },
  {
   "cell_type": "code",
   "execution_count": null,
   "metadata": {},
   "outputs": [],
   "source": []
  }
 ],
 "metadata": {
  "kernelspec": {
   "display_name": "Python 3",
   "language": "python",
   "name": "python3"
  },
  "language_info": {
   "codemirror_mode": {
    "name": "ipython",
    "version": 3
   },
   "file_extension": ".py",
   "mimetype": "text/x-python",
   "name": "python",
   "nbconvert_exporter": "python",
   "pygments_lexer": "ipython3",
   "version": "3.8.8"
  }
 },
 "nbformat": 4,
 "nbformat_minor": 2
}
