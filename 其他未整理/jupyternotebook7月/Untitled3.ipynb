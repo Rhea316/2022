{
 "cells": [
  {
   "cell_type": "code",
   "execution_count": 2,
   "metadata": {},
   "outputs": [
    {
     "name": "stdout",
     "output_type": "stream",
     "text": [
      "Enter the number of students: 1\n",
      "Enter the name of the student 1: leo\n",
      "Enter marks of Physics: 19\n",
      "Enter marks of Maths: 354\n",
      "Enter marks of History: 0\n",
      "leo's total marks 373\n",
      "leo passed :)\n"
     ]
    }
   ],
   "source": [
    "n = int(input(\"Enter the number of students: \"))\n",
    "data = {} # 用来存储数据的字典变量\n",
    "Subjects = ('Physics', 'Maths', 'History') # 所有科目\n",
    "for i in range(0, n):\n",
    "    name = input('Enter the name of the student {}: '.format(i + 1)) # 获得学生名称\n",
    "    marks = []\n",
    "    for x in Subjects:\n",
    "        marks.append(int(input('Enter marks of {}: '.format(x)))) # 获得每一科的分数\n",
    "    data[name] = marks\n",
    "for x, y in data.items():\n",
    "    total =  sum(y[:])\n",
    "    print(\"{}'s total marks {}\".format(x, total))\n",
    "    if total < 120:\n",
    "        print(x, \"failed :(\")\n",
    "    else:\n",
    "        print(x, \"passed :)\")"
   ]
  },
  {
   "cell_type": "code",
   "execution_count": null,
   "metadata": {},
   "outputs": [],
   "source": []
  }
 ],
 "metadata": {
  "kernelspec": {
   "display_name": "Python 3",
   "language": "python",
   "name": "python3"
  },
  "language_info": {
   "codemirror_mode": {
    "name": "ipython",
    "version": 3
   },
   "file_extension": ".py",
   "mimetype": "text/x-python",
   "name": "python",
   "nbconvert_exporter": "python",
   "pygments_lexer": "ipython3",
   "version": "3.7.3"
  }
 },
 "nbformat": 4,
 "nbformat_minor": 2
}
